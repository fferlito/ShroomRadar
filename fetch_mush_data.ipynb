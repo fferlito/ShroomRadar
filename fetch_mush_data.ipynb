{
 "cells": [
  {
   "cell_type": "markdown",
   "metadata": {},
   "source": [
    "# Import modules"
   ]
  },
  {
   "cell_type": "code",
   "execution_count": null,
   "metadata": {},
   "outputs": [],
   "source": [
    "from pyinaturalist import (\n",
    "    Observation,\n",
    "    enable_logging,\n",
    "    get_observation_species_counts,\n",
    "    get_observations,\n",
    ")\n",
    "\n",
    "enable_logging()"
   ]
  },
  {
   "cell_type": "markdown",
   "metadata": {},
   "source": [
    "# Try to get one observation"
   ]
  },
  {
   "cell_type": "code",
   "execution_count": null,
   "metadata": {},
   "outputs": [],
   "source": [
    "# Replace with your own username\n",
    "response = get_observations(taxon_name=\"Boletus\")\n",
    "my_observations = Observation.from_json_list(response)"
   ]
  },
  {
   "cell_type": "markdown",
   "metadata": {},
   "source": [
    "# Fetch observations\n",
    "\n",
    "Change the 'species' to the desired mushroom type"
   ]
  },
  {
   "cell_type": "code",
   "execution_count": null,
   "metadata": {},
   "outputs": [],
   "source": [
    "import pandas as pd\n",
    "\n",
    "df = pd.DataFrame()\n",
    "\n",
    "species = \"Boletus\"\n",
    "page_id = 1\n",
    "my_observations = [1]\n",
    "while len(my_observations) != 0:\n",
    "      try:\n",
    "            response = get_observations(taxon_name=species, photos=True, page=page_id, per_page=200, quality_grade='research', rank=\"species\")\n",
    "            my_observations = Observation.from_json_list(response)\n",
    "            page_id += 1\n",
    "\n",
    "      except:\n",
    "            my_observations = []\n",
    "            pass\n",
    "\n",
    "      for i in my_observations:\n",
    "                        try:\n",
    "                              df = pd.concat([df, pd.DataFrame([{'species': 'Boletus', 'location': i.location, 'observed_on': i.observed_on}])], ignore_index=True)\n",
    "                        except:\n",
    "                              pass\n"
   ]
  },
  {
   "cell_type": "code",
   "execution_count": null,
   "metadata": {},
   "outputs": [],
   "source": [
    "df.to_csv(\"data/boletus_genus.csv\")"
   ]
  },
  {
   "cell_type": "code",
   "execution_count": null,
   "metadata": {},
   "outputs": [],
   "source": [
    "df.observed_on.sort_values"
   ]
  }
 ],
 "metadata": {
  "kernelspec": {
   "display_name": "gchm",
   "language": "python",
   "name": "python3"
  },
  "language_info": {
   "codemirror_mode": {
    "name": "ipython",
    "version": 3
   },
   "file_extension": ".py",
   "mimetype": "text/x-python",
   "name": "python",
   "nbconvert_exporter": "python",
   "pygments_lexer": "ipython3",
   "version": "3.9.23"
  }
 },
 "nbformat": 4,
 "nbformat_minor": 2
}
