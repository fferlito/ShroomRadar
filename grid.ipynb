{
 "cells": [
  {
   "cell_type": "code",
   "execution_count": 1,
   "metadata": {},
   "outputs": [],
   "source": [
    "import geopandas as gpd\n",
    "import numpy as np\n",
    "from shapely.geometry import box\n",
    "\n",
    "def create_grid(bounds, grid_size, crs):\n",
    "    min_x, min_y, max_x, max_y = bounds\n",
    "    cols = list(np.arange(min_x, max_x, grid_size))\n",
    "    rows = list(np.arange(min_y, max_y, grid_size))\n",
    "    polygons = []\n",
    "    for x in cols:\n",
    "        for y in rows:\n",
    "            polygons.append(box(x, y, x+grid_size, y+grid_size))\n",
    "    return gpd.GeoDataFrame({'geometry':polygons}, crs=crs)\n",
    "\n",
    "# Load the GeoJSON file containing the polygons\n",
    "data = gpd.read_file('spain.geojson')\n",
    "\n",
    "# Define a projected CRS in meters (e.g., UTM)\n",
    "projected_crs = 'EPSG:32630'  # UTM Zone 30N\n",
    "\n",
    "# Project the original data to the projected CRS\n",
    "data_projected = data.to_crs(projected_crs)\n",
    "\n",
    "# Get the extent of Spain in the projected CRS\n",
    "extent_projected = data_projected.total_bounds\n",
    "\n",
    "# Define the grid size in meters\n",
    "grid_size = 3000  # 30 km\n",
    "\n",
    "# Create the grid\n",
    "grid = create_grid(extent_projected, grid_size, projected_crs)\n",
    "\n",
    "# Intersect the grid with the Spain polygon\n",
    "grid_intersection = gpd.overlay(grid, data_projected, how='intersection')\n",
    "\n",
    "# Save the grid as a GeoJSON file\n",
    "grid_intersection.to_file('spain_grid_3km.geojson', driver='GeoJSON')\n"
   ]
  },
  {
   "cell_type": "code",
   "execution_count": null,
   "metadata": {},
   "outputs": [],
   "source": []
  }
 ],
 "metadata": {
  "kernelspec": {
   "display_name": "fungi",
   "language": "python",
   "name": "python3"
  },
  "language_info": {
   "codemirror_mode": {
    "name": "ipython",
    "version": 3
   },
   "file_extension": ".py",
   "mimetype": "text/x-python",
   "name": "python",
   "nbconvert_exporter": "python",
   "pygments_lexer": "ipython3",
   "version": "3.8.8"
  }
 },
 "nbformat": 4,
 "nbformat_minor": 2
}
