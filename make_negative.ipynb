{
 "cells": [
  {
   "cell_type": "markdown",
   "metadata": {},
   "source": [
    "# Generative negative sample points\n",
    "\n",
    "This script will generate 10.000 random locations with random times worldwide"
   ]
  },
  {
   "cell_type": "code",
   "execution_count": 6,
   "metadata": {},
   "outputs": [
    {
     "name": "stdout",
     "output_type": "stream",
     "text": [
      "Generated 10000 negative samples and saved to negative_samples.csv\n"
     ]
    }
   ],
   "source": [
    "import csv\n",
    "import random\n",
    "from datetime import datetime, timedelta\n",
    "\n",
    "# Define the number of samples you want\n",
    "num_samples = 10000\n",
    "\n",
    "# Generate negative samples\n",
    "data = []\n",
    "for i in range(num_samples):\n",
    "    # Generate random latitude and longitude coordinates\n",
    "    latitude = random.uniform(-90, 90)\n",
    "    longitude = random.uniform(-180, 180)\n",
    "\n",
    "    # Generate a random date between 2000-01-01 and 2023-12-31\n",
    "    start_date = datetime(2000, 1, 1)\n",
    "    end_date = datetime(2023, 12, 31)\n",
    "    random_date = start_date + timedelta(days=random.randint(0, (end_date - start_date).days))\n",
    "\n",
    "    # Format the coordinates and date\n",
    "    location = f\"({latitude}, {longitude})\"\n",
    "    observed_on = random_date.strftime('%Y-%m-%d %H:%M:%S')\n",
    "\n",
    "    # Append the sample to the data list\n",
    "    data.append({'species': None, 'location': location, 'observed_on': observed_on})\n",
    "\n",
    "# Write the data to a CSV file\n",
    "output_file = \"data/negative_samples.csv\"\n",
    "fieldnames = ['species', 'location', 'observed_on']\n",
    "with open(output_file, \"w\", newline=\"\") as csvfile:\n",
    "    writer = csv.DictWriter(csvfile, fieldnames=fieldnames)\n",
    "    writer.writeheader()\n",
    "    writer.writerows(data)\n",
    "\n",
    "print(f\"Generated {num_samples} negative samples and saved to {output_file}\")\n"
   ]
  },
  {
   "cell_type": "markdown",
   "metadata": {},
   "source": [
    "# Generative negative sample points within a region \n",
    "\n",
    "This script will generate 10.000 random locations with random times inside of a given geometry. "
   ]
  },
  {
   "cell_type": "code",
   "execution_count": 12,
   "metadata": {},
   "outputs": [
    {
     "name": "stdout",
     "output_type": "stream",
     "text": [
      "Generated 10000 negative samples within the polygons and saved to negative_samples_within_polygons.csv\n"
     ]
    }
   ],
   "source": [
    "import json\n",
    "from shapely.geometry import shape, Point\n",
    "import csv\n",
    "import random\n",
    "from datetime import datetime, timedelta\n",
    "\n",
    "# Load the GeoJSON polygons\n",
    "with open('spain.geojson', 'r') as f:\n",
    "    geojson_data = json.load(f)\n",
    "\n",
    "# Extract polygons from the GeoJSON data\n",
    "polygons = [shape(feature['geometry']) for feature in geojson_data['features']]\n",
    "\n",
    "# Define the number of samples you want\n",
    "num_samples = 10000\n",
    "\n",
    "# Generate negative samples\n",
    "data = []\n",
    "while len(data) < num_samples:\n",
    "    # Generate random latitude and longitude coordinates\n",
    "    latitude = random.uniform(-90, 90)\n",
    "    longitude = random.uniform(-180, 180)\n",
    "\n",
    "    # Create a Point object from the coordinates\n",
    "    point = Point(longitude, latitude)\n",
    "\n",
    "    # Check if the point falls within any of the polygons\n",
    "    if any(polygon.contains(point) for polygon in polygons):\n",
    "        # Generate a random date between 2000-01-01 and 2023-12-31\n",
    "        start_date = datetime(2000, 1, 1)\n",
    "        end_date = datetime(2023, 12, 31)\n",
    "        random_date = start_date + timedelta(days=random.randint(0, (end_date - start_date).days))\n",
    "\n",
    "        # Format the coordinates and date\n",
    "        location = f\"({latitude}, {longitude})\"\n",
    "        observed_on = random_date.strftime('%Y-%m-%d %H:%M:%S')\n",
    "\n",
    "        # Append the sample to the data list\n",
    "        data.append({'species': None, 'location': location, 'observed_on': observed_on})\n",
    "\n",
    "# Write the data to a CSV file\n",
    "output_file = \"negative_samples_within_polygons.csv\"\n",
    "fieldnames = ['species', 'location', 'observed_on']\n",
    "with open(output_file, \"w\", newline=\"\") as csvfile:\n",
    "    writer = csv.DictWriter(csvfile, fieldnames=fieldnames)\n",
    "    writer.writeheader()\n",
    "    writer.writerows(data)\n",
    "\n",
    "print(f\"Generated {num_samples} negative samples within the polygons and saved to {output_file}\")\n"
   ]
  }
 ],
 "metadata": {
  "kernelspec": {
   "display_name": "fungi",
   "language": "python",
   "name": "python3"
  },
  "language_info": {
   "codemirror_mode": {
    "name": "ipython",
    "version": 3
   },
   "file_extension": ".py",
   "mimetype": "text/x-python",
   "name": "python",
   "nbconvert_exporter": "python",
   "pygments_lexer": "ipython3",
   "version": "3.8.8"
  }
 },
 "nbformat": 4,
 "nbformat_minor": 2
}
