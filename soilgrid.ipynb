{
 "cells": [
  {
   "cell_type": "code",
   "execution_count": 6,
   "metadata": {},
   "outputs": [
    {
     "name": "stderr",
     "output_type": "stream",
     "text": [
      "Fetching soil data:   0%|          | 0/222 [00:00<?, ?it/s]"
     ]
    },
    {
     "name": "stderr",
     "output_type": "stream",
     "text": []
    },
    {
     "name": "stdout",
     "output_type": "stream",
     "text": [
      "{'bdod': 1.087398}\n"
     ]
    },
    {
     "name": "stderr",
     "output_type": "stream",
     "text": []
    },
    {
     "name": "stdout",
     "output_type": "stream",
     "text": [
      "{'bdod': 1.087398, 'cec': 22.78699}\n"
     ]
    }
   ],
   "source": [
    "import pandas as pd\n",
    "import matplotlib.pyplot as plt\n",
    "from soilgrids import SoilGrids\n",
    "from tqdm import tqdm\n",
    "\n",
    "# Initialize the SoilGrids object\n",
    "soil_grids = SoilGrids()\n",
    "\n",
    "# Load the CSV file with sample points\n",
    "df = pd.read_csv(\"data/spain_positive_ready_with_el_aspect.csv\")\n",
    "\n",
    "# Define correction factors for each property\n",
    "conversion_factors = {\n",
    "    'bdod': 100,  # Bulk density (cg/cm³ to kg/dm³)\n",
    "    'cec': 10,    # Cation Exchange Capacity (mmol(c)/kg to cmol(c)/kg)\n",
    "    'cfvo': 10,   # Volumetric fraction of coarse fragments (cm3/dm³ to cm³/100cm³)\n",
    "    'clay': 10,   # Proportion of clay particles (g/kg to g/100g)\n",
    "    'nitrogen': 100,  # Total nitrogen (cg/kg to g/kg)\n",
    "    'phh2o': 10,    # Soil pH (pHx10 to pH)\n",
    "    'sand': 10,     # Proportion of sand particles (g/kg to g/100g)\n",
    "    'silt': 10,     # Proportion of silt particles (g/kg to g/100g)\n",
    "    'soc': 10,      # Soil organic carbon content (dg/kg to g/kg)\n",
    "    'ocd': 10,      # Organic carbon density (hg/m³ to kg/m³)\n",
    "    'ocs': 10,      # Organic carbon stocks (t/ha to kg/m²)\n",
    "}\n",
    "\n",
    "# Initialize new columns for soil properties (e.g., pH, organic carbon, etc.)\n",
    "df['bdod'] = float('nan')  # Bulk density\n",
    "df['cec'] = float('nan')   # Cation Exchange Capacity\n",
    "df['cfvo'] = float('nan')  # Coarse fragments fraction\n",
    "df['clay'] = float('nan')  # Clay content\n",
    "df['nitrogen'] = float('nan')  # Nitrogen content\n",
    "df['phh2o'] = float('nan')  # Soil pH\n",
    "df['sand'] = float('nan')  # Sand content\n",
    "df['silt'] = float('nan')  # Silt content\n",
    "df['soc'] = float('nan')   # Soil organic carbon\n",
    "df['ocd'] = float('nan')   # Organic carbon density\n",
    "df['ocs'] = float('nan')   # Organic carbon stocks\n",
    "\n",
    "# Function to get soil data for a specific point\n",
    "def get_soil_data(lon, lat, properties=None, grid_size=(100, 100)):\n",
    "    if properties is None:\n",
    "        properties = list(conversion_factors.keys())  # Use all properties by default\n",
    "    \n",
    "    # Define the bounding box around the point (with a small buffer size)\n",
    "    buffer_size = 0.001  # Adjust as necessary for your dataset\n",
    "    west = lon - buffer_size\n",
    "    east = lon + buffer_size\n",
    "    south = lat - buffer_size\n",
    "    north = lat + buffer_size\n",
    "    \n",
    "    # Fetch soil data for each property\n",
    "    soil_data = {}\n",
    "    for property in tqdm(properties):\n",
    "        try:\n",
    "            # Special case for Organic Carbon Stocks (ocs) as it requires a different coverage ID\n",
    "            if property == 'ocs':\n",
    "                coverage_id = f'{property}_0-30cm_mean'  # Choose the mean coverage ID for ocs\n",
    "            else:\n",
    "                coverage_id = f'{property}_0-5cm_mean'  # Default coverage ID for other properties\n",
    "            \n",
    "            # Fetch the data for each property with width and height parameters\n",
    "            data = soil_grids.get_coverage_data(service_id=property, coverage_id=coverage_id, \n",
    "                                                 west=west, south=south, east=east, north=north, \n",
    "                                                 crs='urn:ogc:def:crs:EPSG::4326', output=\"temp/soil.tif\", \n",
    "                                                 width=grid_size[0], height=grid_size[1])  # Add width and height\n",
    "            \n",
    "            # Apply the conversion factor and store the mean value\n",
    "            mean_value = data.mean()  # Get the mean value of the grid cell\n",
    "            soil_data[property] = float(mean_value / conversion_factors[property])\n",
    "            print(soil_data)\n",
    "        except Exception as e:\n",
    "            print(f\"Error fetching data for {property} at ({lon}, {lat}): {e}\")\n",
    "            soil_data[property] = None\n",
    "    \n",
    "    return soil_data\n",
    "\n",
    "# Iterate over each row and get the soil data\n",
    "for idx, row in tqdm(df.iterrows(), total=df.shape[0], desc=\"Fetching soil data\"):\n",
    "    lon, lat = row['longitude'], row['latitude']\n",
    "    \n",
    "    # Get the soil properties for this location\n",
    "    soil_properties = get_soil_data(lon, lat)\n",
    "    \n",
    "    # Update the dataframe with the soil properties\n",
    "    for property in soil_properties:\n",
    "        df.at[idx, property] = soil_properties.get(property)\n",
    "        print(df.at[idx, property])\n",
    "\n",
    "# Save the updated DataFrame to a new CSV file\n",
    "df.to_csv(\"data/spain_boletus_final.csv\", index=False)\n",
    "\n",
    "# Optional: Visualize a specific soil property (e.g., Soil pH)\n",
    "df[['longitude', 'latitude', 'phh2o']].plot.scatter(x='longitude', y='latitude', c='phh2o', cmap='viridis')\n",
    "plt.title('Soil pH (0-5 cm depth) across the locations')\n",
    "plt.colorbar(label='Soil pH')\n",
    "plt.show()\n"
   ]
  },
  {
   "cell_type": "code",
   "execution_count": null,
   "metadata": {},
   "outputs": [],
   "source": []
  }
 ],
 "metadata": {
  "kernelspec": {
   "display_name": "fungi",
   "language": "python",
   "name": "python3"
  },
  "language_info": {
   "codemirror_mode": {
    "name": "ipython",
    "version": 3
   },
   "file_extension": ".py",
   "mimetype": "text/x-python",
   "name": "python",
   "nbconvert_exporter": "python",
   "pygments_lexer": "ipython3",
   "version": "3.8.8"
  }
 },
 "nbformat": 4,
 "nbformat_minor": 2
}
