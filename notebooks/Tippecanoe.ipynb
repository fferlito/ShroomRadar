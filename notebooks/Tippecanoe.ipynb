{
 "cells": [
  {
   "cell_type": "code",
   "execution_count": null,
   "id": "1804922b",
   "metadata": {},
   "outputs": [],
   "source": [
    "docker run --rm -v C:\\Users\\ferli\\Documents\\ShroomRadar:/data ingmapping/tippecanoe tippecanoe -f -e /data/tiles -Z6 -z14 --no-tile-compression --no-feature-limit --no-tile-size-limit --preserve-input-order /data/shroomradar/data/outputs/grid_tuscany_with_topography_predictions.geojson\n"
   ]
  },
  {
   "cell_type": "code",
   "execution_count": null,
   "id": "f8a52e5e",
   "metadata": {},
   "outputs": [
    {
     "name": "stdout",
     "output_type": "stream",
     "text": [
      "Found 9780 files to upload\n"
     ]
    }
   ],
   "source": [
    "\n",
    "\n",
    "import os\n",
    "from concurrent.futures import ThreadPoolExecutor, as_completed\n",
    "from google.cloud import storage\n",
    "\n",
    "# Local tiles directory\n",
    "tiles_dir = r\"C:\\Users\\ferli\\Documents\\ShroomRadar\\tiles\"\n",
    "\n",
    "# GCS client + bucket\n",
    "client = storage.Client()\n",
    "bucket = client.bucket(\"mushroom-radar-tiles\")\n",
    "\n",
    "# Collect all files first\n",
    "file_list = []\n",
    "for root, _, files in os.walk(tiles_dir):\n",
    "    for file in files:\n",
    "        local_path = os.path.join(root, file)\n",
    "        remote_path = \"tiles/\" + os.path.relpath(local_path, tiles_dir).replace(\"\\\\\", \"/\")\n",
    "        file_list.append((local_path, remote_path))\n",
    "\n",
    "print(f\"Found {len(file_list)} files to upload\")\n",
    "\n",
    "def upload_file(local_remote):\n",
    "    local_path, remote_path = local_remote\n",
    "    blob = bucket.blob(remote_path)\n",
    "    blob.cache_control = \"no-store\"  # avoid CDN caching issues\n",
    "    blob.upload_from_filename(local_path)\n",
    "    return remote_path\n",
    "\n",
    "# Upload in parallel\n",
    "max_workers = 32  # tune based on CPU/connection\n",
    "with ThreadPoolExecutor(max_workers=max_workers) as executor:\n",
    "    futures = {executor.submit(upload_file, f): f for f in file_list}\n",
    "    for i, future in enumerate(as_completed(futures), 1):\n",
    "        try:\n",
    "            remote_path = future.result()\n",
    "            if i % 1000 == 0:  # print every N uploads\n",
    "                print(f\"[{i}/{len(file_list)}] Uploaded {remote_path}\")\n",
    "        except Exception as e:\n",
    "            print(f\"❌ Error uploading {futures[future][1]}: {e}\")\n"
   ]
  },
  {
   "cell_type": "code",
   "execution_count": null,
   "id": "245f4a38",
   "metadata": {},
   "outputs": [],
   "source": []
  },
  {
   "cell_type": "code",
   "execution_count": null,
   "id": "ab5bf58d",
   "metadata": {},
   "outputs": [],
   "source": []
  },
  {
   "cell_type": "code",
   "execution_count": null,
   "id": "24320891",
   "metadata": {},
   "outputs": [],
   "source": []
  }
 ],
 "metadata": {
  "kernelspec": {
   "display_name": ".venv",
   "language": "python",
   "name": "python3"
  },
  "language_info": {
   "codemirror_mode": {
    "name": "ipython",
    "version": 3
   },
   "file_extension": ".py",
   "mimetype": "text/x-python",
   "name": "python",
   "nbconvert_exporter": "python",
   "pygments_lexer": "ipython3",
   "version": "3.13.7"
  }
 },
 "nbformat": 4,
 "nbformat_minor": 5
}
