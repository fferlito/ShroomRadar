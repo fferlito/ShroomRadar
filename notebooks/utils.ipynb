{
 "cells": [
  {
   "cell_type": "markdown",
   "id": "2784149e",
   "metadata": {},
   "source": [
    "# remove empty rows"
   ]
  },
  {
   "cell_type": "code",
   "execution_count": null,
   "id": "f33fb131",
   "metadata": {},
   "outputs": [],
   "source": [
    "\n",
    "import os\n",
    "import csv\n",
    "import numpy as np\n",
    "import pandas as pd\n",
    "import xarray as xr\n",
    "from tqdm import tqdm   # ✅ added\n",
    "\n",
    "def check_for_nans(row, variables):\n",
    "    \"\"\"Check for NaN values in specified columns and indicate if any are present.\"\"\"\n",
    "    return any(pd.isnull(row[var]) for var in variables)\n",
    "\n",
    "# Example usage within the notebook (assuming processing is already defined)\n",
    "if __name__ == \"__main__\":\n",
    "    input_path = \"path/to/input.csv\"\n",
    "    output_path = \"path/to/output.csv\"\n",
    "    nan_variables = [\"variable1\", \"variable2\"]  # Define the variables to check\n",
    "\n",
    "    # Load the CSV into a DataFrame\n",
    "    df = pd.read_csv(input_path)\n",
    "\n",
    "    # Check for NaNs in specified columns and add a new column 'has_nan'\n",
    "    df['has_nan'] = df.apply(lambda row: check_for_nans(row, nan_variables), axis=1)\n",
    "\n",
    "    # Save the processed DataFrame to a new CSV\n",
    "    df.to_csv(output_path, index=False)\n"
   ]
  },
  {
   "cell_type": "markdown",
   "id": "db9a87f8",
   "metadata": {},
   "source": [
    "# convert nc to tif\n"
   ]
  },
  {
   "cell_type": "code",
   "execution_count": null,
   "id": "ed84c93a",
   "metadata": {},
   "outputs": [],
   "source": [
    "from shroomradar.src.utils import nc_to_geotiff\n",
    "\n",
    "nc_file = \"new_data/NRT/Temp/Daily/2025253.nc\"\n",
    "tif_file = \"temp_2025253.tif\"\n",
    "\n",
    "nc_to_geotiff(nc_file, tif_file)"
   ]
  }
 ],
 "metadata": {
  "language_info": {
   "name": "python"
  }
 },
 "nbformat": 4,
 "nbformat_minor": 5
}
