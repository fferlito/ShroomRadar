{
 "cells": [
  {
   "cell_type": "markdown",
   "metadata": {},
   "source": [
    "# Test library"
   ]
  },
  {
   "cell_type": "code",
   "execution_count": null,
   "metadata": {},
   "outputs": [],
   "source": [
    "import os\n",
    "import sys\n",
    "\n",
    "# Add the parent directory to the path to find modules\n",
    "sys.path.insert(0, os.path.abspath('..'))\n",
    "os.chdir('..')\n",
    "import earthaccess\n",
    "from dotenv import load_dotenv\n",
    "\n",
    "# Load environment variables from .env file\n",
    "load_dotenv()\n",
    "\n",
    "# Login using environment variables\n",
    "auth = earthaccess.login(strategy=\"environment\")\n",
    "\n",
    "# Search for Rome area\n",
    "results = earthaccess.search_data(\n",
    "    short_name=\"SRTMGL1\",\n",
    "    version=\"003\",\n",
    "    bounding_box=(12.35, 41.8, 12.65, 42.0)  # min lon, min lat, max lon, max lat\n",
    ")\n",
    "\n",
    "# Download tiles\n",
    "paths = earthaccess.download(results, \"./srtm_tiles\")\n",
    "print(paths)\n"
   ]
  },
  {
   "cell_type": "markdown",
   "metadata": {},
   "source": [
    "# Append variables to CVS for training"
   ]
  },
  {
   "cell_type": "code",
   "execution_count": null,
   "metadata": {},
   "outputs": [],
   "source": [
    "from shroomradar.src.topography import enrich_csv\n",
    "\n",
    "enrich_csv(\n",
    "    \"data/negative_samples_within_land_10k_with_coords.csv\",\n",
    "    \"data/negative_samples_within_land_10k_with_coords_topography.csv\",\n",
    "    out_dir=\"dem_tiles\",  # Files will be organized in subfolders: dem/, slope/, aspect/, geomorphons/\n",
    "    download_tiles=False,  # 🚨 Set to True if you want to download new tiles\n",
    "    variables=[\"dem\", \"slope\", \"aspect\", \"geomorphons\"]  # Specify which variables to append\n",
    ")\n",
    "\n"
   ]
  },
  {
   "cell_type": "markdown",
   "metadata": {},
   "source": [
    "# Append to vector file"
   ]
  },
  {
   "cell_type": "code",
   "execution_count": null,
   "metadata": {},
   "outputs": [],
   "source": [
    "from shroomradar.src.topography import enrich_geojson\n",
    "\n",
    "\n",
    "enrich_geojson(\n",
    "    \"data/grid_tuscany_forest.geojson\",\n",
    "    \"data/grid_tuscany_with_topography.geojson\",\n",
    "    out_dir=\"dem_tiles\",\n",
    "    download_tiles=True\n",
    ")\n"
   ]
  },
  {
   "cell_type": "markdown",
   "metadata": {},
   "source": [
    "# Upload to gcp"
   ]
  },
  {
   "cell_type": "code",
   "execution_count": null,
   "metadata": {},
   "outputs": [],
   "source": [
    "from shroomradar.src.gcp import GCSManager, GCSOperationError\n",
    "import logging\n",
    "\n",
    "BUCKET_NAME = \"mushroom-radar\"\n",
    "LOCAL_DEM_DIR = \"..//dem_tiles//dem\"\n",
    "GCS_DEM_PREFIX = \"topography/dem/\"\n",
    "DOWNLOAD_DIR = \"dem_tiles_downloaded\"\n",
    "\n",
    "\n",
    "\n",
    "# 1. Initialize the manager with your bucket name\n",
    "gcs_manager = GCSManager(BUCKET_NAME)\n",
    "\n",
    "# 2. Upload DEM tiles to GCS\n",
    "logging.info(\"Uploading DEM tiles to Google Cloud Storage...\")\n",
    "successful_uploads, failed_uploads = gcs_manager.upload_files(\n",
    "    local_dir=LOCAL_DEM_DIR, gcs_prefix=GCS_DEM_PREFIX\n",
    ")\n",
    "\n",
    "# 3. List files in the bucket\n",
    "logging.info(\"\\nListing files in bucket...\")\n",
    "gcs_files = gcs_manager.list_files(gcs_prefix=GCS_DEM_PREFIX)\n",
    "for file_path in gcs_files:\n",
    "    print(f\"  - {file_path}\")\n",
    "\n",
    "# 4. Download DEM tiles from GCS (example)\n",
    "# logging.info(\"\\nDownloading DEM tiles from Google Cloud Storage...\")\n",
    "# successful_downloads, failed_downloads = gcs_manager.download_files(\n",
    "#     gcs_prefix=GCS_DEM_PREFIX, local_dir=DOWNLOAD_DIR\n",
    "# )\n",
    "\n",
    "\n"
   ]
  },
  {
   "cell_type": "code",
   "execution_count": null,
   "metadata": {},
   "outputs": [],
   "source": []
  }
 ],
 "metadata": {
  "kernelspec": {
   "display_name": ".venv",
   "language": "python",
   "name": "python3"
  },
  "language_info": {
   "codemirror_mode": {
    "name": "ipython",
    "version": 3
   },
   "file_extension": ".py",
   "mimetype": "text/x-python",
   "name": "python",
   "nbconvert_exporter": "python",
   "pygments_lexer": "ipython3",
   "version": "3.13.7"
  }
 },
 "nbformat": 4,
 "nbformat_minor": 2
}
