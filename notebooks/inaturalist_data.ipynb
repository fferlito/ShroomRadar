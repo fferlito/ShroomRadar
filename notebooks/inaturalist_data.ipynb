{
 "cells": [
  {
   "cell_type": "markdown",
   "metadata": {},
   "source": [
    "# Import modules"
   ]
  },
  {
   "cell_type": "code",
   "execution_count": 2,
   "metadata": {},
   "outputs": [],
   "source": [
    "from pyinaturalist import (\n",
    "    Observation,\n",
    "    enable_logging,\n",
    "    get_observation_species_counts,\n",
    "    get_observations,\n",
    ")\n",
    "\n",
    "enable_logging()"
   ]
  },
  {
   "cell_type": "markdown",
   "metadata": {},
   "source": [
    "# Try to get one observation"
   ]
  },
  {
   "cell_type": "code",
   "execution_count": 3,
   "metadata": {},
   "outputs": [
    {
     "data": {
      "text/html": [
       "<pre style=\"white-space:pre;overflow-x:auto;line-height:normal;font-family:Menlo,'DejaVu Sans Mono',consolas,'Courier New',monospace\"><span style=\"color: #7fbfbf; text-decoration-color: #7fbfbf\">[09-19 11:57:23] </span><span style=\"color: #000080; text-decoration-color: #000080\">INFO    </span> Request:                                                                   <a href=\"file://c:\\Users\\ferli\\Documents\\ShroomRadar\\.venv\\Lib\\site-packages\\pyinaturalist\\session.py\" target=\"_blank\"><span style=\"color: #7f7f7f; text-decoration-color: #7f7f7f\">session.py</span></a><span style=\"color: #7f7f7f; text-decoration-color: #7f7f7f\">:</span><a href=\"file://c:\\Users\\ferli\\Documents\\ShroomRadar\\.venv\\Lib\\site-packages\\pyinaturalist\\session.py#297\" target=\"_blank\"><span style=\"color: #7f7f7f; text-decoration-color: #7f7f7f\">297</span></a>\n",
       "<span style=\"color: #7fbfbf; text-decoration-color: #7fbfbf\">                 </span>         <span style=\"color: #808000; text-decoration-color: #808000; font-weight: bold\">GET</span> <span style=\"color: #0000ff; text-decoration-color: #0000ff; text-decoration: underline\">https://api.inaturalist.org/v1/observations?taxon_name=Summer+Bolete</span>   <span style=\"color: #7f7f7f; text-decoration-color: #7f7f7f\">              </span>\n",
       "<span style=\"color: #7fbfbf; text-decoration-color: #7fbfbf\">                 </span>         User-Agent: python-requests/<span style=\"color: #008080; text-decoration-color: #008080; font-weight: bold\">2.32</span>.<span style=\"color: #008080; text-decoration-color: #008080; font-weight: bold\">5</span> pyinaturalist/<span style=\"color: #008080; text-decoration-color: #008080; font-weight: bold\">0.19</span>.<span style=\"color: #008080; text-decoration-color: #008080; font-weight: bold\">0</span>                    <span style=\"color: #7f7f7f; text-decoration-color: #7f7f7f\">              </span>\n",
       "<span style=\"color: #7fbfbf; text-decoration-color: #7fbfbf\">                 </span>         Accept-Encoding: gzip, deflate                                             <span style=\"color: #7f7f7f; text-decoration-color: #7f7f7f\">              </span>\n",
       "<span style=\"color: #7fbfbf; text-decoration-color: #7fbfbf\">                 </span>         Accept: application/json                                                   <span style=\"color: #7f7f7f; text-decoration-color: #7f7f7f\">              </span>\n",
       "<span style=\"color: #7fbfbf; text-decoration-color: #7fbfbf\">                 </span>         Connection: keep-alive                                                     <span style=\"color: #7f7f7f; text-decoration-color: #7f7f7f\">              </span>\n",
       "<span style=\"color: #7fbfbf; text-decoration-color: #7fbfbf\">                 </span>                                                                                    <span style=\"color: #7f7f7f; text-decoration-color: #7f7f7f\">              </span>\n",
       "</pre>\n"
      ],
      "text/plain": [
       "\u001b[2;36m[09-19 11:57:23]\u001b[0m\u001b[2;36m \u001b[0m\u001b[34mINFO    \u001b[0m Request:                                                                   \u001b]8;id=614357;file://c:\\Users\\ferli\\Documents\\ShroomRadar\\.venv\\Lib\\site-packages\\pyinaturalist\\session.py\u001b\\\u001b[2msession.py\u001b[0m\u001b]8;;\u001b\\\u001b[2m:\u001b[0m\u001b]8;id=747286;file://c:\\Users\\ferli\\Documents\\ShroomRadar\\.venv\\Lib\\site-packages\\pyinaturalist\\session.py#297\u001b\\\u001b[2m297\u001b[0m\u001b]8;;\u001b\\\n",
       "\u001b[2;36m                 \u001b[0m         \u001b[1;33mGET\u001b[0m \u001b[4;94mhttps://api.inaturalist.org/v1/observations?\u001b[0m\u001b[4;94mtaxon_name\u001b[0m\u001b[4;94m=\u001b[0m\u001b[4;94mSummer\u001b[0m\u001b[4;94m+Bolete\u001b[0m   \u001b[2m              \u001b[0m\n",
       "\u001b[2;36m                 \u001b[0m         User-Agent: python-requests/\u001b[1;36m2.32\u001b[0m.\u001b[1;36m5\u001b[0m pyinaturalist/\u001b[1;36m0.19\u001b[0m.\u001b[1;36m0\u001b[0m                    \u001b[2m              \u001b[0m\n",
       "\u001b[2;36m                 \u001b[0m         Accept-Encoding: gzip, deflate                                             \u001b[2m              \u001b[0m\n",
       "\u001b[2;36m                 \u001b[0m         Accept: application/json                                                   \u001b[2m              \u001b[0m\n",
       "\u001b[2;36m                 \u001b[0m         Connection: keep-alive                                                     \u001b[2m              \u001b[0m\n",
       "\u001b[2;36m                 \u001b[0m                                                                                    \u001b[2m              \u001b[0m\n"
      ]
     },
     "metadata": {},
     "output_type": "display_data"
    }
   ],
   "source": [
    "# Replace with your own username\n",
    "response = get_observations(taxon_name=\"Summer Bolete\")\n",
    "my_observations = Observation.from_json_list(response)"
   ]
  },
  {
   "cell_type": "markdown",
   "metadata": {},
   "source": [
    "# Fetch observations\n",
    "\n",
    "Change the 'species' to the desired mushroom type"
   ]
  },
  {
   "cell_type": "code",
   "execution_count": 4,
   "metadata": {},
   "outputs": [
    {
     "data": {
      "text/html": [
       "<pre style=\"white-space:pre;overflow-x:auto;line-height:normal;font-family:Menlo,'DejaVu Sans Mono',consolas,'Courier New',monospace\"><span style=\"color: #7fbfbf; text-decoration-color: #7fbfbf\">[09-19 11:57:47] </span><span style=\"color: #000080; text-decoration-color: #000080\">INFO    </span> Request:                                                                   <a href=\"file://c:\\Users\\ferli\\Documents\\ShroomRadar\\.venv\\Lib\\site-packages\\pyinaturalist\\session.py\" target=\"_blank\"><span style=\"color: #7f7f7f; text-decoration-color: #7f7f7f\">session.py</span></a><span style=\"color: #7f7f7f; text-decoration-color: #7f7f7f\">:</span><a href=\"file://c:\\Users\\ferli\\Documents\\ShroomRadar\\.venv\\Lib\\site-packages\\pyinaturalist\\session.py#297\" target=\"_blank\"><span style=\"color: #7f7f7f; text-decoration-color: #7f7f7f\">297</span></a>\n",
       "<span style=\"color: #7fbfbf; text-decoration-color: #7fbfbf\">                 </span>         <span style=\"color: #808000; text-decoration-color: #808000; font-weight: bold\">GET</span>                                                                        <span style=\"color: #7f7f7f; text-decoration-color: #7f7f7f\">              </span>\n",
       "<span style=\"color: #7fbfbf; text-decoration-color: #7fbfbf\">                 </span>         <span style=\"color: #0000ff; text-decoration-color: #0000ff; text-decoration: underline\">https://api.inaturalist.org/v1/observations?quality_grade=research&amp;taxon_n</span> <span style=\"color: #7f7f7f; text-decoration-color: #7f7f7f\">              </span>\n",
       "<span style=\"color: #7fbfbf; text-decoration-color: #7fbfbf\">                 </span>         <span style=\"color: #0000ff; text-decoration-color: #0000ff; text-decoration: underline\">ame=Summer+Bolete&amp;photos=true&amp;rank=species&amp;page=1&amp;per_page=200</span>             <span style=\"color: #7f7f7f; text-decoration-color: #7f7f7f\">              </span>\n",
       "<span style=\"color: #7fbfbf; text-decoration-color: #7fbfbf\">                 </span>         User-Agent: python-requests/<span style=\"color: #008080; text-decoration-color: #008080; font-weight: bold\">2.32</span>.<span style=\"color: #008080; text-decoration-color: #008080; font-weight: bold\">5</span> pyinaturalist/<span style=\"color: #008080; text-decoration-color: #008080; font-weight: bold\">0.19</span>.<span style=\"color: #008080; text-decoration-color: #008080; font-weight: bold\">0</span>                    <span style=\"color: #7f7f7f; text-decoration-color: #7f7f7f\">              </span>\n",
       "<span style=\"color: #7fbfbf; text-decoration-color: #7fbfbf\">                 </span>         Accept-Encoding: gzip, deflate                                             <span style=\"color: #7f7f7f; text-decoration-color: #7f7f7f\">              </span>\n",
       "<span style=\"color: #7fbfbf; text-decoration-color: #7fbfbf\">                 </span>         Accept: application/json                                                   <span style=\"color: #7f7f7f; text-decoration-color: #7f7f7f\">              </span>\n",
       "<span style=\"color: #7fbfbf; text-decoration-color: #7fbfbf\">                 </span>         Connection: keep-alive                                                     <span style=\"color: #7f7f7f; text-decoration-color: #7f7f7f\">              </span>\n",
       "<span style=\"color: #7fbfbf; text-decoration-color: #7fbfbf\">                 </span>                                                                                    <span style=\"color: #7f7f7f; text-decoration-color: #7f7f7f\">              </span>\n",
       "</pre>\n"
      ],
      "text/plain": [
       "\u001b[2;36m[09-19 11:57:47]\u001b[0m\u001b[2;36m \u001b[0m\u001b[34mINFO    \u001b[0m Request:                                                                   \u001b]8;id=434147;file://c:\\Users\\ferli\\Documents\\ShroomRadar\\.venv\\Lib\\site-packages\\pyinaturalist\\session.py\u001b\\\u001b[2msession.py\u001b[0m\u001b]8;;\u001b\\\u001b[2m:\u001b[0m\u001b]8;id=417761;file://c:\\Users\\ferli\\Documents\\ShroomRadar\\.venv\\Lib\\site-packages\\pyinaturalist\\session.py#297\u001b\\\u001b[2m297\u001b[0m\u001b]8;;\u001b\\\n",
       "\u001b[2;36m                 \u001b[0m         \u001b[1;33mGET\u001b[0m                                                                        \u001b[2m              \u001b[0m\n",
       "\u001b[2;36m                 \u001b[0m         \u001b[4;94mhttps://api.inaturalist.org/v1/observations?\u001b[0m\u001b[4;94mquality_grade\u001b[0m\u001b[4;94m=\u001b[0m\u001b[4;94mresearch\u001b[0m\u001b[4;94m&\u001b[0m\u001b[4;94mtaxon_n\u001b[0m \u001b[2m              \u001b[0m\n",
       "\u001b[2;36m                 \u001b[0m         \u001b[4;94mame\u001b[0m\u001b[4;94m=\u001b[0m\u001b[4;94mSummer\u001b[0m\u001b[4;94m+Bolete&\u001b[0m\u001b[4;94mphotos\u001b[0m\u001b[4;94m=\u001b[0m\u001b[4;94mtrue\u001b[0m\u001b[4;94m&\u001b[0m\u001b[4;94mrank\u001b[0m\u001b[4;94m=\u001b[0m\u001b[4;94mspecies\u001b[0m\u001b[4;94m&\u001b[0m\u001b[4;94mpage\u001b[0m\u001b[4;94m=\u001b[0m\u001b[4;94m1\u001b[0m\u001b[4;94m&\u001b[0m\u001b[4;94mper_page\u001b[0m\u001b[4;94m=\u001b[0m\u001b[4;94m200\u001b[0m             \u001b[2m              \u001b[0m\n",
       "\u001b[2;36m                 \u001b[0m         User-Agent: python-requests/\u001b[1;36m2.32\u001b[0m.\u001b[1;36m5\u001b[0m pyinaturalist/\u001b[1;36m0.19\u001b[0m.\u001b[1;36m0\u001b[0m                    \u001b[2m              \u001b[0m\n",
       "\u001b[2;36m                 \u001b[0m         Accept-Encoding: gzip, deflate                                             \u001b[2m              \u001b[0m\n",
       "\u001b[2;36m                 \u001b[0m         Accept: application/json                                                   \u001b[2m              \u001b[0m\n",
       "\u001b[2;36m                 \u001b[0m         Connection: keep-alive                                                     \u001b[2m              \u001b[0m\n",
       "\u001b[2;36m                 \u001b[0m                                                                                    \u001b[2m              \u001b[0m\n"
      ]
     },
     "metadata": {},
     "output_type": "display_data"
    },
    {
     "data": {
      "text/html": [
       "<pre style=\"white-space:pre;overflow-x:auto;line-height:normal;font-family:Menlo,'DejaVu Sans Mono',consolas,'Courier New',monospace\"><span style=\"color: #7fbfbf; text-decoration-color: #7fbfbf\">[09-19 11:57:50] </span><span style=\"color: #000080; text-decoration-color: #000080\">INFO    </span> Request:                                                                   <a href=\"file://c:\\Users\\ferli\\Documents\\ShroomRadar\\.venv\\Lib\\site-packages\\pyinaturalist\\session.py\" target=\"_blank\"><span style=\"color: #7f7f7f; text-decoration-color: #7f7f7f\">session.py</span></a><span style=\"color: #7f7f7f; text-decoration-color: #7f7f7f\">:</span><a href=\"file://c:\\Users\\ferli\\Documents\\ShroomRadar\\.venv\\Lib\\site-packages\\pyinaturalist\\session.py#297\" target=\"_blank\"><span style=\"color: #7f7f7f; text-decoration-color: #7f7f7f\">297</span></a>\n",
       "<span style=\"color: #7fbfbf; text-decoration-color: #7fbfbf\">                 </span>         <span style=\"color: #808000; text-decoration-color: #808000; font-weight: bold\">GET</span>                                                                        <span style=\"color: #7f7f7f; text-decoration-color: #7f7f7f\">              </span>\n",
       "<span style=\"color: #7fbfbf; text-decoration-color: #7fbfbf\">                 </span>         <span style=\"color: #0000ff; text-decoration-color: #0000ff; text-decoration: underline\">https://api.inaturalist.org/v1/observations?quality_grade=research&amp;taxon_n</span> <span style=\"color: #7f7f7f; text-decoration-color: #7f7f7f\">              </span>\n",
       "<span style=\"color: #7fbfbf; text-decoration-color: #7fbfbf\">                 </span>         <span style=\"color: #0000ff; text-decoration-color: #0000ff; text-decoration: underline\">ame=Summer+Bolete&amp;photos=true&amp;rank=species&amp;page=2&amp;per_page=200</span>             <span style=\"color: #7f7f7f; text-decoration-color: #7f7f7f\">              </span>\n",
       "<span style=\"color: #7fbfbf; text-decoration-color: #7fbfbf\">                 </span>         User-Agent: python-requests/<span style=\"color: #008080; text-decoration-color: #008080; font-weight: bold\">2.32</span>.<span style=\"color: #008080; text-decoration-color: #008080; font-weight: bold\">5</span> pyinaturalist/<span style=\"color: #008080; text-decoration-color: #008080; font-weight: bold\">0.19</span>.<span style=\"color: #008080; text-decoration-color: #008080; font-weight: bold\">0</span>                    <span style=\"color: #7f7f7f; text-decoration-color: #7f7f7f\">              </span>\n",
       "<span style=\"color: #7fbfbf; text-decoration-color: #7fbfbf\">                 </span>         Accept-Encoding: gzip, deflate                                             <span style=\"color: #7f7f7f; text-decoration-color: #7f7f7f\">              </span>\n",
       "<span style=\"color: #7fbfbf; text-decoration-color: #7fbfbf\">                 </span>         Accept: application/json                                                   <span style=\"color: #7f7f7f; text-decoration-color: #7f7f7f\">              </span>\n",
       "<span style=\"color: #7fbfbf; text-decoration-color: #7fbfbf\">                 </span>         Connection: keep-alive                                                     <span style=\"color: #7f7f7f; text-decoration-color: #7f7f7f\">              </span>\n",
       "<span style=\"color: #7fbfbf; text-decoration-color: #7fbfbf\">                 </span>                                                                                    <span style=\"color: #7f7f7f; text-decoration-color: #7f7f7f\">              </span>\n",
       "</pre>\n"
      ],
      "text/plain": [
       "\u001b[2;36m[09-19 11:57:50]\u001b[0m\u001b[2;36m \u001b[0m\u001b[34mINFO    \u001b[0m Request:                                                                   \u001b]8;id=517365;file://c:\\Users\\ferli\\Documents\\ShroomRadar\\.venv\\Lib\\site-packages\\pyinaturalist\\session.py\u001b\\\u001b[2msession.py\u001b[0m\u001b]8;;\u001b\\\u001b[2m:\u001b[0m\u001b]8;id=951195;file://c:\\Users\\ferli\\Documents\\ShroomRadar\\.venv\\Lib\\site-packages\\pyinaturalist\\session.py#297\u001b\\\u001b[2m297\u001b[0m\u001b]8;;\u001b\\\n",
       "\u001b[2;36m                 \u001b[0m         \u001b[1;33mGET\u001b[0m                                                                        \u001b[2m              \u001b[0m\n",
       "\u001b[2;36m                 \u001b[0m         \u001b[4;94mhttps://api.inaturalist.org/v1/observations?\u001b[0m\u001b[4;94mquality_grade\u001b[0m\u001b[4;94m=\u001b[0m\u001b[4;94mresearch\u001b[0m\u001b[4;94m&\u001b[0m\u001b[4;94mtaxon_n\u001b[0m \u001b[2m              \u001b[0m\n",
       "\u001b[2;36m                 \u001b[0m         \u001b[4;94mame\u001b[0m\u001b[4;94m=\u001b[0m\u001b[4;94mSummer\u001b[0m\u001b[4;94m+Bolete&\u001b[0m\u001b[4;94mphotos\u001b[0m\u001b[4;94m=\u001b[0m\u001b[4;94mtrue\u001b[0m\u001b[4;94m&\u001b[0m\u001b[4;94mrank\u001b[0m\u001b[4;94m=\u001b[0m\u001b[4;94mspecies\u001b[0m\u001b[4;94m&\u001b[0m\u001b[4;94mpage\u001b[0m\u001b[4;94m=\u001b[0m\u001b[4;94m2\u001b[0m\u001b[4;94m&\u001b[0m\u001b[4;94mper_page\u001b[0m\u001b[4;94m=\u001b[0m\u001b[4;94m200\u001b[0m             \u001b[2m              \u001b[0m\n",
       "\u001b[2;36m                 \u001b[0m         User-Agent: python-requests/\u001b[1;36m2.32\u001b[0m.\u001b[1;36m5\u001b[0m pyinaturalist/\u001b[1;36m0.19\u001b[0m.\u001b[1;36m0\u001b[0m                    \u001b[2m              \u001b[0m\n",
       "\u001b[2;36m                 \u001b[0m         Accept-Encoding: gzip, deflate                                             \u001b[2m              \u001b[0m\n",
       "\u001b[2;36m                 \u001b[0m         Accept: application/json                                                   \u001b[2m              \u001b[0m\n",
       "\u001b[2;36m                 \u001b[0m         Connection: keep-alive                                                     \u001b[2m              \u001b[0m\n",
       "\u001b[2;36m                 \u001b[0m                                                                                    \u001b[2m              \u001b[0m\n"
      ]
     },
     "metadata": {},
     "output_type": "display_data"
    },
    {
     "data": {
      "text/html": [
       "<pre style=\"white-space:pre;overflow-x:auto;line-height:normal;font-family:Menlo,'DejaVu Sans Mono',consolas,'Courier New',monospace\"><span style=\"color: #7fbfbf; text-decoration-color: #7fbfbf\">[09-19 11:57:54] </span><span style=\"color: #000080; text-decoration-color: #000080\">INFO    </span> Request:                                                                   <a href=\"file://c:\\Users\\ferli\\Documents\\ShroomRadar\\.venv\\Lib\\site-packages\\pyinaturalist\\session.py\" target=\"_blank\"><span style=\"color: #7f7f7f; text-decoration-color: #7f7f7f\">session.py</span></a><span style=\"color: #7f7f7f; text-decoration-color: #7f7f7f\">:</span><a href=\"file://c:\\Users\\ferli\\Documents\\ShroomRadar\\.venv\\Lib\\site-packages\\pyinaturalist\\session.py#297\" target=\"_blank\"><span style=\"color: #7f7f7f; text-decoration-color: #7f7f7f\">297</span></a>\n",
       "<span style=\"color: #7fbfbf; text-decoration-color: #7fbfbf\">                 </span>         <span style=\"color: #808000; text-decoration-color: #808000; font-weight: bold\">GET</span>                                                                        <span style=\"color: #7f7f7f; text-decoration-color: #7f7f7f\">              </span>\n",
       "<span style=\"color: #7fbfbf; text-decoration-color: #7fbfbf\">                 </span>         <span style=\"color: #0000ff; text-decoration-color: #0000ff; text-decoration: underline\">https://api.inaturalist.org/v1/observations?quality_grade=research&amp;taxon_n</span> <span style=\"color: #7f7f7f; text-decoration-color: #7f7f7f\">              </span>\n",
       "<span style=\"color: #7fbfbf; text-decoration-color: #7fbfbf\">                 </span>         <span style=\"color: #0000ff; text-decoration-color: #0000ff; text-decoration: underline\">ame=Summer+Bolete&amp;photos=true&amp;rank=species&amp;page=3&amp;per_page=200</span>             <span style=\"color: #7f7f7f; text-decoration-color: #7f7f7f\">              </span>\n",
       "<span style=\"color: #7fbfbf; text-decoration-color: #7fbfbf\">                 </span>         User-Agent: python-requests/<span style=\"color: #008080; text-decoration-color: #008080; font-weight: bold\">2.32</span>.<span style=\"color: #008080; text-decoration-color: #008080; font-weight: bold\">5</span> pyinaturalist/<span style=\"color: #008080; text-decoration-color: #008080; font-weight: bold\">0.19</span>.<span style=\"color: #008080; text-decoration-color: #008080; font-weight: bold\">0</span>                    <span style=\"color: #7f7f7f; text-decoration-color: #7f7f7f\">              </span>\n",
       "<span style=\"color: #7fbfbf; text-decoration-color: #7fbfbf\">                 </span>         Accept-Encoding: gzip, deflate                                             <span style=\"color: #7f7f7f; text-decoration-color: #7f7f7f\">              </span>\n",
       "<span style=\"color: #7fbfbf; text-decoration-color: #7fbfbf\">                 </span>         Accept: application/json                                                   <span style=\"color: #7f7f7f; text-decoration-color: #7f7f7f\">              </span>\n",
       "<span style=\"color: #7fbfbf; text-decoration-color: #7fbfbf\">                 </span>         Connection: keep-alive                                                     <span style=\"color: #7f7f7f; text-decoration-color: #7f7f7f\">              </span>\n",
       "<span style=\"color: #7fbfbf; text-decoration-color: #7fbfbf\">                 </span>                                                                                    <span style=\"color: #7f7f7f; text-decoration-color: #7f7f7f\">              </span>\n",
       "</pre>\n"
      ],
      "text/plain": [
       "\u001b[2;36m[09-19 11:57:54]\u001b[0m\u001b[2;36m \u001b[0m\u001b[34mINFO    \u001b[0m Request:                                                                   \u001b]8;id=341173;file://c:\\Users\\ferli\\Documents\\ShroomRadar\\.venv\\Lib\\site-packages\\pyinaturalist\\session.py\u001b\\\u001b[2msession.py\u001b[0m\u001b]8;;\u001b\\\u001b[2m:\u001b[0m\u001b]8;id=701370;file://c:\\Users\\ferli\\Documents\\ShroomRadar\\.venv\\Lib\\site-packages\\pyinaturalist\\session.py#297\u001b\\\u001b[2m297\u001b[0m\u001b]8;;\u001b\\\n",
       "\u001b[2;36m                 \u001b[0m         \u001b[1;33mGET\u001b[0m                                                                        \u001b[2m              \u001b[0m\n",
       "\u001b[2;36m                 \u001b[0m         \u001b[4;94mhttps://api.inaturalist.org/v1/observations?\u001b[0m\u001b[4;94mquality_grade\u001b[0m\u001b[4;94m=\u001b[0m\u001b[4;94mresearch\u001b[0m\u001b[4;94m&\u001b[0m\u001b[4;94mtaxon_n\u001b[0m \u001b[2m              \u001b[0m\n",
       "\u001b[2;36m                 \u001b[0m         \u001b[4;94mame\u001b[0m\u001b[4;94m=\u001b[0m\u001b[4;94mSummer\u001b[0m\u001b[4;94m+Bolete&\u001b[0m\u001b[4;94mphotos\u001b[0m\u001b[4;94m=\u001b[0m\u001b[4;94mtrue\u001b[0m\u001b[4;94m&\u001b[0m\u001b[4;94mrank\u001b[0m\u001b[4;94m=\u001b[0m\u001b[4;94mspecies\u001b[0m\u001b[4;94m&\u001b[0m\u001b[4;94mpage\u001b[0m\u001b[4;94m=\u001b[0m\u001b[4;94m3\u001b[0m\u001b[4;94m&\u001b[0m\u001b[4;94mper_page\u001b[0m\u001b[4;94m=\u001b[0m\u001b[4;94m200\u001b[0m             \u001b[2m              \u001b[0m\n",
       "\u001b[2;36m                 \u001b[0m         User-Agent: python-requests/\u001b[1;36m2.32\u001b[0m.\u001b[1;36m5\u001b[0m pyinaturalist/\u001b[1;36m0.19\u001b[0m.\u001b[1;36m0\u001b[0m                    \u001b[2m              \u001b[0m\n",
       "\u001b[2;36m                 \u001b[0m         Accept-Encoding: gzip, deflate                                             \u001b[2m              \u001b[0m\n",
       "\u001b[2;36m                 \u001b[0m         Accept: application/json                                                   \u001b[2m              \u001b[0m\n",
       "\u001b[2;36m                 \u001b[0m         Connection: keep-alive                                                     \u001b[2m              \u001b[0m\n",
       "\u001b[2;36m                 \u001b[0m                                                                                    \u001b[2m              \u001b[0m\n"
      ]
     },
     "metadata": {},
     "output_type": "display_data"
    },
    {
     "data": {
      "text/html": [
       "<pre style=\"white-space:pre;overflow-x:auto;line-height:normal;font-family:Menlo,'DejaVu Sans Mono',consolas,'Courier New',monospace\"><span style=\"color: #7fbfbf; text-decoration-color: #7fbfbf\">[09-19 11:57:57] </span><span style=\"color: #000080; text-decoration-color: #000080\">INFO    </span> Request:                                                                   <a href=\"file://c:\\Users\\ferli\\Documents\\ShroomRadar\\.venv\\Lib\\site-packages\\pyinaturalist\\session.py\" target=\"_blank\"><span style=\"color: #7f7f7f; text-decoration-color: #7f7f7f\">session.py</span></a><span style=\"color: #7f7f7f; text-decoration-color: #7f7f7f\">:</span><a href=\"file://c:\\Users\\ferli\\Documents\\ShroomRadar\\.venv\\Lib\\site-packages\\pyinaturalist\\session.py#297\" target=\"_blank\"><span style=\"color: #7f7f7f; text-decoration-color: #7f7f7f\">297</span></a>\n",
       "<span style=\"color: #7fbfbf; text-decoration-color: #7fbfbf\">                 </span>         <span style=\"color: #808000; text-decoration-color: #808000; font-weight: bold\">GET</span>                                                                        <span style=\"color: #7f7f7f; text-decoration-color: #7f7f7f\">              </span>\n",
       "<span style=\"color: #7fbfbf; text-decoration-color: #7fbfbf\">                 </span>         <span style=\"color: #0000ff; text-decoration-color: #0000ff; text-decoration: underline\">https://api.inaturalist.org/v1/observations?quality_grade=research&amp;taxon_n</span> <span style=\"color: #7f7f7f; text-decoration-color: #7f7f7f\">              </span>\n",
       "<span style=\"color: #7fbfbf; text-decoration-color: #7fbfbf\">                 </span>         <span style=\"color: #0000ff; text-decoration-color: #0000ff; text-decoration: underline\">ame=Summer+Bolete&amp;photos=true&amp;rank=species&amp;page=4&amp;per_page=200</span>             <span style=\"color: #7f7f7f; text-decoration-color: #7f7f7f\">              </span>\n",
       "<span style=\"color: #7fbfbf; text-decoration-color: #7fbfbf\">                 </span>         User-Agent: python-requests/<span style=\"color: #008080; text-decoration-color: #008080; font-weight: bold\">2.32</span>.<span style=\"color: #008080; text-decoration-color: #008080; font-weight: bold\">5</span> pyinaturalist/<span style=\"color: #008080; text-decoration-color: #008080; font-weight: bold\">0.19</span>.<span style=\"color: #008080; text-decoration-color: #008080; font-weight: bold\">0</span>                    <span style=\"color: #7f7f7f; text-decoration-color: #7f7f7f\">              </span>\n",
       "<span style=\"color: #7fbfbf; text-decoration-color: #7fbfbf\">                 </span>         Accept-Encoding: gzip, deflate                                             <span style=\"color: #7f7f7f; text-decoration-color: #7f7f7f\">              </span>\n",
       "<span style=\"color: #7fbfbf; text-decoration-color: #7fbfbf\">                 </span>         Accept: application/json                                                   <span style=\"color: #7f7f7f; text-decoration-color: #7f7f7f\">              </span>\n",
       "<span style=\"color: #7fbfbf; text-decoration-color: #7fbfbf\">                 </span>         Connection: keep-alive                                                     <span style=\"color: #7f7f7f; text-decoration-color: #7f7f7f\">              </span>\n",
       "<span style=\"color: #7fbfbf; text-decoration-color: #7fbfbf\">                 </span>                                                                                    <span style=\"color: #7f7f7f; text-decoration-color: #7f7f7f\">              </span>\n",
       "</pre>\n"
      ],
      "text/plain": [
       "\u001b[2;36m[09-19 11:57:57]\u001b[0m\u001b[2;36m \u001b[0m\u001b[34mINFO    \u001b[0m Request:                                                                   \u001b]8;id=494617;file://c:\\Users\\ferli\\Documents\\ShroomRadar\\.venv\\Lib\\site-packages\\pyinaturalist\\session.py\u001b\\\u001b[2msession.py\u001b[0m\u001b]8;;\u001b\\\u001b[2m:\u001b[0m\u001b]8;id=787738;file://c:\\Users\\ferli\\Documents\\ShroomRadar\\.venv\\Lib\\site-packages\\pyinaturalist\\session.py#297\u001b\\\u001b[2m297\u001b[0m\u001b]8;;\u001b\\\n",
       "\u001b[2;36m                 \u001b[0m         \u001b[1;33mGET\u001b[0m                                                                        \u001b[2m              \u001b[0m\n",
       "\u001b[2;36m                 \u001b[0m         \u001b[4;94mhttps://api.inaturalist.org/v1/observations?\u001b[0m\u001b[4;94mquality_grade\u001b[0m\u001b[4;94m=\u001b[0m\u001b[4;94mresearch\u001b[0m\u001b[4;94m&\u001b[0m\u001b[4;94mtaxon_n\u001b[0m \u001b[2m              \u001b[0m\n",
       "\u001b[2;36m                 \u001b[0m         \u001b[4;94mame\u001b[0m\u001b[4;94m=\u001b[0m\u001b[4;94mSummer\u001b[0m\u001b[4;94m+Bolete&\u001b[0m\u001b[4;94mphotos\u001b[0m\u001b[4;94m=\u001b[0m\u001b[4;94mtrue\u001b[0m\u001b[4;94m&\u001b[0m\u001b[4;94mrank\u001b[0m\u001b[4;94m=\u001b[0m\u001b[4;94mspecies\u001b[0m\u001b[4;94m&\u001b[0m\u001b[4;94mpage\u001b[0m\u001b[4;94m=\u001b[0m\u001b[4;94m4\u001b[0m\u001b[4;94m&\u001b[0m\u001b[4;94mper_page\u001b[0m\u001b[4;94m=\u001b[0m\u001b[4;94m200\u001b[0m             \u001b[2m              \u001b[0m\n",
       "\u001b[2;36m                 \u001b[0m         User-Agent: python-requests/\u001b[1;36m2.32\u001b[0m.\u001b[1;36m5\u001b[0m pyinaturalist/\u001b[1;36m0.19\u001b[0m.\u001b[1;36m0\u001b[0m                    \u001b[2m              \u001b[0m\n",
       "\u001b[2;36m                 \u001b[0m         Accept-Encoding: gzip, deflate                                             \u001b[2m              \u001b[0m\n",
       "\u001b[2;36m                 \u001b[0m         Accept: application/json                                                   \u001b[2m              \u001b[0m\n",
       "\u001b[2;36m                 \u001b[0m         Connection: keep-alive                                                     \u001b[2m              \u001b[0m\n",
       "\u001b[2;36m                 \u001b[0m                                                                                    \u001b[2m              \u001b[0m\n"
      ]
     },
     "metadata": {},
     "output_type": "display_data"
    },
    {
     "data": {
      "text/html": [
       "<pre style=\"white-space:pre;overflow-x:auto;line-height:normal;font-family:Menlo,'DejaVu Sans Mono',consolas,'Courier New',monospace\"><span style=\"color: #7fbfbf; text-decoration-color: #7fbfbf\">[09-19 11:58:00] </span><span style=\"color: #000080; text-decoration-color: #000080\">INFO    </span> Request:                                                                   <a href=\"file://c:\\Users\\ferli\\Documents\\ShroomRadar\\.venv\\Lib\\site-packages\\pyinaturalist\\session.py\" target=\"_blank\"><span style=\"color: #7f7f7f; text-decoration-color: #7f7f7f\">session.py</span></a><span style=\"color: #7f7f7f; text-decoration-color: #7f7f7f\">:</span><a href=\"file://c:\\Users\\ferli\\Documents\\ShroomRadar\\.venv\\Lib\\site-packages\\pyinaturalist\\session.py#297\" target=\"_blank\"><span style=\"color: #7f7f7f; text-decoration-color: #7f7f7f\">297</span></a>\n",
       "<span style=\"color: #7fbfbf; text-decoration-color: #7fbfbf\">                 </span>         <span style=\"color: #808000; text-decoration-color: #808000; font-weight: bold\">GET</span>                                                                        <span style=\"color: #7f7f7f; text-decoration-color: #7f7f7f\">              </span>\n",
       "<span style=\"color: #7fbfbf; text-decoration-color: #7fbfbf\">                 </span>         <span style=\"color: #0000ff; text-decoration-color: #0000ff; text-decoration: underline\">https://api.inaturalist.org/v1/observations?quality_grade=research&amp;taxon_n</span> <span style=\"color: #7f7f7f; text-decoration-color: #7f7f7f\">              </span>\n",
       "<span style=\"color: #7fbfbf; text-decoration-color: #7fbfbf\">                 </span>         <span style=\"color: #0000ff; text-decoration-color: #0000ff; text-decoration: underline\">ame=Summer+Bolete&amp;photos=true&amp;rank=species&amp;page=5&amp;per_page=200</span>             <span style=\"color: #7f7f7f; text-decoration-color: #7f7f7f\">              </span>\n",
       "<span style=\"color: #7fbfbf; text-decoration-color: #7fbfbf\">                 </span>         User-Agent: python-requests/<span style=\"color: #008080; text-decoration-color: #008080; font-weight: bold\">2.32</span>.<span style=\"color: #008080; text-decoration-color: #008080; font-weight: bold\">5</span> pyinaturalist/<span style=\"color: #008080; text-decoration-color: #008080; font-weight: bold\">0.19</span>.<span style=\"color: #008080; text-decoration-color: #008080; font-weight: bold\">0</span>                    <span style=\"color: #7f7f7f; text-decoration-color: #7f7f7f\">              </span>\n",
       "<span style=\"color: #7fbfbf; text-decoration-color: #7fbfbf\">                 </span>         Accept-Encoding: gzip, deflate                                             <span style=\"color: #7f7f7f; text-decoration-color: #7f7f7f\">              </span>\n",
       "<span style=\"color: #7fbfbf; text-decoration-color: #7fbfbf\">                 </span>         Accept: application/json                                                   <span style=\"color: #7f7f7f; text-decoration-color: #7f7f7f\">              </span>\n",
       "<span style=\"color: #7fbfbf; text-decoration-color: #7fbfbf\">                 </span>         Connection: keep-alive                                                     <span style=\"color: #7f7f7f; text-decoration-color: #7f7f7f\">              </span>\n",
       "<span style=\"color: #7fbfbf; text-decoration-color: #7fbfbf\">                 </span>                                                                                    <span style=\"color: #7f7f7f; text-decoration-color: #7f7f7f\">              </span>\n",
       "</pre>\n"
      ],
      "text/plain": [
       "\u001b[2;36m[09-19 11:58:00]\u001b[0m\u001b[2;36m \u001b[0m\u001b[34mINFO    \u001b[0m Request:                                                                   \u001b]8;id=635587;file://c:\\Users\\ferli\\Documents\\ShroomRadar\\.venv\\Lib\\site-packages\\pyinaturalist\\session.py\u001b\\\u001b[2msession.py\u001b[0m\u001b]8;;\u001b\\\u001b[2m:\u001b[0m\u001b]8;id=529871;file://c:\\Users\\ferli\\Documents\\ShroomRadar\\.venv\\Lib\\site-packages\\pyinaturalist\\session.py#297\u001b\\\u001b[2m297\u001b[0m\u001b]8;;\u001b\\\n",
       "\u001b[2;36m                 \u001b[0m         \u001b[1;33mGET\u001b[0m                                                                        \u001b[2m              \u001b[0m\n",
       "\u001b[2;36m                 \u001b[0m         \u001b[4;94mhttps://api.inaturalist.org/v1/observations?\u001b[0m\u001b[4;94mquality_grade\u001b[0m\u001b[4;94m=\u001b[0m\u001b[4;94mresearch\u001b[0m\u001b[4;94m&\u001b[0m\u001b[4;94mtaxon_n\u001b[0m \u001b[2m              \u001b[0m\n",
       "\u001b[2;36m                 \u001b[0m         \u001b[4;94mame\u001b[0m\u001b[4;94m=\u001b[0m\u001b[4;94mSummer\u001b[0m\u001b[4;94m+Bolete&\u001b[0m\u001b[4;94mphotos\u001b[0m\u001b[4;94m=\u001b[0m\u001b[4;94mtrue\u001b[0m\u001b[4;94m&\u001b[0m\u001b[4;94mrank\u001b[0m\u001b[4;94m=\u001b[0m\u001b[4;94mspecies\u001b[0m\u001b[4;94m&\u001b[0m\u001b[4;94mpage\u001b[0m\u001b[4;94m=\u001b[0m\u001b[4;94m5\u001b[0m\u001b[4;94m&\u001b[0m\u001b[4;94mper_page\u001b[0m\u001b[4;94m=\u001b[0m\u001b[4;94m200\u001b[0m             \u001b[2m              \u001b[0m\n",
       "\u001b[2;36m                 \u001b[0m         User-Agent: python-requests/\u001b[1;36m2.32\u001b[0m.\u001b[1;36m5\u001b[0m pyinaturalist/\u001b[1;36m0.19\u001b[0m.\u001b[1;36m0\u001b[0m                    \u001b[2m              \u001b[0m\n",
       "\u001b[2;36m                 \u001b[0m         Accept-Encoding: gzip, deflate                                             \u001b[2m              \u001b[0m\n",
       "\u001b[2;36m                 \u001b[0m         Accept: application/json                                                   \u001b[2m              \u001b[0m\n",
       "\u001b[2;36m                 \u001b[0m         Connection: keep-alive                                                     \u001b[2m              \u001b[0m\n",
       "\u001b[2;36m                 \u001b[0m                                                                                    \u001b[2m              \u001b[0m\n"
      ]
     },
     "metadata": {},
     "output_type": "display_data"
    },
    {
     "data": {
      "text/html": [
       "<pre style=\"white-space:pre;overflow-x:auto;line-height:normal;font-family:Menlo,'DejaVu Sans Mono',consolas,'Courier New',monospace\"><span style=\"color: #7fbfbf; text-decoration-color: #7fbfbf\">[09-19 11:58:03] </span><span style=\"color: #000080; text-decoration-color: #000080\">INFO    </span> Request:                                                                   <a href=\"file://c:\\Users\\ferli\\Documents\\ShroomRadar\\.venv\\Lib\\site-packages\\pyinaturalist\\session.py\" target=\"_blank\"><span style=\"color: #7f7f7f; text-decoration-color: #7f7f7f\">session.py</span></a><span style=\"color: #7f7f7f; text-decoration-color: #7f7f7f\">:</span><a href=\"file://c:\\Users\\ferli\\Documents\\ShroomRadar\\.venv\\Lib\\site-packages\\pyinaturalist\\session.py#297\" target=\"_blank\"><span style=\"color: #7f7f7f; text-decoration-color: #7f7f7f\">297</span></a>\n",
       "<span style=\"color: #7fbfbf; text-decoration-color: #7fbfbf\">                 </span>         <span style=\"color: #808000; text-decoration-color: #808000; font-weight: bold\">GET</span>                                                                        <span style=\"color: #7f7f7f; text-decoration-color: #7f7f7f\">              </span>\n",
       "<span style=\"color: #7fbfbf; text-decoration-color: #7fbfbf\">                 </span>         <span style=\"color: #0000ff; text-decoration-color: #0000ff; text-decoration: underline\">https://api.inaturalist.org/v1/observations?quality_grade=research&amp;taxon_n</span> <span style=\"color: #7f7f7f; text-decoration-color: #7f7f7f\">              </span>\n",
       "<span style=\"color: #7fbfbf; text-decoration-color: #7fbfbf\">                 </span>         <span style=\"color: #0000ff; text-decoration-color: #0000ff; text-decoration: underline\">ame=Summer+Bolete&amp;photos=true&amp;rank=species&amp;page=6&amp;per_page=200</span>             <span style=\"color: #7f7f7f; text-decoration-color: #7f7f7f\">              </span>\n",
       "<span style=\"color: #7fbfbf; text-decoration-color: #7fbfbf\">                 </span>         User-Agent: python-requests/<span style=\"color: #008080; text-decoration-color: #008080; font-weight: bold\">2.32</span>.<span style=\"color: #008080; text-decoration-color: #008080; font-weight: bold\">5</span> pyinaturalist/<span style=\"color: #008080; text-decoration-color: #008080; font-weight: bold\">0.19</span>.<span style=\"color: #008080; text-decoration-color: #008080; font-weight: bold\">0</span>                    <span style=\"color: #7f7f7f; text-decoration-color: #7f7f7f\">              </span>\n",
       "<span style=\"color: #7fbfbf; text-decoration-color: #7fbfbf\">                 </span>         Accept-Encoding: gzip, deflate                                             <span style=\"color: #7f7f7f; text-decoration-color: #7f7f7f\">              </span>\n",
       "<span style=\"color: #7fbfbf; text-decoration-color: #7fbfbf\">                 </span>         Accept: application/json                                                   <span style=\"color: #7f7f7f; text-decoration-color: #7f7f7f\">              </span>\n",
       "<span style=\"color: #7fbfbf; text-decoration-color: #7fbfbf\">                 </span>         Connection: keep-alive                                                     <span style=\"color: #7f7f7f; text-decoration-color: #7f7f7f\">              </span>\n",
       "<span style=\"color: #7fbfbf; text-decoration-color: #7fbfbf\">                 </span>                                                                                    <span style=\"color: #7f7f7f; text-decoration-color: #7f7f7f\">              </span>\n",
       "</pre>\n"
      ],
      "text/plain": [
       "\u001b[2;36m[09-19 11:58:03]\u001b[0m\u001b[2;36m \u001b[0m\u001b[34mINFO    \u001b[0m Request:                                                                   \u001b]8;id=280975;file://c:\\Users\\ferli\\Documents\\ShroomRadar\\.venv\\Lib\\site-packages\\pyinaturalist\\session.py\u001b\\\u001b[2msession.py\u001b[0m\u001b]8;;\u001b\\\u001b[2m:\u001b[0m\u001b]8;id=325704;file://c:\\Users\\ferli\\Documents\\ShroomRadar\\.venv\\Lib\\site-packages\\pyinaturalist\\session.py#297\u001b\\\u001b[2m297\u001b[0m\u001b]8;;\u001b\\\n",
       "\u001b[2;36m                 \u001b[0m         \u001b[1;33mGET\u001b[0m                                                                        \u001b[2m              \u001b[0m\n",
       "\u001b[2;36m                 \u001b[0m         \u001b[4;94mhttps://api.inaturalist.org/v1/observations?\u001b[0m\u001b[4;94mquality_grade\u001b[0m\u001b[4;94m=\u001b[0m\u001b[4;94mresearch\u001b[0m\u001b[4;94m&\u001b[0m\u001b[4;94mtaxon_n\u001b[0m \u001b[2m              \u001b[0m\n",
       "\u001b[2;36m                 \u001b[0m         \u001b[4;94mame\u001b[0m\u001b[4;94m=\u001b[0m\u001b[4;94mSummer\u001b[0m\u001b[4;94m+Bolete&\u001b[0m\u001b[4;94mphotos\u001b[0m\u001b[4;94m=\u001b[0m\u001b[4;94mtrue\u001b[0m\u001b[4;94m&\u001b[0m\u001b[4;94mrank\u001b[0m\u001b[4;94m=\u001b[0m\u001b[4;94mspecies\u001b[0m\u001b[4;94m&\u001b[0m\u001b[4;94mpage\u001b[0m\u001b[4;94m=\u001b[0m\u001b[4;94m6\u001b[0m\u001b[4;94m&\u001b[0m\u001b[4;94mper_page\u001b[0m\u001b[4;94m=\u001b[0m\u001b[4;94m200\u001b[0m             \u001b[2m              \u001b[0m\n",
       "\u001b[2;36m                 \u001b[0m         User-Agent: python-requests/\u001b[1;36m2.32\u001b[0m.\u001b[1;36m5\u001b[0m pyinaturalist/\u001b[1;36m0.19\u001b[0m.\u001b[1;36m0\u001b[0m                    \u001b[2m              \u001b[0m\n",
       "\u001b[2;36m                 \u001b[0m         Accept-Encoding: gzip, deflate                                             \u001b[2m              \u001b[0m\n",
       "\u001b[2;36m                 \u001b[0m         Accept: application/json                                                   \u001b[2m              \u001b[0m\n",
       "\u001b[2;36m                 \u001b[0m         Connection: keep-alive                                                     \u001b[2m              \u001b[0m\n",
       "\u001b[2;36m                 \u001b[0m                                                                                    \u001b[2m              \u001b[0m\n"
      ]
     },
     "metadata": {},
     "output_type": "display_data"
    },
    {
     "data": {
      "text/html": [
       "<pre style=\"white-space:pre;overflow-x:auto;line-height:normal;font-family:Menlo,'DejaVu Sans Mono',consolas,'Courier New',monospace\"><span style=\"color: #7fbfbf; text-decoration-color: #7fbfbf\">[09-19 11:58:07] </span><span style=\"color: #000080; text-decoration-color: #000080\">INFO    </span> Request:                                                                   <a href=\"file://c:\\Users\\ferli\\Documents\\ShroomRadar\\.venv\\Lib\\site-packages\\pyinaturalist\\session.py\" target=\"_blank\"><span style=\"color: #7f7f7f; text-decoration-color: #7f7f7f\">session.py</span></a><span style=\"color: #7f7f7f; text-decoration-color: #7f7f7f\">:</span><a href=\"file://c:\\Users\\ferli\\Documents\\ShroomRadar\\.venv\\Lib\\site-packages\\pyinaturalist\\session.py#297\" target=\"_blank\"><span style=\"color: #7f7f7f; text-decoration-color: #7f7f7f\">297</span></a>\n",
       "<span style=\"color: #7fbfbf; text-decoration-color: #7fbfbf\">                 </span>         <span style=\"color: #808000; text-decoration-color: #808000; font-weight: bold\">GET</span>                                                                        <span style=\"color: #7f7f7f; text-decoration-color: #7f7f7f\">              </span>\n",
       "<span style=\"color: #7fbfbf; text-decoration-color: #7fbfbf\">                 </span>         <span style=\"color: #0000ff; text-decoration-color: #0000ff; text-decoration: underline\">https://api.inaturalist.org/v1/observations?quality_grade=research&amp;taxon_n</span> <span style=\"color: #7f7f7f; text-decoration-color: #7f7f7f\">              </span>\n",
       "<span style=\"color: #7fbfbf; text-decoration-color: #7fbfbf\">                 </span>         <span style=\"color: #0000ff; text-decoration-color: #0000ff; text-decoration: underline\">ame=Summer+Bolete&amp;photos=true&amp;rank=species&amp;page=7&amp;per_page=200</span>             <span style=\"color: #7f7f7f; text-decoration-color: #7f7f7f\">              </span>\n",
       "<span style=\"color: #7fbfbf; text-decoration-color: #7fbfbf\">                 </span>         User-Agent: python-requests/<span style=\"color: #008080; text-decoration-color: #008080; font-weight: bold\">2.32</span>.<span style=\"color: #008080; text-decoration-color: #008080; font-weight: bold\">5</span> pyinaturalist/<span style=\"color: #008080; text-decoration-color: #008080; font-weight: bold\">0.19</span>.<span style=\"color: #008080; text-decoration-color: #008080; font-weight: bold\">0</span>                    <span style=\"color: #7f7f7f; text-decoration-color: #7f7f7f\">              </span>\n",
       "<span style=\"color: #7fbfbf; text-decoration-color: #7fbfbf\">                 </span>         Accept-Encoding: gzip, deflate                                             <span style=\"color: #7f7f7f; text-decoration-color: #7f7f7f\">              </span>\n",
       "<span style=\"color: #7fbfbf; text-decoration-color: #7fbfbf\">                 </span>         Accept: application/json                                                   <span style=\"color: #7f7f7f; text-decoration-color: #7f7f7f\">              </span>\n",
       "<span style=\"color: #7fbfbf; text-decoration-color: #7fbfbf\">                 </span>         Connection: keep-alive                                                     <span style=\"color: #7f7f7f; text-decoration-color: #7f7f7f\">              </span>\n",
       "<span style=\"color: #7fbfbf; text-decoration-color: #7fbfbf\">                 </span>                                                                                    <span style=\"color: #7f7f7f; text-decoration-color: #7f7f7f\">              </span>\n",
       "</pre>\n"
      ],
      "text/plain": [
       "\u001b[2;36m[09-19 11:58:07]\u001b[0m\u001b[2;36m \u001b[0m\u001b[34mINFO    \u001b[0m Request:                                                                   \u001b]8;id=214198;file://c:\\Users\\ferli\\Documents\\ShroomRadar\\.venv\\Lib\\site-packages\\pyinaturalist\\session.py\u001b\\\u001b[2msession.py\u001b[0m\u001b]8;;\u001b\\\u001b[2m:\u001b[0m\u001b]8;id=334911;file://c:\\Users\\ferli\\Documents\\ShroomRadar\\.venv\\Lib\\site-packages\\pyinaturalist\\session.py#297\u001b\\\u001b[2m297\u001b[0m\u001b]8;;\u001b\\\n",
       "\u001b[2;36m                 \u001b[0m         \u001b[1;33mGET\u001b[0m                                                                        \u001b[2m              \u001b[0m\n",
       "\u001b[2;36m                 \u001b[0m         \u001b[4;94mhttps://api.inaturalist.org/v1/observations?\u001b[0m\u001b[4;94mquality_grade\u001b[0m\u001b[4;94m=\u001b[0m\u001b[4;94mresearch\u001b[0m\u001b[4;94m&\u001b[0m\u001b[4;94mtaxon_n\u001b[0m \u001b[2m              \u001b[0m\n",
       "\u001b[2;36m                 \u001b[0m         \u001b[4;94mame\u001b[0m\u001b[4;94m=\u001b[0m\u001b[4;94mSummer\u001b[0m\u001b[4;94m+Bolete&\u001b[0m\u001b[4;94mphotos\u001b[0m\u001b[4;94m=\u001b[0m\u001b[4;94mtrue\u001b[0m\u001b[4;94m&\u001b[0m\u001b[4;94mrank\u001b[0m\u001b[4;94m=\u001b[0m\u001b[4;94mspecies\u001b[0m\u001b[4;94m&\u001b[0m\u001b[4;94mpage\u001b[0m\u001b[4;94m=\u001b[0m\u001b[4;94m7\u001b[0m\u001b[4;94m&\u001b[0m\u001b[4;94mper_page\u001b[0m\u001b[4;94m=\u001b[0m\u001b[4;94m200\u001b[0m             \u001b[2m              \u001b[0m\n",
       "\u001b[2;36m                 \u001b[0m         User-Agent: python-requests/\u001b[1;36m2.32\u001b[0m.\u001b[1;36m5\u001b[0m pyinaturalist/\u001b[1;36m0.19\u001b[0m.\u001b[1;36m0\u001b[0m                    \u001b[2m              \u001b[0m\n",
       "\u001b[2;36m                 \u001b[0m         Accept-Encoding: gzip, deflate                                             \u001b[2m              \u001b[0m\n",
       "\u001b[2;36m                 \u001b[0m         Accept: application/json                                                   \u001b[2m              \u001b[0m\n",
       "\u001b[2;36m                 \u001b[0m         Connection: keep-alive                                                     \u001b[2m              \u001b[0m\n",
       "\u001b[2;36m                 \u001b[0m                                                                                    \u001b[2m              \u001b[0m\n"
      ]
     },
     "metadata": {},
     "output_type": "display_data"
    },
    {
     "data": {
      "text/html": [
       "<pre style=\"white-space:pre;overflow-x:auto;line-height:normal;font-family:Menlo,'DejaVu Sans Mono',consolas,'Courier New',monospace\"><span style=\"color: #7fbfbf; text-decoration-color: #7fbfbf\">[09-19 11:58:11] </span><span style=\"color: #000080; text-decoration-color: #000080\">INFO    </span> Request:                                                                   <a href=\"file://c:\\Users\\ferli\\Documents\\ShroomRadar\\.venv\\Lib\\site-packages\\pyinaturalist\\session.py\" target=\"_blank\"><span style=\"color: #7f7f7f; text-decoration-color: #7f7f7f\">session.py</span></a><span style=\"color: #7f7f7f; text-decoration-color: #7f7f7f\">:</span><a href=\"file://c:\\Users\\ferli\\Documents\\ShroomRadar\\.venv\\Lib\\site-packages\\pyinaturalist\\session.py#297\" target=\"_blank\"><span style=\"color: #7f7f7f; text-decoration-color: #7f7f7f\">297</span></a>\n",
       "<span style=\"color: #7fbfbf; text-decoration-color: #7fbfbf\">                 </span>         <span style=\"color: #808000; text-decoration-color: #808000; font-weight: bold\">GET</span>                                                                        <span style=\"color: #7f7f7f; text-decoration-color: #7f7f7f\">              </span>\n",
       "<span style=\"color: #7fbfbf; text-decoration-color: #7fbfbf\">                 </span>         <span style=\"color: #0000ff; text-decoration-color: #0000ff; text-decoration: underline\">https://api.inaturalist.org/v1/observations?quality_grade=research&amp;taxon_n</span> <span style=\"color: #7f7f7f; text-decoration-color: #7f7f7f\">              </span>\n",
       "<span style=\"color: #7fbfbf; text-decoration-color: #7fbfbf\">                 </span>         <span style=\"color: #0000ff; text-decoration-color: #0000ff; text-decoration: underline\">ame=Summer+Bolete&amp;photos=true&amp;rank=species&amp;page=8&amp;per_page=200</span>             <span style=\"color: #7f7f7f; text-decoration-color: #7f7f7f\">              </span>\n",
       "<span style=\"color: #7fbfbf; text-decoration-color: #7fbfbf\">                 </span>         User-Agent: python-requests/<span style=\"color: #008080; text-decoration-color: #008080; font-weight: bold\">2.32</span>.<span style=\"color: #008080; text-decoration-color: #008080; font-weight: bold\">5</span> pyinaturalist/<span style=\"color: #008080; text-decoration-color: #008080; font-weight: bold\">0.19</span>.<span style=\"color: #008080; text-decoration-color: #008080; font-weight: bold\">0</span>                    <span style=\"color: #7f7f7f; text-decoration-color: #7f7f7f\">              </span>\n",
       "<span style=\"color: #7fbfbf; text-decoration-color: #7fbfbf\">                 </span>         Accept-Encoding: gzip, deflate                                             <span style=\"color: #7f7f7f; text-decoration-color: #7f7f7f\">              </span>\n",
       "<span style=\"color: #7fbfbf; text-decoration-color: #7fbfbf\">                 </span>         Accept: application/json                                                   <span style=\"color: #7f7f7f; text-decoration-color: #7f7f7f\">              </span>\n",
       "<span style=\"color: #7fbfbf; text-decoration-color: #7fbfbf\">                 </span>         Connection: keep-alive                                                     <span style=\"color: #7f7f7f; text-decoration-color: #7f7f7f\">              </span>\n",
       "<span style=\"color: #7fbfbf; text-decoration-color: #7fbfbf\">                 </span>                                                                                    <span style=\"color: #7f7f7f; text-decoration-color: #7f7f7f\">              </span>\n",
       "</pre>\n"
      ],
      "text/plain": [
       "\u001b[2;36m[09-19 11:58:11]\u001b[0m\u001b[2;36m \u001b[0m\u001b[34mINFO    \u001b[0m Request:                                                                   \u001b]8;id=117522;file://c:\\Users\\ferli\\Documents\\ShroomRadar\\.venv\\Lib\\site-packages\\pyinaturalist\\session.py\u001b\\\u001b[2msession.py\u001b[0m\u001b]8;;\u001b\\\u001b[2m:\u001b[0m\u001b]8;id=720536;file://c:\\Users\\ferli\\Documents\\ShroomRadar\\.venv\\Lib\\site-packages\\pyinaturalist\\session.py#297\u001b\\\u001b[2m297\u001b[0m\u001b]8;;\u001b\\\n",
       "\u001b[2;36m                 \u001b[0m         \u001b[1;33mGET\u001b[0m                                                                        \u001b[2m              \u001b[0m\n",
       "\u001b[2;36m                 \u001b[0m         \u001b[4;94mhttps://api.inaturalist.org/v1/observations?\u001b[0m\u001b[4;94mquality_grade\u001b[0m\u001b[4;94m=\u001b[0m\u001b[4;94mresearch\u001b[0m\u001b[4;94m&\u001b[0m\u001b[4;94mtaxon_n\u001b[0m \u001b[2m              \u001b[0m\n",
       "\u001b[2;36m                 \u001b[0m         \u001b[4;94mame\u001b[0m\u001b[4;94m=\u001b[0m\u001b[4;94mSummer\u001b[0m\u001b[4;94m+Bolete&\u001b[0m\u001b[4;94mphotos\u001b[0m\u001b[4;94m=\u001b[0m\u001b[4;94mtrue\u001b[0m\u001b[4;94m&\u001b[0m\u001b[4;94mrank\u001b[0m\u001b[4;94m=\u001b[0m\u001b[4;94mspecies\u001b[0m\u001b[4;94m&\u001b[0m\u001b[4;94mpage\u001b[0m\u001b[4;94m=\u001b[0m\u001b[4;94m8\u001b[0m\u001b[4;94m&\u001b[0m\u001b[4;94mper_page\u001b[0m\u001b[4;94m=\u001b[0m\u001b[4;94m200\u001b[0m             \u001b[2m              \u001b[0m\n",
       "\u001b[2;36m                 \u001b[0m         User-Agent: python-requests/\u001b[1;36m2.32\u001b[0m.\u001b[1;36m5\u001b[0m pyinaturalist/\u001b[1;36m0.19\u001b[0m.\u001b[1;36m0\u001b[0m                    \u001b[2m              \u001b[0m\n",
       "\u001b[2;36m                 \u001b[0m         Accept-Encoding: gzip, deflate                                             \u001b[2m              \u001b[0m\n",
       "\u001b[2;36m                 \u001b[0m         Accept: application/json                                                   \u001b[2m              \u001b[0m\n",
       "\u001b[2;36m                 \u001b[0m         Connection: keep-alive                                                     \u001b[2m              \u001b[0m\n",
       "\u001b[2;36m                 \u001b[0m                                                                                    \u001b[2m              \u001b[0m\n"
      ]
     },
     "metadata": {},
     "output_type": "display_data"
    },
    {
     "data": {
      "text/html": [
       "<pre style=\"white-space:pre;overflow-x:auto;line-height:normal;font-family:Menlo,'DejaVu Sans Mono',consolas,'Courier New',monospace\"><span style=\"color: #7fbfbf; text-decoration-color: #7fbfbf\">[09-19 11:58:14] </span><span style=\"color: #000080; text-decoration-color: #000080\">INFO    </span> Request:                                                                   <a href=\"file://c:\\Users\\ferli\\Documents\\ShroomRadar\\.venv\\Lib\\site-packages\\pyinaturalist\\session.py\" target=\"_blank\"><span style=\"color: #7f7f7f; text-decoration-color: #7f7f7f\">session.py</span></a><span style=\"color: #7f7f7f; text-decoration-color: #7f7f7f\">:</span><a href=\"file://c:\\Users\\ferli\\Documents\\ShroomRadar\\.venv\\Lib\\site-packages\\pyinaturalist\\session.py#297\" target=\"_blank\"><span style=\"color: #7f7f7f; text-decoration-color: #7f7f7f\">297</span></a>\n",
       "<span style=\"color: #7fbfbf; text-decoration-color: #7fbfbf\">                 </span>         <span style=\"color: #808000; text-decoration-color: #808000; font-weight: bold\">GET</span>                                                                        <span style=\"color: #7f7f7f; text-decoration-color: #7f7f7f\">              </span>\n",
       "<span style=\"color: #7fbfbf; text-decoration-color: #7fbfbf\">                 </span>         <span style=\"color: #0000ff; text-decoration-color: #0000ff; text-decoration: underline\">https://api.inaturalist.org/v1/observations?quality_grade=research&amp;taxon_n</span> <span style=\"color: #7f7f7f; text-decoration-color: #7f7f7f\">              </span>\n",
       "<span style=\"color: #7fbfbf; text-decoration-color: #7fbfbf\">                 </span>         <span style=\"color: #0000ff; text-decoration-color: #0000ff; text-decoration: underline\">ame=Summer+Bolete&amp;photos=true&amp;rank=species&amp;page=9&amp;per_page=200</span>             <span style=\"color: #7f7f7f; text-decoration-color: #7f7f7f\">              </span>\n",
       "<span style=\"color: #7fbfbf; text-decoration-color: #7fbfbf\">                 </span>         User-Agent: python-requests/<span style=\"color: #008080; text-decoration-color: #008080; font-weight: bold\">2.32</span>.<span style=\"color: #008080; text-decoration-color: #008080; font-weight: bold\">5</span> pyinaturalist/<span style=\"color: #008080; text-decoration-color: #008080; font-weight: bold\">0.19</span>.<span style=\"color: #008080; text-decoration-color: #008080; font-weight: bold\">0</span>                    <span style=\"color: #7f7f7f; text-decoration-color: #7f7f7f\">              </span>\n",
       "<span style=\"color: #7fbfbf; text-decoration-color: #7fbfbf\">                 </span>         Accept-Encoding: gzip, deflate                                             <span style=\"color: #7f7f7f; text-decoration-color: #7f7f7f\">              </span>\n",
       "<span style=\"color: #7fbfbf; text-decoration-color: #7fbfbf\">                 </span>         Accept: application/json                                                   <span style=\"color: #7f7f7f; text-decoration-color: #7f7f7f\">              </span>\n",
       "<span style=\"color: #7fbfbf; text-decoration-color: #7fbfbf\">                 </span>         Connection: keep-alive                                                     <span style=\"color: #7f7f7f; text-decoration-color: #7f7f7f\">              </span>\n",
       "<span style=\"color: #7fbfbf; text-decoration-color: #7fbfbf\">                 </span>                                                                                    <span style=\"color: #7f7f7f; text-decoration-color: #7f7f7f\">              </span>\n",
       "</pre>\n"
      ],
      "text/plain": [
       "\u001b[2;36m[09-19 11:58:14]\u001b[0m\u001b[2;36m \u001b[0m\u001b[34mINFO    \u001b[0m Request:                                                                   \u001b]8;id=710693;file://c:\\Users\\ferli\\Documents\\ShroomRadar\\.venv\\Lib\\site-packages\\pyinaturalist\\session.py\u001b\\\u001b[2msession.py\u001b[0m\u001b]8;;\u001b\\\u001b[2m:\u001b[0m\u001b]8;id=92060;file://c:\\Users\\ferli\\Documents\\ShroomRadar\\.venv\\Lib\\site-packages\\pyinaturalist\\session.py#297\u001b\\\u001b[2m297\u001b[0m\u001b]8;;\u001b\\\n",
       "\u001b[2;36m                 \u001b[0m         \u001b[1;33mGET\u001b[0m                                                                        \u001b[2m              \u001b[0m\n",
       "\u001b[2;36m                 \u001b[0m         \u001b[4;94mhttps://api.inaturalist.org/v1/observations?\u001b[0m\u001b[4;94mquality_grade\u001b[0m\u001b[4;94m=\u001b[0m\u001b[4;94mresearch\u001b[0m\u001b[4;94m&\u001b[0m\u001b[4;94mtaxon_n\u001b[0m \u001b[2m              \u001b[0m\n",
       "\u001b[2;36m                 \u001b[0m         \u001b[4;94mame\u001b[0m\u001b[4;94m=\u001b[0m\u001b[4;94mSummer\u001b[0m\u001b[4;94m+Bolete&\u001b[0m\u001b[4;94mphotos\u001b[0m\u001b[4;94m=\u001b[0m\u001b[4;94mtrue\u001b[0m\u001b[4;94m&\u001b[0m\u001b[4;94mrank\u001b[0m\u001b[4;94m=\u001b[0m\u001b[4;94mspecies\u001b[0m\u001b[4;94m&\u001b[0m\u001b[4;94mpage\u001b[0m\u001b[4;94m=\u001b[0m\u001b[4;94m9\u001b[0m\u001b[4;94m&\u001b[0m\u001b[4;94mper_page\u001b[0m\u001b[4;94m=\u001b[0m\u001b[4;94m200\u001b[0m             \u001b[2m              \u001b[0m\n",
       "\u001b[2;36m                 \u001b[0m         User-Agent: python-requests/\u001b[1;36m2.32\u001b[0m.\u001b[1;36m5\u001b[0m pyinaturalist/\u001b[1;36m0.19\u001b[0m.\u001b[1;36m0\u001b[0m                    \u001b[2m              \u001b[0m\n",
       "\u001b[2;36m                 \u001b[0m         Accept-Encoding: gzip, deflate                                             \u001b[2m              \u001b[0m\n",
       "\u001b[2;36m                 \u001b[0m         Accept: application/json                                                   \u001b[2m              \u001b[0m\n",
       "\u001b[2;36m                 \u001b[0m         Connection: keep-alive                                                     \u001b[2m              \u001b[0m\n",
       "\u001b[2;36m                 \u001b[0m                                                                                    \u001b[2m              \u001b[0m\n"
      ]
     },
     "metadata": {},
     "output_type": "display_data"
    },
    {
     "data": {
      "text/html": [
       "<pre style=\"white-space:pre;overflow-x:auto;line-height:normal;font-family:Menlo,'DejaVu Sans Mono',consolas,'Courier New',monospace\"><span style=\"color: #7fbfbf; text-decoration-color: #7fbfbf\">[09-19 11:58:17] </span><span style=\"color: #000080; text-decoration-color: #000080\">INFO    </span> Request:                                                                   <a href=\"file://c:\\Users\\ferli\\Documents\\ShroomRadar\\.venv\\Lib\\site-packages\\pyinaturalist\\session.py\" target=\"_blank\"><span style=\"color: #7f7f7f; text-decoration-color: #7f7f7f\">session.py</span></a><span style=\"color: #7f7f7f; text-decoration-color: #7f7f7f\">:</span><a href=\"file://c:\\Users\\ferli\\Documents\\ShroomRadar\\.venv\\Lib\\site-packages\\pyinaturalist\\session.py#297\" target=\"_blank\"><span style=\"color: #7f7f7f; text-decoration-color: #7f7f7f\">297</span></a>\n",
       "<span style=\"color: #7fbfbf; text-decoration-color: #7fbfbf\">                 </span>         <span style=\"color: #808000; text-decoration-color: #808000; font-weight: bold\">GET</span>                                                                        <span style=\"color: #7f7f7f; text-decoration-color: #7f7f7f\">              </span>\n",
       "<span style=\"color: #7fbfbf; text-decoration-color: #7fbfbf\">                 </span>         <span style=\"color: #0000ff; text-decoration-color: #0000ff; text-decoration: underline\">https://api.inaturalist.org/v1/observations?quality_grade=research&amp;taxon_n</span> <span style=\"color: #7f7f7f; text-decoration-color: #7f7f7f\">              </span>\n",
       "<span style=\"color: #7fbfbf; text-decoration-color: #7fbfbf\">                 </span>         <span style=\"color: #0000ff; text-decoration-color: #0000ff; text-decoration: underline\">ame=Summer+Bolete&amp;photos=true&amp;rank=species&amp;page=10&amp;per_page=200</span>            <span style=\"color: #7f7f7f; text-decoration-color: #7f7f7f\">              </span>\n",
       "<span style=\"color: #7fbfbf; text-decoration-color: #7fbfbf\">                 </span>         User-Agent: python-requests/<span style=\"color: #008080; text-decoration-color: #008080; font-weight: bold\">2.32</span>.<span style=\"color: #008080; text-decoration-color: #008080; font-weight: bold\">5</span> pyinaturalist/<span style=\"color: #008080; text-decoration-color: #008080; font-weight: bold\">0.19</span>.<span style=\"color: #008080; text-decoration-color: #008080; font-weight: bold\">0</span>                    <span style=\"color: #7f7f7f; text-decoration-color: #7f7f7f\">              </span>\n",
       "<span style=\"color: #7fbfbf; text-decoration-color: #7fbfbf\">                 </span>         Accept-Encoding: gzip, deflate                                             <span style=\"color: #7f7f7f; text-decoration-color: #7f7f7f\">              </span>\n",
       "<span style=\"color: #7fbfbf; text-decoration-color: #7fbfbf\">                 </span>         Accept: application/json                                                   <span style=\"color: #7f7f7f; text-decoration-color: #7f7f7f\">              </span>\n",
       "<span style=\"color: #7fbfbf; text-decoration-color: #7fbfbf\">                 </span>         Connection: keep-alive                                                     <span style=\"color: #7f7f7f; text-decoration-color: #7f7f7f\">              </span>\n",
       "<span style=\"color: #7fbfbf; text-decoration-color: #7fbfbf\">                 </span>                                                                                    <span style=\"color: #7f7f7f; text-decoration-color: #7f7f7f\">              </span>\n",
       "</pre>\n"
      ],
      "text/plain": [
       "\u001b[2;36m[09-19 11:58:17]\u001b[0m\u001b[2;36m \u001b[0m\u001b[34mINFO    \u001b[0m Request:                                                                   \u001b]8;id=875035;file://c:\\Users\\ferli\\Documents\\ShroomRadar\\.venv\\Lib\\site-packages\\pyinaturalist\\session.py\u001b\\\u001b[2msession.py\u001b[0m\u001b]8;;\u001b\\\u001b[2m:\u001b[0m\u001b]8;id=37404;file://c:\\Users\\ferli\\Documents\\ShroomRadar\\.venv\\Lib\\site-packages\\pyinaturalist\\session.py#297\u001b\\\u001b[2m297\u001b[0m\u001b]8;;\u001b\\\n",
       "\u001b[2;36m                 \u001b[0m         \u001b[1;33mGET\u001b[0m                                                                        \u001b[2m              \u001b[0m\n",
       "\u001b[2;36m                 \u001b[0m         \u001b[4;94mhttps://api.inaturalist.org/v1/observations?\u001b[0m\u001b[4;94mquality_grade\u001b[0m\u001b[4;94m=\u001b[0m\u001b[4;94mresearch\u001b[0m\u001b[4;94m&\u001b[0m\u001b[4;94mtaxon_n\u001b[0m \u001b[2m              \u001b[0m\n",
       "\u001b[2;36m                 \u001b[0m         \u001b[4;94mame\u001b[0m\u001b[4;94m=\u001b[0m\u001b[4;94mSummer\u001b[0m\u001b[4;94m+Bolete&\u001b[0m\u001b[4;94mphotos\u001b[0m\u001b[4;94m=\u001b[0m\u001b[4;94mtrue\u001b[0m\u001b[4;94m&\u001b[0m\u001b[4;94mrank\u001b[0m\u001b[4;94m=\u001b[0m\u001b[4;94mspecies\u001b[0m\u001b[4;94m&\u001b[0m\u001b[4;94mpage\u001b[0m\u001b[4;94m=\u001b[0m\u001b[4;94m10\u001b[0m\u001b[4;94m&\u001b[0m\u001b[4;94mper_page\u001b[0m\u001b[4;94m=\u001b[0m\u001b[4;94m200\u001b[0m            \u001b[2m              \u001b[0m\n",
       "\u001b[2;36m                 \u001b[0m         User-Agent: python-requests/\u001b[1;36m2.32\u001b[0m.\u001b[1;36m5\u001b[0m pyinaturalist/\u001b[1;36m0.19\u001b[0m.\u001b[1;36m0\u001b[0m                    \u001b[2m              \u001b[0m\n",
       "\u001b[2;36m                 \u001b[0m         Accept-Encoding: gzip, deflate                                             \u001b[2m              \u001b[0m\n",
       "\u001b[2;36m                 \u001b[0m         Accept: application/json                                                   \u001b[2m              \u001b[0m\n",
       "\u001b[2;36m                 \u001b[0m         Connection: keep-alive                                                     \u001b[2m              \u001b[0m\n",
       "\u001b[2;36m                 \u001b[0m                                                                                    \u001b[2m              \u001b[0m\n"
      ]
     },
     "metadata": {},
     "output_type": "display_data"
    },
    {
     "data": {
      "text/html": [
       "<pre style=\"white-space:pre;overflow-x:auto;line-height:normal;font-family:Menlo,'DejaVu Sans Mono',consolas,'Courier New',monospace\"><span style=\"color: #7fbfbf; text-decoration-color: #7fbfbf\">[09-19 11:58:21] </span><span style=\"color: #000080; text-decoration-color: #000080\">INFO    </span> Request:                                                                   <a href=\"file://c:\\Users\\ferli\\Documents\\ShroomRadar\\.venv\\Lib\\site-packages\\pyinaturalist\\session.py\" target=\"_blank\"><span style=\"color: #7f7f7f; text-decoration-color: #7f7f7f\">session.py</span></a><span style=\"color: #7f7f7f; text-decoration-color: #7f7f7f\">:</span><a href=\"file://c:\\Users\\ferli\\Documents\\ShroomRadar\\.venv\\Lib\\site-packages\\pyinaturalist\\session.py#297\" target=\"_blank\"><span style=\"color: #7f7f7f; text-decoration-color: #7f7f7f\">297</span></a>\n",
       "<span style=\"color: #7fbfbf; text-decoration-color: #7fbfbf\">                 </span>         <span style=\"color: #808000; text-decoration-color: #808000; font-weight: bold\">GET</span>                                                                        <span style=\"color: #7f7f7f; text-decoration-color: #7f7f7f\">              </span>\n",
       "<span style=\"color: #7fbfbf; text-decoration-color: #7fbfbf\">                 </span>         <span style=\"color: #0000ff; text-decoration-color: #0000ff; text-decoration: underline\">https://api.inaturalist.org/v1/observations?quality_grade=research&amp;taxon_n</span> <span style=\"color: #7f7f7f; text-decoration-color: #7f7f7f\">              </span>\n",
       "<span style=\"color: #7fbfbf; text-decoration-color: #7fbfbf\">                 </span>         <span style=\"color: #0000ff; text-decoration-color: #0000ff; text-decoration: underline\">ame=Summer+Bolete&amp;photos=true&amp;rank=species&amp;page=11&amp;per_page=200</span>            <span style=\"color: #7f7f7f; text-decoration-color: #7f7f7f\">              </span>\n",
       "<span style=\"color: #7fbfbf; text-decoration-color: #7fbfbf\">                 </span>         User-Agent: python-requests/<span style=\"color: #008080; text-decoration-color: #008080; font-weight: bold\">2.32</span>.<span style=\"color: #008080; text-decoration-color: #008080; font-weight: bold\">5</span> pyinaturalist/<span style=\"color: #008080; text-decoration-color: #008080; font-weight: bold\">0.19</span>.<span style=\"color: #008080; text-decoration-color: #008080; font-weight: bold\">0</span>                    <span style=\"color: #7f7f7f; text-decoration-color: #7f7f7f\">              </span>\n",
       "<span style=\"color: #7fbfbf; text-decoration-color: #7fbfbf\">                 </span>         Accept-Encoding: gzip, deflate                                             <span style=\"color: #7f7f7f; text-decoration-color: #7f7f7f\">              </span>\n",
       "<span style=\"color: #7fbfbf; text-decoration-color: #7fbfbf\">                 </span>         Accept: application/json                                                   <span style=\"color: #7f7f7f; text-decoration-color: #7f7f7f\">              </span>\n",
       "<span style=\"color: #7fbfbf; text-decoration-color: #7fbfbf\">                 </span>         Connection: keep-alive                                                     <span style=\"color: #7f7f7f; text-decoration-color: #7f7f7f\">              </span>\n",
       "<span style=\"color: #7fbfbf; text-decoration-color: #7fbfbf\">                 </span>                                                                                    <span style=\"color: #7f7f7f; text-decoration-color: #7f7f7f\">              </span>\n",
       "</pre>\n"
      ],
      "text/plain": [
       "\u001b[2;36m[09-19 11:58:21]\u001b[0m\u001b[2;36m \u001b[0m\u001b[34mINFO    \u001b[0m Request:                                                                   \u001b]8;id=929499;file://c:\\Users\\ferli\\Documents\\ShroomRadar\\.venv\\Lib\\site-packages\\pyinaturalist\\session.py\u001b\\\u001b[2msession.py\u001b[0m\u001b]8;;\u001b\\\u001b[2m:\u001b[0m\u001b]8;id=891233;file://c:\\Users\\ferli\\Documents\\ShroomRadar\\.venv\\Lib\\site-packages\\pyinaturalist\\session.py#297\u001b\\\u001b[2m297\u001b[0m\u001b]8;;\u001b\\\n",
       "\u001b[2;36m                 \u001b[0m         \u001b[1;33mGET\u001b[0m                                                                        \u001b[2m              \u001b[0m\n",
       "\u001b[2;36m                 \u001b[0m         \u001b[4;94mhttps://api.inaturalist.org/v1/observations?\u001b[0m\u001b[4;94mquality_grade\u001b[0m\u001b[4;94m=\u001b[0m\u001b[4;94mresearch\u001b[0m\u001b[4;94m&\u001b[0m\u001b[4;94mtaxon_n\u001b[0m \u001b[2m              \u001b[0m\n",
       "\u001b[2;36m                 \u001b[0m         \u001b[4;94mame\u001b[0m\u001b[4;94m=\u001b[0m\u001b[4;94mSummer\u001b[0m\u001b[4;94m+Bolete&\u001b[0m\u001b[4;94mphotos\u001b[0m\u001b[4;94m=\u001b[0m\u001b[4;94mtrue\u001b[0m\u001b[4;94m&\u001b[0m\u001b[4;94mrank\u001b[0m\u001b[4;94m=\u001b[0m\u001b[4;94mspecies\u001b[0m\u001b[4;94m&\u001b[0m\u001b[4;94mpage\u001b[0m\u001b[4;94m=\u001b[0m\u001b[4;94m11\u001b[0m\u001b[4;94m&\u001b[0m\u001b[4;94mper_page\u001b[0m\u001b[4;94m=\u001b[0m\u001b[4;94m200\u001b[0m            \u001b[2m              \u001b[0m\n",
       "\u001b[2;36m                 \u001b[0m         User-Agent: python-requests/\u001b[1;36m2.32\u001b[0m.\u001b[1;36m5\u001b[0m pyinaturalist/\u001b[1;36m0.19\u001b[0m.\u001b[1;36m0\u001b[0m                    \u001b[2m              \u001b[0m\n",
       "\u001b[2;36m                 \u001b[0m         Accept-Encoding: gzip, deflate                                             \u001b[2m              \u001b[0m\n",
       "\u001b[2;36m                 \u001b[0m         Accept: application/json                                                   \u001b[2m              \u001b[0m\n",
       "\u001b[2;36m                 \u001b[0m         Connection: keep-alive                                                     \u001b[2m              \u001b[0m\n",
       "\u001b[2;36m                 \u001b[0m                                                                                    \u001b[2m              \u001b[0m\n"
      ]
     },
     "metadata": {},
     "output_type": "display_data"
    },
    {
     "data": {
      "text/html": [
       "<pre style=\"white-space:pre;overflow-x:auto;line-height:normal;font-family:Menlo,'DejaVu Sans Mono',consolas,'Courier New',monospace\"><span style=\"color: #7fbfbf; text-decoration-color: #7fbfbf\">[09-19 11:58:25] </span><span style=\"color: #000080; text-decoration-color: #000080\">INFO    </span> Request:                                                                   <a href=\"file://c:\\Users\\ferli\\Documents\\ShroomRadar\\.venv\\Lib\\site-packages\\pyinaturalist\\session.py\" target=\"_blank\"><span style=\"color: #7f7f7f; text-decoration-color: #7f7f7f\">session.py</span></a><span style=\"color: #7f7f7f; text-decoration-color: #7f7f7f\">:</span><a href=\"file://c:\\Users\\ferli\\Documents\\ShroomRadar\\.venv\\Lib\\site-packages\\pyinaturalist\\session.py#297\" target=\"_blank\"><span style=\"color: #7f7f7f; text-decoration-color: #7f7f7f\">297</span></a>\n",
       "<span style=\"color: #7fbfbf; text-decoration-color: #7fbfbf\">                 </span>         <span style=\"color: #808000; text-decoration-color: #808000; font-weight: bold\">GET</span>                                                                        <span style=\"color: #7f7f7f; text-decoration-color: #7f7f7f\">              </span>\n",
       "<span style=\"color: #7fbfbf; text-decoration-color: #7fbfbf\">                 </span>         <span style=\"color: #0000ff; text-decoration-color: #0000ff; text-decoration: underline\">https://api.inaturalist.org/v1/observations?quality_grade=research&amp;taxon_n</span> <span style=\"color: #7f7f7f; text-decoration-color: #7f7f7f\">              </span>\n",
       "<span style=\"color: #7fbfbf; text-decoration-color: #7fbfbf\">                 </span>         <span style=\"color: #0000ff; text-decoration-color: #0000ff; text-decoration: underline\">ame=Summer+Bolete&amp;photos=true&amp;rank=species&amp;page=12&amp;per_page=200</span>            <span style=\"color: #7f7f7f; text-decoration-color: #7f7f7f\">              </span>\n",
       "<span style=\"color: #7fbfbf; text-decoration-color: #7fbfbf\">                 </span>         User-Agent: python-requests/<span style=\"color: #008080; text-decoration-color: #008080; font-weight: bold\">2.32</span>.<span style=\"color: #008080; text-decoration-color: #008080; font-weight: bold\">5</span> pyinaturalist/<span style=\"color: #008080; text-decoration-color: #008080; font-weight: bold\">0.19</span>.<span style=\"color: #008080; text-decoration-color: #008080; font-weight: bold\">0</span>                    <span style=\"color: #7f7f7f; text-decoration-color: #7f7f7f\">              </span>\n",
       "<span style=\"color: #7fbfbf; text-decoration-color: #7fbfbf\">                 </span>         Accept-Encoding: gzip, deflate                                             <span style=\"color: #7f7f7f; text-decoration-color: #7f7f7f\">              </span>\n",
       "<span style=\"color: #7fbfbf; text-decoration-color: #7fbfbf\">                 </span>         Accept: application/json                                                   <span style=\"color: #7f7f7f; text-decoration-color: #7f7f7f\">              </span>\n",
       "<span style=\"color: #7fbfbf; text-decoration-color: #7fbfbf\">                 </span>         Connection: keep-alive                                                     <span style=\"color: #7f7f7f; text-decoration-color: #7f7f7f\">              </span>\n",
       "<span style=\"color: #7fbfbf; text-decoration-color: #7fbfbf\">                 </span>                                                                                    <span style=\"color: #7f7f7f; text-decoration-color: #7f7f7f\">              </span>\n",
       "</pre>\n"
      ],
      "text/plain": [
       "\u001b[2;36m[09-19 11:58:25]\u001b[0m\u001b[2;36m \u001b[0m\u001b[34mINFO    \u001b[0m Request:                                                                   \u001b]8;id=155780;file://c:\\Users\\ferli\\Documents\\ShroomRadar\\.venv\\Lib\\site-packages\\pyinaturalist\\session.py\u001b\\\u001b[2msession.py\u001b[0m\u001b]8;;\u001b\\\u001b[2m:\u001b[0m\u001b]8;id=718484;file://c:\\Users\\ferli\\Documents\\ShroomRadar\\.venv\\Lib\\site-packages\\pyinaturalist\\session.py#297\u001b\\\u001b[2m297\u001b[0m\u001b]8;;\u001b\\\n",
       "\u001b[2;36m                 \u001b[0m         \u001b[1;33mGET\u001b[0m                                                                        \u001b[2m              \u001b[0m\n",
       "\u001b[2;36m                 \u001b[0m         \u001b[4;94mhttps://api.inaturalist.org/v1/observations?\u001b[0m\u001b[4;94mquality_grade\u001b[0m\u001b[4;94m=\u001b[0m\u001b[4;94mresearch\u001b[0m\u001b[4;94m&\u001b[0m\u001b[4;94mtaxon_n\u001b[0m \u001b[2m              \u001b[0m\n",
       "\u001b[2;36m                 \u001b[0m         \u001b[4;94mame\u001b[0m\u001b[4;94m=\u001b[0m\u001b[4;94mSummer\u001b[0m\u001b[4;94m+Bolete&\u001b[0m\u001b[4;94mphotos\u001b[0m\u001b[4;94m=\u001b[0m\u001b[4;94mtrue\u001b[0m\u001b[4;94m&\u001b[0m\u001b[4;94mrank\u001b[0m\u001b[4;94m=\u001b[0m\u001b[4;94mspecies\u001b[0m\u001b[4;94m&\u001b[0m\u001b[4;94mpage\u001b[0m\u001b[4;94m=\u001b[0m\u001b[4;94m12\u001b[0m\u001b[4;94m&\u001b[0m\u001b[4;94mper_page\u001b[0m\u001b[4;94m=\u001b[0m\u001b[4;94m200\u001b[0m            \u001b[2m              \u001b[0m\n",
       "\u001b[2;36m                 \u001b[0m         User-Agent: python-requests/\u001b[1;36m2.32\u001b[0m.\u001b[1;36m5\u001b[0m pyinaturalist/\u001b[1;36m0.19\u001b[0m.\u001b[1;36m0\u001b[0m                    \u001b[2m              \u001b[0m\n",
       "\u001b[2;36m                 \u001b[0m         Accept-Encoding: gzip, deflate                                             \u001b[2m              \u001b[0m\n",
       "\u001b[2;36m                 \u001b[0m         Accept: application/json                                                   \u001b[2m              \u001b[0m\n",
       "\u001b[2;36m                 \u001b[0m         Connection: keep-alive                                                     \u001b[2m              \u001b[0m\n",
       "\u001b[2;36m                 \u001b[0m                                                                                    \u001b[2m              \u001b[0m\n"
      ]
     },
     "metadata": {},
     "output_type": "display_data"
    },
    {
     "data": {
      "text/html": [
       "<pre style=\"white-space:pre;overflow-x:auto;line-height:normal;font-family:Menlo,'DejaVu Sans Mono',consolas,'Courier New',monospace\"><span style=\"color: #7fbfbf; text-decoration-color: #7fbfbf\">[09-19 11:58:28] </span><span style=\"color: #000080; text-decoration-color: #000080\">INFO    </span> Request:                                                                   <a href=\"file://c:\\Users\\ferli\\Documents\\ShroomRadar\\.venv\\Lib\\site-packages\\pyinaturalist\\session.py\" target=\"_blank\"><span style=\"color: #7f7f7f; text-decoration-color: #7f7f7f\">session.py</span></a><span style=\"color: #7f7f7f; text-decoration-color: #7f7f7f\">:</span><a href=\"file://c:\\Users\\ferli\\Documents\\ShroomRadar\\.venv\\Lib\\site-packages\\pyinaturalist\\session.py#297\" target=\"_blank\"><span style=\"color: #7f7f7f; text-decoration-color: #7f7f7f\">297</span></a>\n",
       "<span style=\"color: #7fbfbf; text-decoration-color: #7fbfbf\">                 </span>         <span style=\"color: #808000; text-decoration-color: #808000; font-weight: bold\">GET</span>                                                                        <span style=\"color: #7f7f7f; text-decoration-color: #7f7f7f\">              </span>\n",
       "<span style=\"color: #7fbfbf; text-decoration-color: #7fbfbf\">                 </span>         <span style=\"color: #0000ff; text-decoration-color: #0000ff; text-decoration: underline\">https://api.inaturalist.org/v1/observations?quality_grade=research&amp;taxon_n</span> <span style=\"color: #7f7f7f; text-decoration-color: #7f7f7f\">              </span>\n",
       "<span style=\"color: #7fbfbf; text-decoration-color: #7fbfbf\">                 </span>         <span style=\"color: #0000ff; text-decoration-color: #0000ff; text-decoration: underline\">ame=Summer+Bolete&amp;photos=true&amp;rank=species&amp;page=13&amp;per_page=200</span>            <span style=\"color: #7f7f7f; text-decoration-color: #7f7f7f\">              </span>\n",
       "<span style=\"color: #7fbfbf; text-decoration-color: #7fbfbf\">                 </span>         User-Agent: python-requests/<span style=\"color: #008080; text-decoration-color: #008080; font-weight: bold\">2.32</span>.<span style=\"color: #008080; text-decoration-color: #008080; font-weight: bold\">5</span> pyinaturalist/<span style=\"color: #008080; text-decoration-color: #008080; font-weight: bold\">0.19</span>.<span style=\"color: #008080; text-decoration-color: #008080; font-weight: bold\">0</span>                    <span style=\"color: #7f7f7f; text-decoration-color: #7f7f7f\">              </span>\n",
       "<span style=\"color: #7fbfbf; text-decoration-color: #7fbfbf\">                 </span>         Accept-Encoding: gzip, deflate                                             <span style=\"color: #7f7f7f; text-decoration-color: #7f7f7f\">              </span>\n",
       "<span style=\"color: #7fbfbf; text-decoration-color: #7fbfbf\">                 </span>         Accept: application/json                                                   <span style=\"color: #7f7f7f; text-decoration-color: #7f7f7f\">              </span>\n",
       "<span style=\"color: #7fbfbf; text-decoration-color: #7fbfbf\">                 </span>         Connection: keep-alive                                                     <span style=\"color: #7f7f7f; text-decoration-color: #7f7f7f\">              </span>\n",
       "<span style=\"color: #7fbfbf; text-decoration-color: #7fbfbf\">                 </span>                                                                                    <span style=\"color: #7f7f7f; text-decoration-color: #7f7f7f\">              </span>\n",
       "</pre>\n"
      ],
      "text/plain": [
       "\u001b[2;36m[09-19 11:58:28]\u001b[0m\u001b[2;36m \u001b[0m\u001b[34mINFO    \u001b[0m Request:                                                                   \u001b]8;id=269728;file://c:\\Users\\ferli\\Documents\\ShroomRadar\\.venv\\Lib\\site-packages\\pyinaturalist\\session.py\u001b\\\u001b[2msession.py\u001b[0m\u001b]8;;\u001b\\\u001b[2m:\u001b[0m\u001b]8;id=328148;file://c:\\Users\\ferli\\Documents\\ShroomRadar\\.venv\\Lib\\site-packages\\pyinaturalist\\session.py#297\u001b\\\u001b[2m297\u001b[0m\u001b]8;;\u001b\\\n",
       "\u001b[2;36m                 \u001b[0m         \u001b[1;33mGET\u001b[0m                                                                        \u001b[2m              \u001b[0m\n",
       "\u001b[2;36m                 \u001b[0m         \u001b[4;94mhttps://api.inaturalist.org/v1/observations?\u001b[0m\u001b[4;94mquality_grade\u001b[0m\u001b[4;94m=\u001b[0m\u001b[4;94mresearch\u001b[0m\u001b[4;94m&\u001b[0m\u001b[4;94mtaxon_n\u001b[0m \u001b[2m              \u001b[0m\n",
       "\u001b[2;36m                 \u001b[0m         \u001b[4;94mame\u001b[0m\u001b[4;94m=\u001b[0m\u001b[4;94mSummer\u001b[0m\u001b[4;94m+Bolete&\u001b[0m\u001b[4;94mphotos\u001b[0m\u001b[4;94m=\u001b[0m\u001b[4;94mtrue\u001b[0m\u001b[4;94m&\u001b[0m\u001b[4;94mrank\u001b[0m\u001b[4;94m=\u001b[0m\u001b[4;94mspecies\u001b[0m\u001b[4;94m&\u001b[0m\u001b[4;94mpage\u001b[0m\u001b[4;94m=\u001b[0m\u001b[4;94m13\u001b[0m\u001b[4;94m&\u001b[0m\u001b[4;94mper_page\u001b[0m\u001b[4;94m=\u001b[0m\u001b[4;94m200\u001b[0m            \u001b[2m              \u001b[0m\n",
       "\u001b[2;36m                 \u001b[0m         User-Agent: python-requests/\u001b[1;36m2.32\u001b[0m.\u001b[1;36m5\u001b[0m pyinaturalist/\u001b[1;36m0.19\u001b[0m.\u001b[1;36m0\u001b[0m                    \u001b[2m              \u001b[0m\n",
       "\u001b[2;36m                 \u001b[0m         Accept-Encoding: gzip, deflate                                             \u001b[2m              \u001b[0m\n",
       "\u001b[2;36m                 \u001b[0m         Accept: application/json                                                   \u001b[2m              \u001b[0m\n",
       "\u001b[2;36m                 \u001b[0m         Connection: keep-alive                                                     \u001b[2m              \u001b[0m\n",
       "\u001b[2;36m                 \u001b[0m                                                                                    \u001b[2m              \u001b[0m\n"
      ]
     },
     "metadata": {},
     "output_type": "display_data"
    },
    {
     "data": {
      "text/html": [
       "<pre style=\"white-space:pre;overflow-x:auto;line-height:normal;font-family:Menlo,'DejaVu Sans Mono',consolas,'Courier New',monospace\"><span style=\"color: #7fbfbf; text-decoration-color: #7fbfbf\">[09-19 11:58:32] </span><span style=\"color: #000080; text-decoration-color: #000080\">INFO    </span> Request:                                                                   <a href=\"file://c:\\Users\\ferli\\Documents\\ShroomRadar\\.venv\\Lib\\site-packages\\pyinaturalist\\session.py\" target=\"_blank\"><span style=\"color: #7f7f7f; text-decoration-color: #7f7f7f\">session.py</span></a><span style=\"color: #7f7f7f; text-decoration-color: #7f7f7f\">:</span><a href=\"file://c:\\Users\\ferli\\Documents\\ShroomRadar\\.venv\\Lib\\site-packages\\pyinaturalist\\session.py#297\" target=\"_blank\"><span style=\"color: #7f7f7f; text-decoration-color: #7f7f7f\">297</span></a>\n",
       "<span style=\"color: #7fbfbf; text-decoration-color: #7fbfbf\">                 </span>         <span style=\"color: #808000; text-decoration-color: #808000; font-weight: bold\">GET</span>                                                                        <span style=\"color: #7f7f7f; text-decoration-color: #7f7f7f\">              </span>\n",
       "<span style=\"color: #7fbfbf; text-decoration-color: #7fbfbf\">                 </span>         <span style=\"color: #0000ff; text-decoration-color: #0000ff; text-decoration: underline\">https://api.inaturalist.org/v1/observations?quality_grade=research&amp;taxon_n</span> <span style=\"color: #7f7f7f; text-decoration-color: #7f7f7f\">              </span>\n",
       "<span style=\"color: #7fbfbf; text-decoration-color: #7fbfbf\">                 </span>         <span style=\"color: #0000ff; text-decoration-color: #0000ff; text-decoration: underline\">ame=Summer+Bolete&amp;photos=true&amp;rank=species&amp;page=14&amp;per_page=200</span>            <span style=\"color: #7f7f7f; text-decoration-color: #7f7f7f\">              </span>\n",
       "<span style=\"color: #7fbfbf; text-decoration-color: #7fbfbf\">                 </span>         User-Agent: python-requests/<span style=\"color: #008080; text-decoration-color: #008080; font-weight: bold\">2.32</span>.<span style=\"color: #008080; text-decoration-color: #008080; font-weight: bold\">5</span> pyinaturalist/<span style=\"color: #008080; text-decoration-color: #008080; font-weight: bold\">0.19</span>.<span style=\"color: #008080; text-decoration-color: #008080; font-weight: bold\">0</span>                    <span style=\"color: #7f7f7f; text-decoration-color: #7f7f7f\">              </span>\n",
       "<span style=\"color: #7fbfbf; text-decoration-color: #7fbfbf\">                 </span>         Accept-Encoding: gzip, deflate                                             <span style=\"color: #7f7f7f; text-decoration-color: #7f7f7f\">              </span>\n",
       "<span style=\"color: #7fbfbf; text-decoration-color: #7fbfbf\">                 </span>         Accept: application/json                                                   <span style=\"color: #7f7f7f; text-decoration-color: #7f7f7f\">              </span>\n",
       "<span style=\"color: #7fbfbf; text-decoration-color: #7fbfbf\">                 </span>         Connection: keep-alive                                                     <span style=\"color: #7f7f7f; text-decoration-color: #7f7f7f\">              </span>\n",
       "<span style=\"color: #7fbfbf; text-decoration-color: #7fbfbf\">                 </span>                                                                                    <span style=\"color: #7f7f7f; text-decoration-color: #7f7f7f\">              </span>\n",
       "</pre>\n"
      ],
      "text/plain": [
       "\u001b[2;36m[09-19 11:58:32]\u001b[0m\u001b[2;36m \u001b[0m\u001b[34mINFO    \u001b[0m Request:                                                                   \u001b]8;id=492125;file://c:\\Users\\ferli\\Documents\\ShroomRadar\\.venv\\Lib\\site-packages\\pyinaturalist\\session.py\u001b\\\u001b[2msession.py\u001b[0m\u001b]8;;\u001b\\\u001b[2m:\u001b[0m\u001b]8;id=597913;file://c:\\Users\\ferli\\Documents\\ShroomRadar\\.venv\\Lib\\site-packages\\pyinaturalist\\session.py#297\u001b\\\u001b[2m297\u001b[0m\u001b]8;;\u001b\\\n",
       "\u001b[2;36m                 \u001b[0m         \u001b[1;33mGET\u001b[0m                                                                        \u001b[2m              \u001b[0m\n",
       "\u001b[2;36m                 \u001b[0m         \u001b[4;94mhttps://api.inaturalist.org/v1/observations?\u001b[0m\u001b[4;94mquality_grade\u001b[0m\u001b[4;94m=\u001b[0m\u001b[4;94mresearch\u001b[0m\u001b[4;94m&\u001b[0m\u001b[4;94mtaxon_n\u001b[0m \u001b[2m              \u001b[0m\n",
       "\u001b[2;36m                 \u001b[0m         \u001b[4;94mame\u001b[0m\u001b[4;94m=\u001b[0m\u001b[4;94mSummer\u001b[0m\u001b[4;94m+Bolete&\u001b[0m\u001b[4;94mphotos\u001b[0m\u001b[4;94m=\u001b[0m\u001b[4;94mtrue\u001b[0m\u001b[4;94m&\u001b[0m\u001b[4;94mrank\u001b[0m\u001b[4;94m=\u001b[0m\u001b[4;94mspecies\u001b[0m\u001b[4;94m&\u001b[0m\u001b[4;94mpage\u001b[0m\u001b[4;94m=\u001b[0m\u001b[4;94m14\u001b[0m\u001b[4;94m&\u001b[0m\u001b[4;94mper_page\u001b[0m\u001b[4;94m=\u001b[0m\u001b[4;94m200\u001b[0m            \u001b[2m              \u001b[0m\n",
       "\u001b[2;36m                 \u001b[0m         User-Agent: python-requests/\u001b[1;36m2.32\u001b[0m.\u001b[1;36m5\u001b[0m pyinaturalist/\u001b[1;36m0.19\u001b[0m.\u001b[1;36m0\u001b[0m                    \u001b[2m              \u001b[0m\n",
       "\u001b[2;36m                 \u001b[0m         Accept-Encoding: gzip, deflate                                             \u001b[2m              \u001b[0m\n",
       "\u001b[2;36m                 \u001b[0m         Accept: application/json                                                   \u001b[2m              \u001b[0m\n",
       "\u001b[2;36m                 \u001b[0m         Connection: keep-alive                                                     \u001b[2m              \u001b[0m\n",
       "\u001b[2;36m                 \u001b[0m                                                                                    \u001b[2m              \u001b[0m\n"
      ]
     },
     "metadata": {},
     "output_type": "display_data"
    },
    {
     "data": {
      "text/html": [
       "<pre style=\"white-space:pre;overflow-x:auto;line-height:normal;font-family:Menlo,'DejaVu Sans Mono',consolas,'Courier New',monospace\"><span style=\"color: #7fbfbf; text-decoration-color: #7fbfbf\">[09-19 11:58:36] </span><span style=\"color: #000080; text-decoration-color: #000080\">INFO    </span> Request:                                                                   <a href=\"file://c:\\Users\\ferli\\Documents\\ShroomRadar\\.venv\\Lib\\site-packages\\pyinaturalist\\session.py\" target=\"_blank\"><span style=\"color: #7f7f7f; text-decoration-color: #7f7f7f\">session.py</span></a><span style=\"color: #7f7f7f; text-decoration-color: #7f7f7f\">:</span><a href=\"file://c:\\Users\\ferli\\Documents\\ShroomRadar\\.venv\\Lib\\site-packages\\pyinaturalist\\session.py#297\" target=\"_blank\"><span style=\"color: #7f7f7f; text-decoration-color: #7f7f7f\">297</span></a>\n",
       "<span style=\"color: #7fbfbf; text-decoration-color: #7fbfbf\">                 </span>         <span style=\"color: #808000; text-decoration-color: #808000; font-weight: bold\">GET</span>                                                                        <span style=\"color: #7f7f7f; text-decoration-color: #7f7f7f\">              </span>\n",
       "<span style=\"color: #7fbfbf; text-decoration-color: #7fbfbf\">                 </span>         <span style=\"color: #0000ff; text-decoration-color: #0000ff; text-decoration: underline\">https://api.inaturalist.org/v1/observations?quality_grade=research&amp;taxon_n</span> <span style=\"color: #7f7f7f; text-decoration-color: #7f7f7f\">              </span>\n",
       "<span style=\"color: #7fbfbf; text-decoration-color: #7fbfbf\">                 </span>         <span style=\"color: #0000ff; text-decoration-color: #0000ff; text-decoration: underline\">ame=Summer+Bolete&amp;photos=true&amp;rank=species&amp;page=15&amp;per_page=200</span>            <span style=\"color: #7f7f7f; text-decoration-color: #7f7f7f\">              </span>\n",
       "<span style=\"color: #7fbfbf; text-decoration-color: #7fbfbf\">                 </span>         User-Agent: python-requests/<span style=\"color: #008080; text-decoration-color: #008080; font-weight: bold\">2.32</span>.<span style=\"color: #008080; text-decoration-color: #008080; font-weight: bold\">5</span> pyinaturalist/<span style=\"color: #008080; text-decoration-color: #008080; font-weight: bold\">0.19</span>.<span style=\"color: #008080; text-decoration-color: #008080; font-weight: bold\">0</span>                    <span style=\"color: #7f7f7f; text-decoration-color: #7f7f7f\">              </span>\n",
       "<span style=\"color: #7fbfbf; text-decoration-color: #7fbfbf\">                 </span>         Accept-Encoding: gzip, deflate                                             <span style=\"color: #7f7f7f; text-decoration-color: #7f7f7f\">              </span>\n",
       "<span style=\"color: #7fbfbf; text-decoration-color: #7fbfbf\">                 </span>         Accept: application/json                                                   <span style=\"color: #7f7f7f; text-decoration-color: #7f7f7f\">              </span>\n",
       "<span style=\"color: #7fbfbf; text-decoration-color: #7fbfbf\">                 </span>         Connection: keep-alive                                                     <span style=\"color: #7f7f7f; text-decoration-color: #7f7f7f\">              </span>\n",
       "<span style=\"color: #7fbfbf; text-decoration-color: #7fbfbf\">                 </span>                                                                                    <span style=\"color: #7f7f7f; text-decoration-color: #7f7f7f\">              </span>\n",
       "</pre>\n"
      ],
      "text/plain": [
       "\u001b[2;36m[09-19 11:58:36]\u001b[0m\u001b[2;36m \u001b[0m\u001b[34mINFO    \u001b[0m Request:                                                                   \u001b]8;id=256101;file://c:\\Users\\ferli\\Documents\\ShroomRadar\\.venv\\Lib\\site-packages\\pyinaturalist\\session.py\u001b\\\u001b[2msession.py\u001b[0m\u001b]8;;\u001b\\\u001b[2m:\u001b[0m\u001b]8;id=144135;file://c:\\Users\\ferli\\Documents\\ShroomRadar\\.venv\\Lib\\site-packages\\pyinaturalist\\session.py#297\u001b\\\u001b[2m297\u001b[0m\u001b]8;;\u001b\\\n",
       "\u001b[2;36m                 \u001b[0m         \u001b[1;33mGET\u001b[0m                                                                        \u001b[2m              \u001b[0m\n",
       "\u001b[2;36m                 \u001b[0m         \u001b[4;94mhttps://api.inaturalist.org/v1/observations?\u001b[0m\u001b[4;94mquality_grade\u001b[0m\u001b[4;94m=\u001b[0m\u001b[4;94mresearch\u001b[0m\u001b[4;94m&\u001b[0m\u001b[4;94mtaxon_n\u001b[0m \u001b[2m              \u001b[0m\n",
       "\u001b[2;36m                 \u001b[0m         \u001b[4;94mame\u001b[0m\u001b[4;94m=\u001b[0m\u001b[4;94mSummer\u001b[0m\u001b[4;94m+Bolete&\u001b[0m\u001b[4;94mphotos\u001b[0m\u001b[4;94m=\u001b[0m\u001b[4;94mtrue\u001b[0m\u001b[4;94m&\u001b[0m\u001b[4;94mrank\u001b[0m\u001b[4;94m=\u001b[0m\u001b[4;94mspecies\u001b[0m\u001b[4;94m&\u001b[0m\u001b[4;94mpage\u001b[0m\u001b[4;94m=\u001b[0m\u001b[4;94m15\u001b[0m\u001b[4;94m&\u001b[0m\u001b[4;94mper_page\u001b[0m\u001b[4;94m=\u001b[0m\u001b[4;94m200\u001b[0m            \u001b[2m              \u001b[0m\n",
       "\u001b[2;36m                 \u001b[0m         User-Agent: python-requests/\u001b[1;36m2.32\u001b[0m.\u001b[1;36m5\u001b[0m pyinaturalist/\u001b[1;36m0.19\u001b[0m.\u001b[1;36m0\u001b[0m                    \u001b[2m              \u001b[0m\n",
       "\u001b[2;36m                 \u001b[0m         Accept-Encoding: gzip, deflate                                             \u001b[2m              \u001b[0m\n",
       "\u001b[2;36m                 \u001b[0m         Accept: application/json                                                   \u001b[2m              \u001b[0m\n",
       "\u001b[2;36m                 \u001b[0m         Connection: keep-alive                                                     \u001b[2m              \u001b[0m\n",
       "\u001b[2;36m                 \u001b[0m                                                                                    \u001b[2m              \u001b[0m\n"
      ]
     },
     "metadata": {},
     "output_type": "display_data"
    },
    {
     "data": {
      "text/html": [
       "<pre style=\"white-space:pre;overflow-x:auto;line-height:normal;font-family:Menlo,'DejaVu Sans Mono',consolas,'Courier New',monospace\"><span style=\"color: #7fbfbf; text-decoration-color: #7fbfbf\">[09-19 11:58:40] </span><span style=\"color: #000080; text-decoration-color: #000080\">INFO    </span> Request:                                                                   <a href=\"file://c:\\Users\\ferli\\Documents\\ShroomRadar\\.venv\\Lib\\site-packages\\pyinaturalist\\session.py\" target=\"_blank\"><span style=\"color: #7f7f7f; text-decoration-color: #7f7f7f\">session.py</span></a><span style=\"color: #7f7f7f; text-decoration-color: #7f7f7f\">:</span><a href=\"file://c:\\Users\\ferli\\Documents\\ShroomRadar\\.venv\\Lib\\site-packages\\pyinaturalist\\session.py#297\" target=\"_blank\"><span style=\"color: #7f7f7f; text-decoration-color: #7f7f7f\">297</span></a>\n",
       "<span style=\"color: #7fbfbf; text-decoration-color: #7fbfbf\">                 </span>         <span style=\"color: #808000; text-decoration-color: #808000; font-weight: bold\">GET</span>                                                                        <span style=\"color: #7f7f7f; text-decoration-color: #7f7f7f\">              </span>\n",
       "<span style=\"color: #7fbfbf; text-decoration-color: #7fbfbf\">                 </span>         <span style=\"color: #0000ff; text-decoration-color: #0000ff; text-decoration: underline\">https://api.inaturalist.org/v1/observations?quality_grade=research&amp;taxon_n</span> <span style=\"color: #7f7f7f; text-decoration-color: #7f7f7f\">              </span>\n",
       "<span style=\"color: #7fbfbf; text-decoration-color: #7fbfbf\">                 </span>         <span style=\"color: #0000ff; text-decoration-color: #0000ff; text-decoration: underline\">ame=Summer+Bolete&amp;photos=true&amp;rank=species&amp;page=16&amp;per_page=200</span>            <span style=\"color: #7f7f7f; text-decoration-color: #7f7f7f\">              </span>\n",
       "<span style=\"color: #7fbfbf; text-decoration-color: #7fbfbf\">                 </span>         User-Agent: python-requests/<span style=\"color: #008080; text-decoration-color: #008080; font-weight: bold\">2.32</span>.<span style=\"color: #008080; text-decoration-color: #008080; font-weight: bold\">5</span> pyinaturalist/<span style=\"color: #008080; text-decoration-color: #008080; font-weight: bold\">0.19</span>.<span style=\"color: #008080; text-decoration-color: #008080; font-weight: bold\">0</span>                    <span style=\"color: #7f7f7f; text-decoration-color: #7f7f7f\">              </span>\n",
       "<span style=\"color: #7fbfbf; text-decoration-color: #7fbfbf\">                 </span>         Accept-Encoding: gzip, deflate                                             <span style=\"color: #7f7f7f; text-decoration-color: #7f7f7f\">              </span>\n",
       "<span style=\"color: #7fbfbf; text-decoration-color: #7fbfbf\">                 </span>         Accept: application/json                                                   <span style=\"color: #7f7f7f; text-decoration-color: #7f7f7f\">              </span>\n",
       "<span style=\"color: #7fbfbf; text-decoration-color: #7fbfbf\">                 </span>         Connection: keep-alive                                                     <span style=\"color: #7f7f7f; text-decoration-color: #7f7f7f\">              </span>\n",
       "<span style=\"color: #7fbfbf; text-decoration-color: #7fbfbf\">                 </span>                                                                                    <span style=\"color: #7f7f7f; text-decoration-color: #7f7f7f\">              </span>\n",
       "</pre>\n"
      ],
      "text/plain": [
       "\u001b[2;36m[09-19 11:58:40]\u001b[0m\u001b[2;36m \u001b[0m\u001b[34mINFO    \u001b[0m Request:                                                                   \u001b]8;id=778388;file://c:\\Users\\ferli\\Documents\\ShroomRadar\\.venv\\Lib\\site-packages\\pyinaturalist\\session.py\u001b\\\u001b[2msession.py\u001b[0m\u001b]8;;\u001b\\\u001b[2m:\u001b[0m\u001b]8;id=209475;file://c:\\Users\\ferli\\Documents\\ShroomRadar\\.venv\\Lib\\site-packages\\pyinaturalist\\session.py#297\u001b\\\u001b[2m297\u001b[0m\u001b]8;;\u001b\\\n",
       "\u001b[2;36m                 \u001b[0m         \u001b[1;33mGET\u001b[0m                                                                        \u001b[2m              \u001b[0m\n",
       "\u001b[2;36m                 \u001b[0m         \u001b[4;94mhttps://api.inaturalist.org/v1/observations?\u001b[0m\u001b[4;94mquality_grade\u001b[0m\u001b[4;94m=\u001b[0m\u001b[4;94mresearch\u001b[0m\u001b[4;94m&\u001b[0m\u001b[4;94mtaxon_n\u001b[0m \u001b[2m              \u001b[0m\n",
       "\u001b[2;36m                 \u001b[0m         \u001b[4;94mame\u001b[0m\u001b[4;94m=\u001b[0m\u001b[4;94mSummer\u001b[0m\u001b[4;94m+Bolete&\u001b[0m\u001b[4;94mphotos\u001b[0m\u001b[4;94m=\u001b[0m\u001b[4;94mtrue\u001b[0m\u001b[4;94m&\u001b[0m\u001b[4;94mrank\u001b[0m\u001b[4;94m=\u001b[0m\u001b[4;94mspecies\u001b[0m\u001b[4;94m&\u001b[0m\u001b[4;94mpage\u001b[0m\u001b[4;94m=\u001b[0m\u001b[4;94m16\u001b[0m\u001b[4;94m&\u001b[0m\u001b[4;94mper_page\u001b[0m\u001b[4;94m=\u001b[0m\u001b[4;94m200\u001b[0m            \u001b[2m              \u001b[0m\n",
       "\u001b[2;36m                 \u001b[0m         User-Agent: python-requests/\u001b[1;36m2.32\u001b[0m.\u001b[1;36m5\u001b[0m pyinaturalist/\u001b[1;36m0.19\u001b[0m.\u001b[1;36m0\u001b[0m                    \u001b[2m              \u001b[0m\n",
       "\u001b[2;36m                 \u001b[0m         Accept-Encoding: gzip, deflate                                             \u001b[2m              \u001b[0m\n",
       "\u001b[2;36m                 \u001b[0m         Accept: application/json                                                   \u001b[2m              \u001b[0m\n",
       "\u001b[2;36m                 \u001b[0m         Connection: keep-alive                                                     \u001b[2m              \u001b[0m\n",
       "\u001b[2;36m                 \u001b[0m                                                                                    \u001b[2m              \u001b[0m\n"
      ]
     },
     "metadata": {},
     "output_type": "display_data"
    },
    {
     "data": {
      "text/html": [
       "<pre style=\"white-space:pre;overflow-x:auto;line-height:normal;font-family:Menlo,'DejaVu Sans Mono',consolas,'Courier New',monospace\"><span style=\"color: #7fbfbf; text-decoration-color: #7fbfbf\">[09-19 11:58:44] </span><span style=\"color: #000080; text-decoration-color: #000080\">INFO    </span> Request:                                                                   <a href=\"file://c:\\Users\\ferli\\Documents\\ShroomRadar\\.venv\\Lib\\site-packages\\pyinaturalist\\session.py\" target=\"_blank\"><span style=\"color: #7f7f7f; text-decoration-color: #7f7f7f\">session.py</span></a><span style=\"color: #7f7f7f; text-decoration-color: #7f7f7f\">:</span><a href=\"file://c:\\Users\\ferli\\Documents\\ShroomRadar\\.venv\\Lib\\site-packages\\pyinaturalist\\session.py#297\" target=\"_blank\"><span style=\"color: #7f7f7f; text-decoration-color: #7f7f7f\">297</span></a>\n",
       "<span style=\"color: #7fbfbf; text-decoration-color: #7fbfbf\">                 </span>         <span style=\"color: #808000; text-decoration-color: #808000; font-weight: bold\">GET</span>                                                                        <span style=\"color: #7f7f7f; text-decoration-color: #7f7f7f\">              </span>\n",
       "<span style=\"color: #7fbfbf; text-decoration-color: #7fbfbf\">                 </span>         <span style=\"color: #0000ff; text-decoration-color: #0000ff; text-decoration: underline\">https://api.inaturalist.org/v1/observations?quality_grade=research&amp;taxon_n</span> <span style=\"color: #7f7f7f; text-decoration-color: #7f7f7f\">              </span>\n",
       "<span style=\"color: #7fbfbf; text-decoration-color: #7fbfbf\">                 </span>         <span style=\"color: #0000ff; text-decoration-color: #0000ff; text-decoration: underline\">ame=Summer+Bolete&amp;photos=true&amp;rank=species&amp;page=17&amp;per_page=200</span>            <span style=\"color: #7f7f7f; text-decoration-color: #7f7f7f\">              </span>\n",
       "<span style=\"color: #7fbfbf; text-decoration-color: #7fbfbf\">                 </span>         User-Agent: python-requests/<span style=\"color: #008080; text-decoration-color: #008080; font-weight: bold\">2.32</span>.<span style=\"color: #008080; text-decoration-color: #008080; font-weight: bold\">5</span> pyinaturalist/<span style=\"color: #008080; text-decoration-color: #008080; font-weight: bold\">0.19</span>.<span style=\"color: #008080; text-decoration-color: #008080; font-weight: bold\">0</span>                    <span style=\"color: #7f7f7f; text-decoration-color: #7f7f7f\">              </span>\n",
       "<span style=\"color: #7fbfbf; text-decoration-color: #7fbfbf\">                 </span>         Accept-Encoding: gzip, deflate                                             <span style=\"color: #7f7f7f; text-decoration-color: #7f7f7f\">              </span>\n",
       "<span style=\"color: #7fbfbf; text-decoration-color: #7fbfbf\">                 </span>         Accept: application/json                                                   <span style=\"color: #7f7f7f; text-decoration-color: #7f7f7f\">              </span>\n",
       "<span style=\"color: #7fbfbf; text-decoration-color: #7fbfbf\">                 </span>         Connection: keep-alive                                                     <span style=\"color: #7f7f7f; text-decoration-color: #7f7f7f\">              </span>\n",
       "<span style=\"color: #7fbfbf; text-decoration-color: #7fbfbf\">                 </span>                                                                                    <span style=\"color: #7f7f7f; text-decoration-color: #7f7f7f\">              </span>\n",
       "</pre>\n"
      ],
      "text/plain": [
       "\u001b[2;36m[09-19 11:58:44]\u001b[0m\u001b[2;36m \u001b[0m\u001b[34mINFO    \u001b[0m Request:                                                                   \u001b]8;id=136047;file://c:\\Users\\ferli\\Documents\\ShroomRadar\\.venv\\Lib\\site-packages\\pyinaturalist\\session.py\u001b\\\u001b[2msession.py\u001b[0m\u001b]8;;\u001b\\\u001b[2m:\u001b[0m\u001b]8;id=942670;file://c:\\Users\\ferli\\Documents\\ShroomRadar\\.venv\\Lib\\site-packages\\pyinaturalist\\session.py#297\u001b\\\u001b[2m297\u001b[0m\u001b]8;;\u001b\\\n",
       "\u001b[2;36m                 \u001b[0m         \u001b[1;33mGET\u001b[0m                                                                        \u001b[2m              \u001b[0m\n",
       "\u001b[2;36m                 \u001b[0m         \u001b[4;94mhttps://api.inaturalist.org/v1/observations?\u001b[0m\u001b[4;94mquality_grade\u001b[0m\u001b[4;94m=\u001b[0m\u001b[4;94mresearch\u001b[0m\u001b[4;94m&\u001b[0m\u001b[4;94mtaxon_n\u001b[0m \u001b[2m              \u001b[0m\n",
       "\u001b[2;36m                 \u001b[0m         \u001b[4;94mame\u001b[0m\u001b[4;94m=\u001b[0m\u001b[4;94mSummer\u001b[0m\u001b[4;94m+Bolete&\u001b[0m\u001b[4;94mphotos\u001b[0m\u001b[4;94m=\u001b[0m\u001b[4;94mtrue\u001b[0m\u001b[4;94m&\u001b[0m\u001b[4;94mrank\u001b[0m\u001b[4;94m=\u001b[0m\u001b[4;94mspecies\u001b[0m\u001b[4;94m&\u001b[0m\u001b[4;94mpage\u001b[0m\u001b[4;94m=\u001b[0m\u001b[4;94m17\u001b[0m\u001b[4;94m&\u001b[0m\u001b[4;94mper_page\u001b[0m\u001b[4;94m=\u001b[0m\u001b[4;94m200\u001b[0m            \u001b[2m              \u001b[0m\n",
       "\u001b[2;36m                 \u001b[0m         User-Agent: python-requests/\u001b[1;36m2.32\u001b[0m.\u001b[1;36m5\u001b[0m pyinaturalist/\u001b[1;36m0.19\u001b[0m.\u001b[1;36m0\u001b[0m                    \u001b[2m              \u001b[0m\n",
       "\u001b[2;36m                 \u001b[0m         Accept-Encoding: gzip, deflate                                             \u001b[2m              \u001b[0m\n",
       "\u001b[2;36m                 \u001b[0m         Accept: application/json                                                   \u001b[2m              \u001b[0m\n",
       "\u001b[2;36m                 \u001b[0m         Connection: keep-alive                                                     \u001b[2m              \u001b[0m\n",
       "\u001b[2;36m                 \u001b[0m                                                                                    \u001b[2m              \u001b[0m\n"
      ]
     },
     "metadata": {},
     "output_type": "display_data"
    },
    {
     "data": {
      "text/html": [
       "<pre style=\"white-space:pre;overflow-x:auto;line-height:normal;font-family:Menlo,'DejaVu Sans Mono',consolas,'Courier New',monospace\"><span style=\"color: #7fbfbf; text-decoration-color: #7fbfbf\">[09-19 11:58:48] </span><span style=\"color: #000080; text-decoration-color: #000080\">INFO    </span> Request:                                                                   <a href=\"file://c:\\Users\\ferli\\Documents\\ShroomRadar\\.venv\\Lib\\site-packages\\pyinaturalist\\session.py\" target=\"_blank\"><span style=\"color: #7f7f7f; text-decoration-color: #7f7f7f\">session.py</span></a><span style=\"color: #7f7f7f; text-decoration-color: #7f7f7f\">:</span><a href=\"file://c:\\Users\\ferli\\Documents\\ShroomRadar\\.venv\\Lib\\site-packages\\pyinaturalist\\session.py#297\" target=\"_blank\"><span style=\"color: #7f7f7f; text-decoration-color: #7f7f7f\">297</span></a>\n",
       "<span style=\"color: #7fbfbf; text-decoration-color: #7fbfbf\">                 </span>         <span style=\"color: #808000; text-decoration-color: #808000; font-weight: bold\">GET</span>                                                                        <span style=\"color: #7f7f7f; text-decoration-color: #7f7f7f\">              </span>\n",
       "<span style=\"color: #7fbfbf; text-decoration-color: #7fbfbf\">                 </span>         <span style=\"color: #0000ff; text-decoration-color: #0000ff; text-decoration: underline\">https://api.inaturalist.org/v1/observations?quality_grade=research&amp;taxon_n</span> <span style=\"color: #7f7f7f; text-decoration-color: #7f7f7f\">              </span>\n",
       "<span style=\"color: #7fbfbf; text-decoration-color: #7fbfbf\">                 </span>         <span style=\"color: #0000ff; text-decoration-color: #0000ff; text-decoration: underline\">ame=Summer+Bolete&amp;photos=true&amp;rank=species&amp;page=18&amp;per_page=200</span>            <span style=\"color: #7f7f7f; text-decoration-color: #7f7f7f\">              </span>\n",
       "<span style=\"color: #7fbfbf; text-decoration-color: #7fbfbf\">                 </span>         User-Agent: python-requests/<span style=\"color: #008080; text-decoration-color: #008080; font-weight: bold\">2.32</span>.<span style=\"color: #008080; text-decoration-color: #008080; font-weight: bold\">5</span> pyinaturalist/<span style=\"color: #008080; text-decoration-color: #008080; font-weight: bold\">0.19</span>.<span style=\"color: #008080; text-decoration-color: #008080; font-weight: bold\">0</span>                    <span style=\"color: #7f7f7f; text-decoration-color: #7f7f7f\">              </span>\n",
       "<span style=\"color: #7fbfbf; text-decoration-color: #7fbfbf\">                 </span>         Accept-Encoding: gzip, deflate                                             <span style=\"color: #7f7f7f; text-decoration-color: #7f7f7f\">              </span>\n",
       "<span style=\"color: #7fbfbf; text-decoration-color: #7fbfbf\">                 </span>         Accept: application/json                                                   <span style=\"color: #7f7f7f; text-decoration-color: #7f7f7f\">              </span>\n",
       "<span style=\"color: #7fbfbf; text-decoration-color: #7fbfbf\">                 </span>         Connection: keep-alive                                                     <span style=\"color: #7f7f7f; text-decoration-color: #7f7f7f\">              </span>\n",
       "<span style=\"color: #7fbfbf; text-decoration-color: #7fbfbf\">                 </span>                                                                                    <span style=\"color: #7f7f7f; text-decoration-color: #7f7f7f\">              </span>\n",
       "</pre>\n"
      ],
      "text/plain": [
       "\u001b[2;36m[09-19 11:58:48]\u001b[0m\u001b[2;36m \u001b[0m\u001b[34mINFO    \u001b[0m Request:                                                                   \u001b]8;id=646695;file://c:\\Users\\ferli\\Documents\\ShroomRadar\\.venv\\Lib\\site-packages\\pyinaturalist\\session.py\u001b\\\u001b[2msession.py\u001b[0m\u001b]8;;\u001b\\\u001b[2m:\u001b[0m\u001b]8;id=660026;file://c:\\Users\\ferli\\Documents\\ShroomRadar\\.venv\\Lib\\site-packages\\pyinaturalist\\session.py#297\u001b\\\u001b[2m297\u001b[0m\u001b]8;;\u001b\\\n",
       "\u001b[2;36m                 \u001b[0m         \u001b[1;33mGET\u001b[0m                                                                        \u001b[2m              \u001b[0m\n",
       "\u001b[2;36m                 \u001b[0m         \u001b[4;94mhttps://api.inaturalist.org/v1/observations?\u001b[0m\u001b[4;94mquality_grade\u001b[0m\u001b[4;94m=\u001b[0m\u001b[4;94mresearch\u001b[0m\u001b[4;94m&\u001b[0m\u001b[4;94mtaxon_n\u001b[0m \u001b[2m              \u001b[0m\n",
       "\u001b[2;36m                 \u001b[0m         \u001b[4;94mame\u001b[0m\u001b[4;94m=\u001b[0m\u001b[4;94mSummer\u001b[0m\u001b[4;94m+Bolete&\u001b[0m\u001b[4;94mphotos\u001b[0m\u001b[4;94m=\u001b[0m\u001b[4;94mtrue\u001b[0m\u001b[4;94m&\u001b[0m\u001b[4;94mrank\u001b[0m\u001b[4;94m=\u001b[0m\u001b[4;94mspecies\u001b[0m\u001b[4;94m&\u001b[0m\u001b[4;94mpage\u001b[0m\u001b[4;94m=\u001b[0m\u001b[4;94m18\u001b[0m\u001b[4;94m&\u001b[0m\u001b[4;94mper_page\u001b[0m\u001b[4;94m=\u001b[0m\u001b[4;94m200\u001b[0m            \u001b[2m              \u001b[0m\n",
       "\u001b[2;36m                 \u001b[0m         User-Agent: python-requests/\u001b[1;36m2.32\u001b[0m.\u001b[1;36m5\u001b[0m pyinaturalist/\u001b[1;36m0.19\u001b[0m.\u001b[1;36m0\u001b[0m                    \u001b[2m              \u001b[0m\n",
       "\u001b[2;36m                 \u001b[0m         Accept-Encoding: gzip, deflate                                             \u001b[2m              \u001b[0m\n",
       "\u001b[2;36m                 \u001b[0m         Accept: application/json                                                   \u001b[2m              \u001b[0m\n",
       "\u001b[2;36m                 \u001b[0m         Connection: keep-alive                                                     \u001b[2m              \u001b[0m\n",
       "\u001b[2;36m                 \u001b[0m                                                                                    \u001b[2m              \u001b[0m\n"
      ]
     },
     "metadata": {},
     "output_type": "display_data"
    },
    {
     "data": {
      "text/html": [
       "<pre style=\"white-space:pre;overflow-x:auto;line-height:normal;font-family:Menlo,'DejaVu Sans Mono',consolas,'Courier New',monospace\"><span style=\"color: #7fbfbf; text-decoration-color: #7fbfbf\">[09-19 11:58:52] </span><span style=\"color: #000080; text-decoration-color: #000080\">INFO    </span> Request:                                                                   <a href=\"file://c:\\Users\\ferli\\Documents\\ShroomRadar\\.venv\\Lib\\site-packages\\pyinaturalist\\session.py\" target=\"_blank\"><span style=\"color: #7f7f7f; text-decoration-color: #7f7f7f\">session.py</span></a><span style=\"color: #7f7f7f; text-decoration-color: #7f7f7f\">:</span><a href=\"file://c:\\Users\\ferli\\Documents\\ShroomRadar\\.venv\\Lib\\site-packages\\pyinaturalist\\session.py#297\" target=\"_blank\"><span style=\"color: #7f7f7f; text-decoration-color: #7f7f7f\">297</span></a>\n",
       "<span style=\"color: #7fbfbf; text-decoration-color: #7fbfbf\">                 </span>         <span style=\"color: #808000; text-decoration-color: #808000; font-weight: bold\">GET</span>                                                                        <span style=\"color: #7f7f7f; text-decoration-color: #7f7f7f\">              </span>\n",
       "<span style=\"color: #7fbfbf; text-decoration-color: #7fbfbf\">                 </span>         <span style=\"color: #0000ff; text-decoration-color: #0000ff; text-decoration: underline\">https://api.inaturalist.org/v1/observations?quality_grade=research&amp;taxon_n</span> <span style=\"color: #7f7f7f; text-decoration-color: #7f7f7f\">              </span>\n",
       "<span style=\"color: #7fbfbf; text-decoration-color: #7fbfbf\">                 </span>         <span style=\"color: #0000ff; text-decoration-color: #0000ff; text-decoration: underline\">ame=Summer+Bolete&amp;photos=true&amp;rank=species&amp;page=19&amp;per_page=200</span>            <span style=\"color: #7f7f7f; text-decoration-color: #7f7f7f\">              </span>\n",
       "<span style=\"color: #7fbfbf; text-decoration-color: #7fbfbf\">                 </span>         User-Agent: python-requests/<span style=\"color: #008080; text-decoration-color: #008080; font-weight: bold\">2.32</span>.<span style=\"color: #008080; text-decoration-color: #008080; font-weight: bold\">5</span> pyinaturalist/<span style=\"color: #008080; text-decoration-color: #008080; font-weight: bold\">0.19</span>.<span style=\"color: #008080; text-decoration-color: #008080; font-weight: bold\">0</span>                    <span style=\"color: #7f7f7f; text-decoration-color: #7f7f7f\">              </span>\n",
       "<span style=\"color: #7fbfbf; text-decoration-color: #7fbfbf\">                 </span>         Accept-Encoding: gzip, deflate                                             <span style=\"color: #7f7f7f; text-decoration-color: #7f7f7f\">              </span>\n",
       "<span style=\"color: #7fbfbf; text-decoration-color: #7fbfbf\">                 </span>         Accept: application/json                                                   <span style=\"color: #7f7f7f; text-decoration-color: #7f7f7f\">              </span>\n",
       "<span style=\"color: #7fbfbf; text-decoration-color: #7fbfbf\">                 </span>         Connection: keep-alive                                                     <span style=\"color: #7f7f7f; text-decoration-color: #7f7f7f\">              </span>\n",
       "<span style=\"color: #7fbfbf; text-decoration-color: #7fbfbf\">                 </span>                                                                                    <span style=\"color: #7f7f7f; text-decoration-color: #7f7f7f\">              </span>\n",
       "</pre>\n"
      ],
      "text/plain": [
       "\u001b[2;36m[09-19 11:58:52]\u001b[0m\u001b[2;36m \u001b[0m\u001b[34mINFO    \u001b[0m Request:                                                                   \u001b]8;id=931575;file://c:\\Users\\ferli\\Documents\\ShroomRadar\\.venv\\Lib\\site-packages\\pyinaturalist\\session.py\u001b\\\u001b[2msession.py\u001b[0m\u001b]8;;\u001b\\\u001b[2m:\u001b[0m\u001b]8;id=440295;file://c:\\Users\\ferli\\Documents\\ShroomRadar\\.venv\\Lib\\site-packages\\pyinaturalist\\session.py#297\u001b\\\u001b[2m297\u001b[0m\u001b]8;;\u001b\\\n",
       "\u001b[2;36m                 \u001b[0m         \u001b[1;33mGET\u001b[0m                                                                        \u001b[2m              \u001b[0m\n",
       "\u001b[2;36m                 \u001b[0m         \u001b[4;94mhttps://api.inaturalist.org/v1/observations?\u001b[0m\u001b[4;94mquality_grade\u001b[0m\u001b[4;94m=\u001b[0m\u001b[4;94mresearch\u001b[0m\u001b[4;94m&\u001b[0m\u001b[4;94mtaxon_n\u001b[0m \u001b[2m              \u001b[0m\n",
       "\u001b[2;36m                 \u001b[0m         \u001b[4;94mame\u001b[0m\u001b[4;94m=\u001b[0m\u001b[4;94mSummer\u001b[0m\u001b[4;94m+Bolete&\u001b[0m\u001b[4;94mphotos\u001b[0m\u001b[4;94m=\u001b[0m\u001b[4;94mtrue\u001b[0m\u001b[4;94m&\u001b[0m\u001b[4;94mrank\u001b[0m\u001b[4;94m=\u001b[0m\u001b[4;94mspecies\u001b[0m\u001b[4;94m&\u001b[0m\u001b[4;94mpage\u001b[0m\u001b[4;94m=\u001b[0m\u001b[4;94m19\u001b[0m\u001b[4;94m&\u001b[0m\u001b[4;94mper_page\u001b[0m\u001b[4;94m=\u001b[0m\u001b[4;94m200\u001b[0m            \u001b[2m              \u001b[0m\n",
       "\u001b[2;36m                 \u001b[0m         User-Agent: python-requests/\u001b[1;36m2.32\u001b[0m.\u001b[1;36m5\u001b[0m pyinaturalist/\u001b[1;36m0.19\u001b[0m.\u001b[1;36m0\u001b[0m                    \u001b[2m              \u001b[0m\n",
       "\u001b[2;36m                 \u001b[0m         Accept-Encoding: gzip, deflate                                             \u001b[2m              \u001b[0m\n",
       "\u001b[2;36m                 \u001b[0m         Accept: application/json                                                   \u001b[2m              \u001b[0m\n",
       "\u001b[2;36m                 \u001b[0m         Connection: keep-alive                                                     \u001b[2m              \u001b[0m\n",
       "\u001b[2;36m                 \u001b[0m                                                                                    \u001b[2m              \u001b[0m\n"
      ]
     },
     "metadata": {},
     "output_type": "display_data"
    },
    {
     "data": {
      "text/html": [
       "<pre style=\"white-space:pre;overflow-x:auto;line-height:normal;font-family:Menlo,'DejaVu Sans Mono',consolas,'Courier New',monospace\"><span style=\"color: #7fbfbf; text-decoration-color: #7fbfbf\">[09-19 11:58:56] </span><span style=\"color: #000080; text-decoration-color: #000080\">INFO    </span> Request:                                                                   <a href=\"file://c:\\Users\\ferli\\Documents\\ShroomRadar\\.venv\\Lib\\site-packages\\pyinaturalist\\session.py\" target=\"_blank\"><span style=\"color: #7f7f7f; text-decoration-color: #7f7f7f\">session.py</span></a><span style=\"color: #7f7f7f; text-decoration-color: #7f7f7f\">:</span><a href=\"file://c:\\Users\\ferli\\Documents\\ShroomRadar\\.venv\\Lib\\site-packages\\pyinaturalist\\session.py#297\" target=\"_blank\"><span style=\"color: #7f7f7f; text-decoration-color: #7f7f7f\">297</span></a>\n",
       "<span style=\"color: #7fbfbf; text-decoration-color: #7fbfbf\">                 </span>         <span style=\"color: #808000; text-decoration-color: #808000; font-weight: bold\">GET</span>                                                                        <span style=\"color: #7f7f7f; text-decoration-color: #7f7f7f\">              </span>\n",
       "<span style=\"color: #7fbfbf; text-decoration-color: #7fbfbf\">                 </span>         <span style=\"color: #0000ff; text-decoration-color: #0000ff; text-decoration: underline\">https://api.inaturalist.org/v1/observations?quality_grade=research&amp;taxon_n</span> <span style=\"color: #7f7f7f; text-decoration-color: #7f7f7f\">              </span>\n",
       "<span style=\"color: #7fbfbf; text-decoration-color: #7fbfbf\">                 </span>         <span style=\"color: #0000ff; text-decoration-color: #0000ff; text-decoration: underline\">ame=Summer+Bolete&amp;photos=true&amp;rank=species&amp;page=20&amp;per_page=200</span>            <span style=\"color: #7f7f7f; text-decoration-color: #7f7f7f\">              </span>\n",
       "<span style=\"color: #7fbfbf; text-decoration-color: #7fbfbf\">                 </span>         User-Agent: python-requests/<span style=\"color: #008080; text-decoration-color: #008080; font-weight: bold\">2.32</span>.<span style=\"color: #008080; text-decoration-color: #008080; font-weight: bold\">5</span> pyinaturalist/<span style=\"color: #008080; text-decoration-color: #008080; font-weight: bold\">0.19</span>.<span style=\"color: #008080; text-decoration-color: #008080; font-weight: bold\">0</span>                    <span style=\"color: #7f7f7f; text-decoration-color: #7f7f7f\">              </span>\n",
       "<span style=\"color: #7fbfbf; text-decoration-color: #7fbfbf\">                 </span>         Accept-Encoding: gzip, deflate                                             <span style=\"color: #7f7f7f; text-decoration-color: #7f7f7f\">              </span>\n",
       "<span style=\"color: #7fbfbf; text-decoration-color: #7fbfbf\">                 </span>         Accept: application/json                                                   <span style=\"color: #7f7f7f; text-decoration-color: #7f7f7f\">              </span>\n",
       "<span style=\"color: #7fbfbf; text-decoration-color: #7fbfbf\">                 </span>         Connection: keep-alive                                                     <span style=\"color: #7f7f7f; text-decoration-color: #7f7f7f\">              </span>\n",
       "<span style=\"color: #7fbfbf; text-decoration-color: #7fbfbf\">                 </span>                                                                                    <span style=\"color: #7f7f7f; text-decoration-color: #7f7f7f\">              </span>\n",
       "</pre>\n"
      ],
      "text/plain": [
       "\u001b[2;36m[09-19 11:58:56]\u001b[0m\u001b[2;36m \u001b[0m\u001b[34mINFO    \u001b[0m Request:                                                                   \u001b]8;id=230764;file://c:\\Users\\ferli\\Documents\\ShroomRadar\\.venv\\Lib\\site-packages\\pyinaturalist\\session.py\u001b\\\u001b[2msession.py\u001b[0m\u001b]8;;\u001b\\\u001b[2m:\u001b[0m\u001b]8;id=697577;file://c:\\Users\\ferli\\Documents\\ShroomRadar\\.venv\\Lib\\site-packages\\pyinaturalist\\session.py#297\u001b\\\u001b[2m297\u001b[0m\u001b]8;;\u001b\\\n",
       "\u001b[2;36m                 \u001b[0m         \u001b[1;33mGET\u001b[0m                                                                        \u001b[2m              \u001b[0m\n",
       "\u001b[2;36m                 \u001b[0m         \u001b[4;94mhttps://api.inaturalist.org/v1/observations?\u001b[0m\u001b[4;94mquality_grade\u001b[0m\u001b[4;94m=\u001b[0m\u001b[4;94mresearch\u001b[0m\u001b[4;94m&\u001b[0m\u001b[4;94mtaxon_n\u001b[0m \u001b[2m              \u001b[0m\n",
       "\u001b[2;36m                 \u001b[0m         \u001b[4;94mame\u001b[0m\u001b[4;94m=\u001b[0m\u001b[4;94mSummer\u001b[0m\u001b[4;94m+Bolete&\u001b[0m\u001b[4;94mphotos\u001b[0m\u001b[4;94m=\u001b[0m\u001b[4;94mtrue\u001b[0m\u001b[4;94m&\u001b[0m\u001b[4;94mrank\u001b[0m\u001b[4;94m=\u001b[0m\u001b[4;94mspecies\u001b[0m\u001b[4;94m&\u001b[0m\u001b[4;94mpage\u001b[0m\u001b[4;94m=\u001b[0m\u001b[4;94m20\u001b[0m\u001b[4;94m&\u001b[0m\u001b[4;94mper_page\u001b[0m\u001b[4;94m=\u001b[0m\u001b[4;94m200\u001b[0m            \u001b[2m              \u001b[0m\n",
       "\u001b[2;36m                 \u001b[0m         User-Agent: python-requests/\u001b[1;36m2.32\u001b[0m.\u001b[1;36m5\u001b[0m pyinaturalist/\u001b[1;36m0.19\u001b[0m.\u001b[1;36m0\u001b[0m                    \u001b[2m              \u001b[0m\n",
       "\u001b[2;36m                 \u001b[0m         Accept-Encoding: gzip, deflate                                             \u001b[2m              \u001b[0m\n",
       "\u001b[2;36m                 \u001b[0m         Accept: application/json                                                   \u001b[2m              \u001b[0m\n",
       "\u001b[2;36m                 \u001b[0m         Connection: keep-alive                                                     \u001b[2m              \u001b[0m\n",
       "\u001b[2;36m                 \u001b[0m                                                                                    \u001b[2m              \u001b[0m\n"
      ]
     },
     "metadata": {},
     "output_type": "display_data"
    },
    {
     "data": {
      "text/html": [
       "<pre style=\"white-space:pre;overflow-x:auto;line-height:normal;font-family:Menlo,'DejaVu Sans Mono',consolas,'Courier New',monospace\"><span style=\"color: #7fbfbf; text-decoration-color: #7fbfbf\">[09-19 11:58:59] </span><span style=\"color: #000080; text-decoration-color: #000080\">INFO    </span> Request:                                                                   <a href=\"file://c:\\Users\\ferli\\Documents\\ShroomRadar\\.venv\\Lib\\site-packages\\pyinaturalist\\session.py\" target=\"_blank\"><span style=\"color: #7f7f7f; text-decoration-color: #7f7f7f\">session.py</span></a><span style=\"color: #7f7f7f; text-decoration-color: #7f7f7f\">:</span><a href=\"file://c:\\Users\\ferli\\Documents\\ShroomRadar\\.venv\\Lib\\site-packages\\pyinaturalist\\session.py#297\" target=\"_blank\"><span style=\"color: #7f7f7f; text-decoration-color: #7f7f7f\">297</span></a>\n",
       "<span style=\"color: #7fbfbf; text-decoration-color: #7fbfbf\">                 </span>         <span style=\"color: #808000; text-decoration-color: #808000; font-weight: bold\">GET</span>                                                                        <span style=\"color: #7f7f7f; text-decoration-color: #7f7f7f\">              </span>\n",
       "<span style=\"color: #7fbfbf; text-decoration-color: #7fbfbf\">                 </span>         <span style=\"color: #0000ff; text-decoration-color: #0000ff; text-decoration: underline\">https://api.inaturalist.org/v1/observations?quality_grade=research&amp;taxon_n</span> <span style=\"color: #7f7f7f; text-decoration-color: #7f7f7f\">              </span>\n",
       "<span style=\"color: #7fbfbf; text-decoration-color: #7fbfbf\">                 </span>         <span style=\"color: #0000ff; text-decoration-color: #0000ff; text-decoration: underline\">ame=Summer+Bolete&amp;photos=true&amp;rank=species&amp;page=21&amp;per_page=200</span>            <span style=\"color: #7f7f7f; text-decoration-color: #7f7f7f\">              </span>\n",
       "<span style=\"color: #7fbfbf; text-decoration-color: #7fbfbf\">                 </span>         User-Agent: python-requests/<span style=\"color: #008080; text-decoration-color: #008080; font-weight: bold\">2.32</span>.<span style=\"color: #008080; text-decoration-color: #008080; font-weight: bold\">5</span> pyinaturalist/<span style=\"color: #008080; text-decoration-color: #008080; font-weight: bold\">0.19</span>.<span style=\"color: #008080; text-decoration-color: #008080; font-weight: bold\">0</span>                    <span style=\"color: #7f7f7f; text-decoration-color: #7f7f7f\">              </span>\n",
       "<span style=\"color: #7fbfbf; text-decoration-color: #7fbfbf\">                 </span>         Accept-Encoding: gzip, deflate                                             <span style=\"color: #7f7f7f; text-decoration-color: #7f7f7f\">              </span>\n",
       "<span style=\"color: #7fbfbf; text-decoration-color: #7fbfbf\">                 </span>         Accept: application/json                                                   <span style=\"color: #7f7f7f; text-decoration-color: #7f7f7f\">              </span>\n",
       "<span style=\"color: #7fbfbf; text-decoration-color: #7fbfbf\">                 </span>         Connection: keep-alive                                                     <span style=\"color: #7f7f7f; text-decoration-color: #7f7f7f\">              </span>\n",
       "<span style=\"color: #7fbfbf; text-decoration-color: #7fbfbf\">                 </span>                                                                                    <span style=\"color: #7f7f7f; text-decoration-color: #7f7f7f\">              </span>\n",
       "</pre>\n"
      ],
      "text/plain": [
       "\u001b[2;36m[09-19 11:58:59]\u001b[0m\u001b[2;36m \u001b[0m\u001b[34mINFO    \u001b[0m Request:                                                                   \u001b]8;id=223123;file://c:\\Users\\ferli\\Documents\\ShroomRadar\\.venv\\Lib\\site-packages\\pyinaturalist\\session.py\u001b\\\u001b[2msession.py\u001b[0m\u001b]8;;\u001b\\\u001b[2m:\u001b[0m\u001b]8;id=963519;file://c:\\Users\\ferli\\Documents\\ShroomRadar\\.venv\\Lib\\site-packages\\pyinaturalist\\session.py#297\u001b\\\u001b[2m297\u001b[0m\u001b]8;;\u001b\\\n",
       "\u001b[2;36m                 \u001b[0m         \u001b[1;33mGET\u001b[0m                                                                        \u001b[2m              \u001b[0m\n",
       "\u001b[2;36m                 \u001b[0m         \u001b[4;94mhttps://api.inaturalist.org/v1/observations?\u001b[0m\u001b[4;94mquality_grade\u001b[0m\u001b[4;94m=\u001b[0m\u001b[4;94mresearch\u001b[0m\u001b[4;94m&\u001b[0m\u001b[4;94mtaxon_n\u001b[0m \u001b[2m              \u001b[0m\n",
       "\u001b[2;36m                 \u001b[0m         \u001b[4;94mame\u001b[0m\u001b[4;94m=\u001b[0m\u001b[4;94mSummer\u001b[0m\u001b[4;94m+Bolete&\u001b[0m\u001b[4;94mphotos\u001b[0m\u001b[4;94m=\u001b[0m\u001b[4;94mtrue\u001b[0m\u001b[4;94m&\u001b[0m\u001b[4;94mrank\u001b[0m\u001b[4;94m=\u001b[0m\u001b[4;94mspecies\u001b[0m\u001b[4;94m&\u001b[0m\u001b[4;94mpage\u001b[0m\u001b[4;94m=\u001b[0m\u001b[4;94m21\u001b[0m\u001b[4;94m&\u001b[0m\u001b[4;94mper_page\u001b[0m\u001b[4;94m=\u001b[0m\u001b[4;94m200\u001b[0m            \u001b[2m              \u001b[0m\n",
       "\u001b[2;36m                 \u001b[0m         User-Agent: python-requests/\u001b[1;36m2.32\u001b[0m.\u001b[1;36m5\u001b[0m pyinaturalist/\u001b[1;36m0.19\u001b[0m.\u001b[1;36m0\u001b[0m                    \u001b[2m              \u001b[0m\n",
       "\u001b[2;36m                 \u001b[0m         Accept-Encoding: gzip, deflate                                             \u001b[2m              \u001b[0m\n",
       "\u001b[2;36m                 \u001b[0m         Accept: application/json                                                   \u001b[2m              \u001b[0m\n",
       "\u001b[2;36m                 \u001b[0m         Connection: keep-alive                                                     \u001b[2m              \u001b[0m\n",
       "\u001b[2;36m                 \u001b[0m                                                                                    \u001b[2m              \u001b[0m\n"
      ]
     },
     "metadata": {},
     "output_type": "display_data"
    },
    {
     "data": {
      "text/html": [
       "<pre style=\"white-space:pre;overflow-x:auto;line-height:normal;font-family:Menlo,'DejaVu Sans Mono',consolas,'Courier New',monospace\"><span style=\"color: #7fbfbf; text-decoration-color: #7fbfbf\">[09-19 11:59:03] </span><span style=\"color: #000080; text-decoration-color: #000080\">INFO    </span> Request:                                                                   <a href=\"file://c:\\Users\\ferli\\Documents\\ShroomRadar\\.venv\\Lib\\site-packages\\pyinaturalist\\session.py\" target=\"_blank\"><span style=\"color: #7f7f7f; text-decoration-color: #7f7f7f\">session.py</span></a><span style=\"color: #7f7f7f; text-decoration-color: #7f7f7f\">:</span><a href=\"file://c:\\Users\\ferli\\Documents\\ShroomRadar\\.venv\\Lib\\site-packages\\pyinaturalist\\session.py#297\" target=\"_blank\"><span style=\"color: #7f7f7f; text-decoration-color: #7f7f7f\">297</span></a>\n",
       "<span style=\"color: #7fbfbf; text-decoration-color: #7fbfbf\">                 </span>         <span style=\"color: #808000; text-decoration-color: #808000; font-weight: bold\">GET</span>                                                                        <span style=\"color: #7f7f7f; text-decoration-color: #7f7f7f\">              </span>\n",
       "<span style=\"color: #7fbfbf; text-decoration-color: #7fbfbf\">                 </span>         <span style=\"color: #0000ff; text-decoration-color: #0000ff; text-decoration: underline\">https://api.inaturalist.org/v1/observations?quality_grade=research&amp;taxon_n</span> <span style=\"color: #7f7f7f; text-decoration-color: #7f7f7f\">              </span>\n",
       "<span style=\"color: #7fbfbf; text-decoration-color: #7fbfbf\">                 </span>         <span style=\"color: #0000ff; text-decoration-color: #0000ff; text-decoration: underline\">ame=Summer+Bolete&amp;photos=true&amp;rank=species&amp;page=22&amp;per_page=200</span>            <span style=\"color: #7f7f7f; text-decoration-color: #7f7f7f\">              </span>\n",
       "<span style=\"color: #7fbfbf; text-decoration-color: #7fbfbf\">                 </span>         User-Agent: python-requests/<span style=\"color: #008080; text-decoration-color: #008080; font-weight: bold\">2.32</span>.<span style=\"color: #008080; text-decoration-color: #008080; font-weight: bold\">5</span> pyinaturalist/<span style=\"color: #008080; text-decoration-color: #008080; font-weight: bold\">0.19</span>.<span style=\"color: #008080; text-decoration-color: #008080; font-weight: bold\">0</span>                    <span style=\"color: #7f7f7f; text-decoration-color: #7f7f7f\">              </span>\n",
       "<span style=\"color: #7fbfbf; text-decoration-color: #7fbfbf\">                 </span>         Accept-Encoding: gzip, deflate                                             <span style=\"color: #7f7f7f; text-decoration-color: #7f7f7f\">              </span>\n",
       "<span style=\"color: #7fbfbf; text-decoration-color: #7fbfbf\">                 </span>         Accept: application/json                                                   <span style=\"color: #7f7f7f; text-decoration-color: #7f7f7f\">              </span>\n",
       "<span style=\"color: #7fbfbf; text-decoration-color: #7fbfbf\">                 </span>         Connection: keep-alive                                                     <span style=\"color: #7f7f7f; text-decoration-color: #7f7f7f\">              </span>\n",
       "<span style=\"color: #7fbfbf; text-decoration-color: #7fbfbf\">                 </span>                                                                                    <span style=\"color: #7f7f7f; text-decoration-color: #7f7f7f\">              </span>\n",
       "</pre>\n"
      ],
      "text/plain": [
       "\u001b[2;36m[09-19 11:59:03]\u001b[0m\u001b[2;36m \u001b[0m\u001b[34mINFO    \u001b[0m Request:                                                                   \u001b]8;id=819825;file://c:\\Users\\ferli\\Documents\\ShroomRadar\\.venv\\Lib\\site-packages\\pyinaturalist\\session.py\u001b\\\u001b[2msession.py\u001b[0m\u001b]8;;\u001b\\\u001b[2m:\u001b[0m\u001b]8;id=635220;file://c:\\Users\\ferli\\Documents\\ShroomRadar\\.venv\\Lib\\site-packages\\pyinaturalist\\session.py#297\u001b\\\u001b[2m297\u001b[0m\u001b]8;;\u001b\\\n",
       "\u001b[2;36m                 \u001b[0m         \u001b[1;33mGET\u001b[0m                                                                        \u001b[2m              \u001b[0m\n",
       "\u001b[2;36m                 \u001b[0m         \u001b[4;94mhttps://api.inaturalist.org/v1/observations?\u001b[0m\u001b[4;94mquality_grade\u001b[0m\u001b[4;94m=\u001b[0m\u001b[4;94mresearch\u001b[0m\u001b[4;94m&\u001b[0m\u001b[4;94mtaxon_n\u001b[0m \u001b[2m              \u001b[0m\n",
       "\u001b[2;36m                 \u001b[0m         \u001b[4;94mame\u001b[0m\u001b[4;94m=\u001b[0m\u001b[4;94mSummer\u001b[0m\u001b[4;94m+Bolete&\u001b[0m\u001b[4;94mphotos\u001b[0m\u001b[4;94m=\u001b[0m\u001b[4;94mtrue\u001b[0m\u001b[4;94m&\u001b[0m\u001b[4;94mrank\u001b[0m\u001b[4;94m=\u001b[0m\u001b[4;94mspecies\u001b[0m\u001b[4;94m&\u001b[0m\u001b[4;94mpage\u001b[0m\u001b[4;94m=\u001b[0m\u001b[4;94m22\u001b[0m\u001b[4;94m&\u001b[0m\u001b[4;94mper_page\u001b[0m\u001b[4;94m=\u001b[0m\u001b[4;94m200\u001b[0m            \u001b[2m              \u001b[0m\n",
       "\u001b[2;36m                 \u001b[0m         User-Agent: python-requests/\u001b[1;36m2.32\u001b[0m.\u001b[1;36m5\u001b[0m pyinaturalist/\u001b[1;36m0.19\u001b[0m.\u001b[1;36m0\u001b[0m                    \u001b[2m              \u001b[0m\n",
       "\u001b[2;36m                 \u001b[0m         Accept-Encoding: gzip, deflate                                             \u001b[2m              \u001b[0m\n",
       "\u001b[2;36m                 \u001b[0m         Accept: application/json                                                   \u001b[2m              \u001b[0m\n",
       "\u001b[2;36m                 \u001b[0m         Connection: keep-alive                                                     \u001b[2m              \u001b[0m\n",
       "\u001b[2;36m                 \u001b[0m                                                                                    \u001b[2m              \u001b[0m\n"
      ]
     },
     "metadata": {},
     "output_type": "display_data"
    },
    {
     "data": {
      "text/html": [
       "<pre style=\"white-space:pre;overflow-x:auto;line-height:normal;font-family:Menlo,'DejaVu Sans Mono',consolas,'Courier New',monospace\"><span style=\"color: #7fbfbf; text-decoration-color: #7fbfbf\">[09-19 11:59:07] </span><span style=\"color: #000080; text-decoration-color: #000080\">INFO    </span> Request:                                                                   <a href=\"file://c:\\Users\\ferli\\Documents\\ShroomRadar\\.venv\\Lib\\site-packages\\pyinaturalist\\session.py\" target=\"_blank\"><span style=\"color: #7f7f7f; text-decoration-color: #7f7f7f\">session.py</span></a><span style=\"color: #7f7f7f; text-decoration-color: #7f7f7f\">:</span><a href=\"file://c:\\Users\\ferli\\Documents\\ShroomRadar\\.venv\\Lib\\site-packages\\pyinaturalist\\session.py#297\" target=\"_blank\"><span style=\"color: #7f7f7f; text-decoration-color: #7f7f7f\">297</span></a>\n",
       "<span style=\"color: #7fbfbf; text-decoration-color: #7fbfbf\">                 </span>         <span style=\"color: #808000; text-decoration-color: #808000; font-weight: bold\">GET</span>                                                                        <span style=\"color: #7f7f7f; text-decoration-color: #7f7f7f\">              </span>\n",
       "<span style=\"color: #7fbfbf; text-decoration-color: #7fbfbf\">                 </span>         <span style=\"color: #0000ff; text-decoration-color: #0000ff; text-decoration: underline\">https://api.inaturalist.org/v1/observations?quality_grade=research&amp;taxon_n</span> <span style=\"color: #7f7f7f; text-decoration-color: #7f7f7f\">              </span>\n",
       "<span style=\"color: #7fbfbf; text-decoration-color: #7fbfbf\">                 </span>         <span style=\"color: #0000ff; text-decoration-color: #0000ff; text-decoration: underline\">ame=Summer+Bolete&amp;photos=true&amp;rank=species&amp;page=23&amp;per_page=200</span>            <span style=\"color: #7f7f7f; text-decoration-color: #7f7f7f\">              </span>\n",
       "<span style=\"color: #7fbfbf; text-decoration-color: #7fbfbf\">                 </span>         User-Agent: python-requests/<span style=\"color: #008080; text-decoration-color: #008080; font-weight: bold\">2.32</span>.<span style=\"color: #008080; text-decoration-color: #008080; font-weight: bold\">5</span> pyinaturalist/<span style=\"color: #008080; text-decoration-color: #008080; font-weight: bold\">0.19</span>.<span style=\"color: #008080; text-decoration-color: #008080; font-weight: bold\">0</span>                    <span style=\"color: #7f7f7f; text-decoration-color: #7f7f7f\">              </span>\n",
       "<span style=\"color: #7fbfbf; text-decoration-color: #7fbfbf\">                 </span>         Accept-Encoding: gzip, deflate                                             <span style=\"color: #7f7f7f; text-decoration-color: #7f7f7f\">              </span>\n",
       "<span style=\"color: #7fbfbf; text-decoration-color: #7fbfbf\">                 </span>         Accept: application/json                                                   <span style=\"color: #7f7f7f; text-decoration-color: #7f7f7f\">              </span>\n",
       "<span style=\"color: #7fbfbf; text-decoration-color: #7fbfbf\">                 </span>         Connection: keep-alive                                                     <span style=\"color: #7f7f7f; text-decoration-color: #7f7f7f\">              </span>\n",
       "<span style=\"color: #7fbfbf; text-decoration-color: #7fbfbf\">                 </span>                                                                                    <span style=\"color: #7f7f7f; text-decoration-color: #7f7f7f\">              </span>\n",
       "</pre>\n"
      ],
      "text/plain": [
       "\u001b[2;36m[09-19 11:59:07]\u001b[0m\u001b[2;36m \u001b[0m\u001b[34mINFO    \u001b[0m Request:                                                                   \u001b]8;id=657231;file://c:\\Users\\ferli\\Documents\\ShroomRadar\\.venv\\Lib\\site-packages\\pyinaturalist\\session.py\u001b\\\u001b[2msession.py\u001b[0m\u001b]8;;\u001b\\\u001b[2m:\u001b[0m\u001b]8;id=334685;file://c:\\Users\\ferli\\Documents\\ShroomRadar\\.venv\\Lib\\site-packages\\pyinaturalist\\session.py#297\u001b\\\u001b[2m297\u001b[0m\u001b]8;;\u001b\\\n",
       "\u001b[2;36m                 \u001b[0m         \u001b[1;33mGET\u001b[0m                                                                        \u001b[2m              \u001b[0m\n",
       "\u001b[2;36m                 \u001b[0m         \u001b[4;94mhttps://api.inaturalist.org/v1/observations?\u001b[0m\u001b[4;94mquality_grade\u001b[0m\u001b[4;94m=\u001b[0m\u001b[4;94mresearch\u001b[0m\u001b[4;94m&\u001b[0m\u001b[4;94mtaxon_n\u001b[0m \u001b[2m              \u001b[0m\n",
       "\u001b[2;36m                 \u001b[0m         \u001b[4;94mame\u001b[0m\u001b[4;94m=\u001b[0m\u001b[4;94mSummer\u001b[0m\u001b[4;94m+Bolete&\u001b[0m\u001b[4;94mphotos\u001b[0m\u001b[4;94m=\u001b[0m\u001b[4;94mtrue\u001b[0m\u001b[4;94m&\u001b[0m\u001b[4;94mrank\u001b[0m\u001b[4;94m=\u001b[0m\u001b[4;94mspecies\u001b[0m\u001b[4;94m&\u001b[0m\u001b[4;94mpage\u001b[0m\u001b[4;94m=\u001b[0m\u001b[4;94m23\u001b[0m\u001b[4;94m&\u001b[0m\u001b[4;94mper_page\u001b[0m\u001b[4;94m=\u001b[0m\u001b[4;94m200\u001b[0m            \u001b[2m              \u001b[0m\n",
       "\u001b[2;36m                 \u001b[0m         User-Agent: python-requests/\u001b[1;36m2.32\u001b[0m.\u001b[1;36m5\u001b[0m pyinaturalist/\u001b[1;36m0.19\u001b[0m.\u001b[1;36m0\u001b[0m                    \u001b[2m              \u001b[0m\n",
       "\u001b[2;36m                 \u001b[0m         Accept-Encoding: gzip, deflate                                             \u001b[2m              \u001b[0m\n",
       "\u001b[2;36m                 \u001b[0m         Accept: application/json                                                   \u001b[2m              \u001b[0m\n",
       "\u001b[2;36m                 \u001b[0m         Connection: keep-alive                                                     \u001b[2m              \u001b[0m\n",
       "\u001b[2;36m                 \u001b[0m                                                                                    \u001b[2m              \u001b[0m\n"
      ]
     },
     "metadata": {},
     "output_type": "display_data"
    },
    {
     "data": {
      "text/html": [
       "<pre style=\"white-space:pre;overflow-x:auto;line-height:normal;font-family:Menlo,'DejaVu Sans Mono',consolas,'Courier New',monospace\"><span style=\"color: #7fbfbf; text-decoration-color: #7fbfbf\">[09-19 11:59:09] </span><span style=\"color: #000080; text-decoration-color: #000080\">INFO    </span> Request:                                                                   <a href=\"file://c:\\Users\\ferli\\Documents\\ShroomRadar\\.venv\\Lib\\site-packages\\pyinaturalist\\session.py\" target=\"_blank\"><span style=\"color: #7f7f7f; text-decoration-color: #7f7f7f\">session.py</span></a><span style=\"color: #7f7f7f; text-decoration-color: #7f7f7f\">:</span><a href=\"file://c:\\Users\\ferli\\Documents\\ShroomRadar\\.venv\\Lib\\site-packages\\pyinaturalist\\session.py#297\" target=\"_blank\"><span style=\"color: #7f7f7f; text-decoration-color: #7f7f7f\">297</span></a>\n",
       "<span style=\"color: #7fbfbf; text-decoration-color: #7fbfbf\">                 </span>         <span style=\"color: #808000; text-decoration-color: #808000; font-weight: bold\">GET</span>                                                                        <span style=\"color: #7f7f7f; text-decoration-color: #7f7f7f\">              </span>\n",
       "<span style=\"color: #7fbfbf; text-decoration-color: #7fbfbf\">                 </span>         <span style=\"color: #0000ff; text-decoration-color: #0000ff; text-decoration: underline\">https://api.inaturalist.org/v1/observations?quality_grade=research&amp;taxon_n</span> <span style=\"color: #7f7f7f; text-decoration-color: #7f7f7f\">              </span>\n",
       "<span style=\"color: #7fbfbf; text-decoration-color: #7fbfbf\">                 </span>         <span style=\"color: #0000ff; text-decoration-color: #0000ff; text-decoration: underline\">ame=Summer+Bolete&amp;photos=true&amp;rank=species&amp;page=24&amp;per_page=200</span>            <span style=\"color: #7f7f7f; text-decoration-color: #7f7f7f\">              </span>\n",
       "<span style=\"color: #7fbfbf; text-decoration-color: #7fbfbf\">                 </span>         User-Agent: python-requests/<span style=\"color: #008080; text-decoration-color: #008080; font-weight: bold\">2.32</span>.<span style=\"color: #008080; text-decoration-color: #008080; font-weight: bold\">5</span> pyinaturalist/<span style=\"color: #008080; text-decoration-color: #008080; font-weight: bold\">0.19</span>.<span style=\"color: #008080; text-decoration-color: #008080; font-weight: bold\">0</span>                    <span style=\"color: #7f7f7f; text-decoration-color: #7f7f7f\">              </span>\n",
       "<span style=\"color: #7fbfbf; text-decoration-color: #7fbfbf\">                 </span>         Accept-Encoding: gzip, deflate                                             <span style=\"color: #7f7f7f; text-decoration-color: #7f7f7f\">              </span>\n",
       "<span style=\"color: #7fbfbf; text-decoration-color: #7fbfbf\">                 </span>         Accept: application/json                                                   <span style=\"color: #7f7f7f; text-decoration-color: #7f7f7f\">              </span>\n",
       "<span style=\"color: #7fbfbf; text-decoration-color: #7fbfbf\">                 </span>         Connection: keep-alive                                                     <span style=\"color: #7f7f7f; text-decoration-color: #7f7f7f\">              </span>\n",
       "<span style=\"color: #7fbfbf; text-decoration-color: #7fbfbf\">                 </span>                                                                                    <span style=\"color: #7f7f7f; text-decoration-color: #7f7f7f\">              </span>\n",
       "</pre>\n"
      ],
      "text/plain": [
       "\u001b[2;36m[09-19 11:59:09]\u001b[0m\u001b[2;36m \u001b[0m\u001b[34mINFO    \u001b[0m Request:                                                                   \u001b]8;id=810778;file://c:\\Users\\ferli\\Documents\\ShroomRadar\\.venv\\Lib\\site-packages\\pyinaturalist\\session.py\u001b\\\u001b[2msession.py\u001b[0m\u001b]8;;\u001b\\\u001b[2m:\u001b[0m\u001b]8;id=778029;file://c:\\Users\\ferli\\Documents\\ShroomRadar\\.venv\\Lib\\site-packages\\pyinaturalist\\session.py#297\u001b\\\u001b[2m297\u001b[0m\u001b]8;;\u001b\\\n",
       "\u001b[2;36m                 \u001b[0m         \u001b[1;33mGET\u001b[0m                                                                        \u001b[2m              \u001b[0m\n",
       "\u001b[2;36m                 \u001b[0m         \u001b[4;94mhttps://api.inaturalist.org/v1/observations?\u001b[0m\u001b[4;94mquality_grade\u001b[0m\u001b[4;94m=\u001b[0m\u001b[4;94mresearch\u001b[0m\u001b[4;94m&\u001b[0m\u001b[4;94mtaxon_n\u001b[0m \u001b[2m              \u001b[0m\n",
       "\u001b[2;36m                 \u001b[0m         \u001b[4;94mame\u001b[0m\u001b[4;94m=\u001b[0m\u001b[4;94mSummer\u001b[0m\u001b[4;94m+Bolete&\u001b[0m\u001b[4;94mphotos\u001b[0m\u001b[4;94m=\u001b[0m\u001b[4;94mtrue\u001b[0m\u001b[4;94m&\u001b[0m\u001b[4;94mrank\u001b[0m\u001b[4;94m=\u001b[0m\u001b[4;94mspecies\u001b[0m\u001b[4;94m&\u001b[0m\u001b[4;94mpage\u001b[0m\u001b[4;94m=\u001b[0m\u001b[4;94m24\u001b[0m\u001b[4;94m&\u001b[0m\u001b[4;94mper_page\u001b[0m\u001b[4;94m=\u001b[0m\u001b[4;94m200\u001b[0m            \u001b[2m              \u001b[0m\n",
       "\u001b[2;36m                 \u001b[0m         User-Agent: python-requests/\u001b[1;36m2.32\u001b[0m.\u001b[1;36m5\u001b[0m pyinaturalist/\u001b[1;36m0.19\u001b[0m.\u001b[1;36m0\u001b[0m                    \u001b[2m              \u001b[0m\n",
       "\u001b[2;36m                 \u001b[0m         Accept-Encoding: gzip, deflate                                             \u001b[2m              \u001b[0m\n",
       "\u001b[2;36m                 \u001b[0m         Accept: application/json                                                   \u001b[2m              \u001b[0m\n",
       "\u001b[2;36m                 \u001b[0m         Connection: keep-alive                                                     \u001b[2m              \u001b[0m\n",
       "\u001b[2;36m                 \u001b[0m                                                                                    \u001b[2m              \u001b[0m\n"
      ]
     },
     "metadata": {},
     "output_type": "display_data"
    }
   ],
   "source": [
    "import pandas as pd\n",
    "\n",
    "df = pd.DataFrame()\n",
    "\n",
    "species = \"Summer Bolete\"\n",
    "page_id = 1\n",
    "my_observations = [1]\n",
    "while len(my_observations) != 0:\n",
    "      try:\n",
    "            response = get_observations(taxon_name=species, photos=True, page=page_id, per_page=200, quality_grade='research', rank=\"species\")\n",
    "            my_observations = Observation.from_json_list(response)\n",
    "            page_id += 1\n",
    "\n",
    "      except:\n",
    "            my_observations = []\n",
    "            pass\n",
    "\n",
    "      for i in my_observations:\n",
    "                        try:\n",
    "                              df = pd.concat([df, pd.DataFrame([{'species': 'Summer Bolete', 'location': i.location, 'observed_on': i.observed_on}])], ignore_index=True)\n",
    "                        except:\n",
    "                              pass\n"
   ]
  },
  {
   "cell_type": "code",
   "execution_count": 5,
   "metadata": {},
   "outputs": [
    {
     "data": {
      "text/html": [
       "<pre style=\"white-space:pre;overflow-x:auto;line-height:normal;font-family:Menlo,'DejaVu Sans Mono',consolas,'Courier New',monospace\"></pre>\n"
      ],
      "text/plain": []
     },
     "metadata": {},
     "output_type": "display_data"
    },
    {
     "data": {
      "text/html": [
       "<div>\n",
       "<style scoped>\n",
       "    .dataframe tbody tr th:only-of-type {\n",
       "        vertical-align: middle;\n",
       "    }\n",
       "\n",
       "    .dataframe tbody tr th {\n",
       "        vertical-align: top;\n",
       "    }\n",
       "\n",
       "    .dataframe thead th {\n",
       "        text-align: right;\n",
       "    }\n",
       "</style>\n",
       "<table border=\"1\" class=\"dataframe\">\n",
       "  <thead>\n",
       "    <tr style=\"text-align: right;\">\n",
       "      <th></th>\n",
       "      <th>species</th>\n",
       "      <th>location</th>\n",
       "      <th>observed_on</th>\n",
       "    </tr>\n",
       "  </thead>\n",
       "  <tbody>\n",
       "    <tr>\n",
       "      <th>0</th>\n",
       "      <td>Summer Bolete</td>\n",
       "      <td>(55.8867845954, 43.8317038509)</td>\n",
       "      <td>2025-08-31 12:44:00+03:00</td>\n",
       "    </tr>\n",
       "    <tr>\n",
       "      <th>1</th>\n",
       "      <td>Summer Bolete</td>\n",
       "      <td>(52.3369311535, 35.3404740688)</td>\n",
       "      <td>2025-09-15 15:53:00+03:00</td>\n",
       "    </tr>\n",
       "    <tr>\n",
       "      <th>2</th>\n",
       "      <td>Summer Bolete</td>\n",
       "      <td>(35.3268303748, 139.297780682)</td>\n",
       "      <td>2025-09-18 09:59:00+09:00</td>\n",
       "    </tr>\n",
       "    <tr>\n",
       "      <th>3</th>\n",
       "      <td>Summer Bolete</td>\n",
       "      <td>(42.185952, -7.949474)</td>\n",
       "      <td>2022-05-15 12:46:00+02:00</td>\n",
       "    </tr>\n",
       "    <tr>\n",
       "      <th>4</th>\n",
       "      <td>Summer Bolete</td>\n",
       "      <td>(54.9734268056, 58.09181975)</td>\n",
       "      <td>2025-09-14 17:12:04+05:00</td>\n",
       "    </tr>\n",
       "    <tr>\n",
       "      <th>...</th>\n",
       "      <td>...</td>\n",
       "      <td>...</td>\n",
       "      <td>...</td>\n",
       "    </tr>\n",
       "    <tr>\n",
       "      <th>4474</th>\n",
       "      <td>Summer Bolete</td>\n",
       "      <td>(48.204998, 16.11454)</td>\n",
       "      <td>2016-06-14 12:07:08+02:00</td>\n",
       "    </tr>\n",
       "    <tr>\n",
       "      <th>4475</th>\n",
       "      <td>Summer Bolete</td>\n",
       "      <td>(44.524626, 8.787515)</td>\n",
       "      <td>2015-08-30 00:00:00</td>\n",
       "    </tr>\n",
       "    <tr>\n",
       "      <th>4476</th>\n",
       "      <td>Summer Bolete</td>\n",
       "      <td>(51.29613, 12.648844)</td>\n",
       "      <td>2015-09-01 09:33:50+02:00</td>\n",
       "    </tr>\n",
       "    <tr>\n",
       "      <th>4477</th>\n",
       "      <td>Summer Bolete</td>\n",
       "      <td>(46.50222, 16.04222)</td>\n",
       "      <td>2013-09-07 00:00:00</td>\n",
       "    </tr>\n",
       "    <tr>\n",
       "      <th>4478</th>\n",
       "      <td>Summer Bolete</td>\n",
       "      <td>(46.50222, 16.04222)</td>\n",
       "      <td>2013-09-07 00:00:00</td>\n",
       "    </tr>\n",
       "  </tbody>\n",
       "</table>\n",
       "<p>4479 rows × 3 columns</p>\n",
       "</div>"
      ],
      "text/plain": [
       "\n",
       "            species                        location                observed_on\n",
       "\u001b[1;36m0\u001b[0m     Summer Bolete  \u001b[1m(\u001b[0m\u001b[1;36m55.8867845954\u001b[0m, \u001b[1;36m43.8317038509\u001b[0m\u001b[1m)\u001b[0m  \u001b[1;36m2025\u001b[0m-\u001b[1;36m08\u001b[0m-\u001b[1;36m31\u001b[0m \u001b[1;92m12:44:00\u001b[0m+\u001b[1;92m03:00\u001b[0m\n",
       "\u001b[1;36m1\u001b[0m     Summer Bolete  \u001b[1m(\u001b[0m\u001b[1;36m52.3369311535\u001b[0m, \u001b[1;36m35.3404740688\u001b[0m\u001b[1m)\u001b[0m  \u001b[1;36m2025\u001b[0m-\u001b[1;36m09\u001b[0m-\u001b[1;36m15\u001b[0m \u001b[1;92m15:53:00\u001b[0m+\u001b[1;92m03:00\u001b[0m\n",
       "\u001b[1;36m2\u001b[0m     Summer Bolete  \u001b[1m(\u001b[0m\u001b[1;36m35.3268303748\u001b[0m, \u001b[1;36m139.297780682\u001b[0m\u001b[1m)\u001b[0m  \u001b[1;36m2025\u001b[0m-\u001b[1;36m09\u001b[0m-\u001b[1;36m18\u001b[0m \u001b[1;92m09:59:00\u001b[0m+\u001b[1;92m09:00\u001b[0m\n",
       "\u001b[1;36m3\u001b[0m     Summer Bolete          \u001b[1m(\u001b[0m\u001b[1;36m42.185952\u001b[0m, \u001b[1;36m-7.949474\u001b[0m\u001b[1m)\u001b[0m  \u001b[1;36m2022\u001b[0m-\u001b[1;36m05\u001b[0m-\u001b[1;36m15\u001b[0m \u001b[1;92m12:46:00\u001b[0m+\u001b[1;92m02:00\u001b[0m\n",
       "\u001b[1;36m4\u001b[0m     Summer Bolete    \u001b[1m(\u001b[0m\u001b[1;36m54.9734268056\u001b[0m, \u001b[1;36m58.09181975\u001b[0m\u001b[1m)\u001b[0m  \u001b[1;36m2025\u001b[0m-\u001b[1;36m09\u001b[0m-\u001b[1;36m14\u001b[0m \u001b[1;92m17:12:04\u001b[0m+\u001b[1;92m05:00\u001b[0m\n",
       "\u001b[33m...\u001b[0m             \u001b[33m...\u001b[0m                             \u001b[33m...\u001b[0m                        \u001b[33m...\u001b[0m\n",
       "\u001b[1;36m4474\u001b[0m  Summer Bolete           \u001b[1m(\u001b[0m\u001b[1;36m48.204998\u001b[0m, \u001b[1;36m16.11454\u001b[0m\u001b[1m)\u001b[0m  \u001b[1;36m2016\u001b[0m-\u001b[1;36m06\u001b[0m-\u001b[1;36m14\u001b[0m \u001b[1;92m12:07:08\u001b[0m+\u001b[1;92m02:00\u001b[0m\n",
       "\u001b[1;36m4475\u001b[0m  Summer Bolete           \u001b[1m(\u001b[0m\u001b[1;36m44.524626\u001b[0m, \u001b[1;36m8.787515\u001b[0m\u001b[1m)\u001b[0m        \u001b[1;36m2015\u001b[0m-\u001b[1;36m08\u001b[0m-\u001b[1;36m30\u001b[0m \u001b[1;92m00:00:00\u001b[0m\n",
       "\u001b[1;36m4476\u001b[0m  Summer Bolete           \u001b[1m(\u001b[0m\u001b[1;36m51.29613\u001b[0m, \u001b[1;36m12.648844\u001b[0m\u001b[1m)\u001b[0m  \u001b[1;36m2015\u001b[0m-\u001b[1;36m09\u001b[0m-\u001b[1;36m01\u001b[0m \u001b[1;92m09:33:50\u001b[0m+\u001b[1;92m02:00\u001b[0m\n",
       "\u001b[1;36m4477\u001b[0m  Summer Bolete            \u001b[1m(\u001b[0m\u001b[1;36m46.50222\u001b[0m, \u001b[1;36m16.04222\u001b[0m\u001b[1m)\u001b[0m        \u001b[1;36m2013\u001b[0m-\u001b[1;36m09\u001b[0m-\u001b[1;36m07\u001b[0m \u001b[1;92m00:00:00\u001b[0m\n",
       "\u001b[1;36m4478\u001b[0m  Summer Bolete            \u001b[1m(\u001b[0m\u001b[1;36m46.50222\u001b[0m, \u001b[1;36m16.04222\u001b[0m\u001b[1m)\u001b[0m        \u001b[1;36m2013\u001b[0m-\u001b[1;36m09\u001b[0m-\u001b[1;36m07\u001b[0m \u001b[1;92m00:00:00\u001b[0m\n",
       "\n",
       "\u001b[1m[\u001b[0m\u001b[1;36m4479\u001b[0m rows x \u001b[1;36m3\u001b[0m columns\u001b[1m]\u001b[0m"
      ]
     },
     "execution_count": 5,
     "metadata": {},
     "output_type": "execute_result"
    }
   ],
   "source": [
    "df"
   ]
  },
  {
   "cell_type": "code",
   "execution_count": 6,
   "metadata": {},
   "outputs": [],
   "source": [
    "df.to_csv(\"..//data//Summer Bolete.csv\")"
   ]
  },
  {
   "cell_type": "code",
   "execution_count": null,
   "metadata": {},
   "outputs": [],
   "source": []
  }
 ],
 "metadata": {
  "kernelspec": {
   "display_name": ".venv",
   "language": "python",
   "name": "python3"
  },
  "language_info": {
   "codemirror_mode": {
    "name": "ipython",
    "version": 3
   },
   "file_extension": ".py",
   "mimetype": "text/x-python",
   "name": "python",
   "nbconvert_exporter": "python",
   "pygments_lexer": "ipython3",
   "version": "3.13.7"
  }
 },
 "nbformat": 4,
 "nbformat_minor": 2
}
