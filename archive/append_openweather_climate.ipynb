{
  "cells": [
    {
      "cell_type": "markdown",
      "metadata": {},
      "source": [
        "# Append Climate Data using Free Open-Meteo API\n",
        "\n",
        "This notebook fetches the same climate variables as your NetCDF approach, but using the **completely FREE** Open-Meteo API - no API key or credit card required!\n"
      ]
    },
    {
      "cell_type": "code",
      "execution_count": 14,
      "metadata": {},
      "outputs": [
        {
          "name": "stdout",
          "output_type": "stream",
          "text": [
            "🌟 Using Open-Meteo API - completely FREE, no registration required!\n"
          ]
        }
      ],
      "source": [
        "import requests\n",
        "import numpy as np\n",
        "from datetime import datetime, timedelta\n",
        "import time\n",
        "import csv\n",
        "import pandas as pd\n",
        "\n",
        "# NO API KEY NEEDED! Open-Meteo is completely free\n",
        "print(\"🌟 Using Open-Meteo API - completely FREE, no registration required!\")\n"
      ]
    },
    {
      "cell_type": "code",
      "execution_count": 17,
      "metadata": {},
      "outputs": [],
      "source": [
        "def get_weather_data(lat, lon, start_date, end_date):\n",
        "    \"\"\"\n",
        "    Fetch historical weather data from Open-Meteo API (FREE!)\n",
        "    \"\"\"\n",
        "    url = \"https://archive-api.open-meteo.com/v1/archive\"\n",
        "    params = {\n",
        "        'latitude': lat,\n",
        "        'longitude': lon,\n",
        "        'start_date': start_date,\n",
        "        'end_date': end_date,\n",
        "        'daily': [\n",
        "            'temperature_2m_min',\n",
        "            'temperature_2m_max', \n",
        "            'temperature_2m_mean',\n",
        "            'relative_humidity_2m_mean',\n",
        "            'precipitation_sum',\n",
        "            'wind_speed_10m_max'\n",
        "        ],\n",
        "        'timezone': 'auto'\n",
        "    }\n",
        "    \n",
        "    try:\n",
        "        response = requests.get(url, params=params)\n",
        "        response.raise_for_status()\n",
        "        return response.json()\n",
        "    except requests.exceptions.RequestException as e:\n",
        "        print(f\"Error fetching weather data: {e}\")\n",
        "        return None\n"
      ]
    },
    {
      "cell_type": "markdown",
      "metadata": {},
      "source": [
        "## Example Usage\n",
        "\n",
        "Let's test the function with a sample location and see what data we get back.\n"
      ]
    },
    {
      "cell_type": "code",
      "execution_count": 18,
      "metadata": {},
      "outputs": [
        {
          "name": "stdout",
          "output_type": "stream",
          "text": [
            "🔍 Fetching weather data for Siena (43.318, 11.33)\n",
            "📅 Date range: 2023-09-01 to 2023-09-30\n",
            "✅ Success! Here's what we got:\n",
            "📊 Keys in response: ['latitude', 'longitude', 'generationtime_ms', 'utc_offset_seconds', 'timezone', 'timezone_abbreviation', 'elevation', 'daily_units', 'daily']\n",
            "📈 Daily weather variables: ['time', 'temperature_2m_min', 'temperature_2m_max', 'temperature_2m_mean', 'relative_humidity_2m_mean', 'precipitation_sum', 'wind_speed_10m_max']\n",
            "🗓️  Number of days: 30\n"
          ]
        }
      ],
      "source": [
        "# Example: Get weather data for Siena, Italy (where you have mushroom data)\n",
        "# Coordinates for Siena: 43.318, 11.330\n",
        "lat, lon = 43.318, 11.330\n",
        "start_date = \"2023-09-01\"  # September is mushroom season\n",
        "end_date = \"2023-09-30\"\n",
        "\n",
        "print(f\"🔍 Fetching weather data for Siena ({lat}, {lon})\")\n",
        "print(f\"📅 Date range: {start_date} to {end_date}\")\n",
        "\n",
        "weather_data = get_weather_data(lat, lon, start_date, end_date)\n",
        "\n",
        "if weather_data:\n",
        "    print(\"✅ Success! Here's what we got:\")\n",
        "    print(f\"📊 Keys in response: {list(weather_data.keys())}\")\n",
        "    \n",
        "    # Show the daily data structure\n",
        "    daily_data = weather_data['daily']\n",
        "    print(f\"📈 Daily weather variables: {list(daily_data.keys())}\")\n",
        "    print(f\"🗓️  Number of days: {len(daily_data['time'])}\")\n",
        "else:\n",
        "    print(\"❌ Failed to fetch weather data\")\n"
      ]
    },
    {
      "cell_type": "code",
      "execution_count": 19,
      "metadata": {},
      "outputs": [
        {
          "name": "stdout",
          "output_type": "stream",
          "text": [
            "📋 Sample of the weather data:\n",
            "==================================================\n",
            "📅 2023-09-01\n",
            "   🌡️  Temp: 14.9°C to 25.5°C (avg: 19.9°C)\n",
            "   💧 Humidity: 70.0%\n",
            "   🌧️  Precipitation: 0.0mm\n",
            "   💨 Wind: 11.2km/h\n",
            "\n",
            "📅 2023-09-02\n",
            "   🌡️  Temp: 14.1°C to 28.4°C (avg: 21.2°C)\n",
            "   💧 Humidity: 64.0%\n",
            "   🌧️  Precipitation: 0.0mm\n",
            "   💨 Wind: 8.2km/h\n",
            "\n",
            "📅 2023-09-03\n",
            "   🌡️  Temp: 16.9°C to 30.5°C (avg: 23.6°C)\n",
            "   💧 Humidity: 58.0%\n",
            "   🌧️  Precipitation: 0.0mm\n",
            "   💨 Wind: 13.8km/h\n",
            "\n",
            "📅 2023-09-04\n",
            "   🌡️  Temp: 18.6°C to 27.8°C (avg: 22.6°C)\n",
            "   💧 Humidity: 56.0%\n",
            "   🌧️  Precipitation: 0.0mm\n",
            "   💨 Wind: 22.9km/h\n",
            "\n",
            "📅 2023-09-05\n",
            "   🌡️  Temp: 15.4°C to 26.0°C (avg: 20.7°C)\n",
            "   💧 Humidity: 50.0%\n",
            "   🌧️  Precipitation: 0.0mm\n",
            "   💨 Wind: 23.6km/h\n",
            "\n"
          ]
        }
      ],
      "source": [
        "# Let's look at the actual data values\n",
        "if weather_data:\n",
        "    daily = weather_data['daily']\n",
        "    \n",
        "    print(\"📋 Sample of the weather data:\")\n",
        "    print(\"=\"*50)\n",
        "    \n",
        "    # Show first 5 days\n",
        "    for i in range(min(5, len(daily['time']))):\n",
        "        date = daily['time'][i]\n",
        "        temp_min = daily['temperature_2m_min'][i]\n",
        "        temp_max = daily['temperature_2m_max'][i]\n",
        "        temp_mean = daily['temperature_2m_mean'][i]\n",
        "        humidity = daily['relative_humidity_2m_mean'][i]\n",
        "        precipitation = daily['precipitation_sum'][i]\n",
        "        wind = daily['wind_speed_10m_max'][i]\n",
        "        \n",
        "        print(f\"📅 {date}\")\n",
        "        print(f\"   🌡️  Temp: {temp_min:.1f}°C to {temp_max:.1f}°C (avg: {temp_mean:.1f}°C)\")\n",
        "        print(f\"   💧 Humidity: {humidity:.1f}%\")\n",
        "        print(f\"   🌧️  Precipitation: {precipitation:.1f}mm\")\n",
        "        print(f\"   💨 Wind: {wind:.1f}km/h\")\n",
        "        print()\n"
      ]
    },
    {
      "cell_type": "markdown",
      "metadata": {},
      "source": [
        "## Apply to Your Mushroom Data\n",
        "\n",
        "Now let's see how to use this with your actual mushroom observation data.\n"
      ]
    },
    {
      "cell_type": "code",
      "execution_count": null,
      "metadata": {},
      "outputs": [],
      "source": [
        "\n"
      ]
    },
    {
      "cell_type": "markdown",
      "metadata": {},
      "source": [
        "## Add 15-Day Weather History to Mushroom Dataset\n",
        "\n",
        "Now let's create a function that adds weather data for the past 15 days (P1 = today, P15 = 14 days ago) for each observation in your dataset.\n"
      ]
    },
    {
      "cell_type": "code",
      "execution_count": 21,
      "metadata": {},
      "outputs": [
        {
          "name": "stdout",
          "output_type": "stream",
          "text": [
            "🧪 Testing 15-day weather function...\n",
            "✅ Function works! Sample columns:\n",
            "   tmin_P1: 16.4\n",
            "   tmin_P2: 16.1\n",
            "   tmin_P3: 15.6\n",
            "   tmin_P4: 15.3\n",
            "   tmin_P5: 15.5\n",
            "   tmin_P6: 14.1\n",
            "   tmin_P7: 14.5\n",
            "   tmin_P8: 14.7\n",
            "   tmin_P9: 13.9\n",
            "   tmin_P10: 13.7\n",
            "📊 Total columns created: 90\n"
          ]
        }
      ],
      "source": [
        "def get_15day_weather_history(lat, lon, observation_date):\n",
        "    \"\"\"\n",
        "    Get weather data for the 15 days leading up to and including the observation date\n",
        "    P1 = observation date, P2 = 1 day before, ..., P15 = 14 days before\n",
        "    \"\"\"\n",
        "    from datetime import datetime, timedelta\n",
        "    \n",
        "    # Parse the observation date\n",
        "    if isinstance(observation_date, str):\n",
        "        # Handle different date formats\n",
        "        try:\n",
        "            if 'T' in observation_date or '+' in observation_date:\n",
        "                # ISO format with timezone\n",
        "                obs_date = pd.to_datetime(observation_date).date()\n",
        "            else:\n",
        "                obs_date = pd.to_datetime(observation_date).date()\n",
        "        except:\n",
        "            print(f\"⚠️ Could not parse date: {observation_date}\")\n",
        "            return None\n",
        "    else:\n",
        "        obs_date = observation_date\n",
        "    \n",
        "    # Calculate date range (15 days ending on observation date)\n",
        "    end_date = obs_date\n",
        "    start_date = obs_date - timedelta(days=14)\n",
        "    \n",
        "    # Get weather data\n",
        "    weather_data = get_weather_data(lat, lon, start_date.strftime('%Y-%m-%d'), end_date.strftime('%Y-%m-%d'))\n",
        "    \n",
        "    if weather_data and 'daily' in weather_data:\n",
        "        daily = weather_data['daily']\n",
        "        \n",
        "        # Create result dictionary with P1-P15 columns\n",
        "        result = {}\n",
        "        weather_vars = ['tmin', 'tmax', 'temp', 'rel_humidity', 'precipitation', 'wind_speed']\n",
        "        api_vars = ['temperature_2m_min', 'temperature_2m_max', 'temperature_2m_mean', \n",
        "                   'relative_humidity_2m_mean', 'precipitation_sum', 'wind_speed_10m_max']\n",
        "        \n",
        "        # Map API variables to our variable names\n",
        "        var_mapping = dict(zip(api_vars, weather_vars))\n",
        "        \n",
        "        for api_var, our_var in var_mapping.items():\n",
        "            if api_var in daily:\n",
        "                values = daily[api_var]\n",
        "                # P1 is the most recent (observation day), P15 is 14 days ago\n",
        "                # So we reverse the order since API returns chronological order\n",
        "                values = list(reversed(values))\n",
        "                \n",
        "                for i in range(min(15, len(values))):\n",
        "                    col_name = f\"{our_var}_P{i+1}\"\n",
        "                    result[col_name] = values[i] if i < len(values) else None\n",
        "        \n",
        "        return result\n",
        "    \n",
        "    return None\n",
        "\n",
        "# Test the function\n",
        "print(\"🧪 Testing 15-day weather function...\")\n",
        "test_result = get_15day_weather_history(43.318, 11.330, \"2023-09-15\")\n",
        "if test_result:\n",
        "    print(\"✅ Function works! Sample columns:\")\n",
        "    for key in list(test_result.keys())[:10]:  # Show first 10 columns\n",
        "        print(f\"   {key}: {test_result[key]}\")\n",
        "    print(f\"📊 Total columns created: {len(test_result)}\")\n",
        "else:\n",
        "    print(\"❌ Function test failed\")\n"
      ]
    },
    {
      "cell_type": "code",
      "execution_count": 22,
      "metadata": {},
      "outputs": [
        {
          "name": "stdout",
          "output_type": "stream",
          "text": [
            "📂 Loading your mushroom dataset...\n",
            "📊 Dataset shape: (10000, 9)\n",
            "📋 Columns: ['Unnamed: 0', 'species', 'location', 'observed_on', 'y', 'x', 'elevation', 'aspect', 'LC']\n",
            "\n",
            "🔍 First few rows:\n",
            "   Unnamed: 0         species                          location  \\\n",
            "0           0  Boletus edulis    (60.2299535805, 29.9891631234)   \n",
            "1           1  Boletus edulis  (40.3352794963, -105.6781500558)   \n",
            "\n",
            "                 observed_on          y           x  elevation      aspect  \\\n",
            "0  2012-08-11 12:53:00+04:00  60.229954   29.989163       88.0  202.955841   \n",
            "1  2010-08-07 13:31:00-06:00  40.335279 -105.678150     2941.0  158.927826   \n",
            "\n",
            "      LC  \n",
            "0  128.0  \n",
            "1    NaN  \n",
            "✅ Found coordinates: y (latitude) and x (longitude)\n",
            "📍 Coordinate ranges:\n",
            "   Latitude: -46.074 to 70.336\n",
            "   Longitude: -155.921 to 174.993\n"
          ]
        }
      ],
      "source": [
        "# Load the actual dataset\n",
        "print(\"📂 Loading your mushroom dataset...\")\n",
        "df = pd.read_csv('data/inaturalist_boletus_edulis_with_el_aspect_corine.csv')\n",
        "\n",
        "print(f\"📊 Dataset shape: {df.shape}\")\n",
        "print(f\"📋 Columns: {list(df.columns)}\")\n",
        "print(f\"\\n🔍 First few rows:\")\n",
        "print(df.head(2))\n",
        "\n",
        "# Check coordinate columns\n",
        "if 'y' in df.columns and 'x' in df.columns:\n",
        "    print(f\"✅ Found coordinates: y (latitude) and x (longitude)\")\n",
        "    print(f\"📍 Coordinate ranges:\")\n",
        "    print(f\"   Latitude: {df['y'].min():.3f} to {df['y'].max():.3f}\")\n",
        "    print(f\"   Longitude: {df['x'].min():.3f} to {df['x'].max():.3f}\")\n",
        "else:\n",
        "    print(\"❌ No coordinate columns found\")\n"
      ]
    },
    {
      "cell_type": "code",
      "execution_count": 23,
      "metadata": {},
      "outputs": [
        {
          "name": "stdout",
          "output_type": "stream",
          "text": [
            "🧪 Testing with first 3 rows...\n",
            "🔬 Processing first 3 rows for testing...\n",
            "🌦️ Adding weather data for 3 observations...\n",
            "📊 This will add 90 = 90 new columns\n"
          ]
        },
        {
          "name": "stderr",
          "output_type": "stream",
          "text": [
            "Fetching weather: 100%|██████████| 3/3 [00:02<00:00,  1.27it/s]"
          ]
        },
        {
          "name": "stdout",
          "output_type": "stream",
          "text": [
            "✅ Weather data fetching complete!\n",
            "📈 Successful: 3\n",
            "❌ Failed: 0\n",
            "📊 Success rate: 100.0%\n"
          ]
        },
        {
          "name": "stderr",
          "output_type": "stream",
          "text": [
            "\n"
          ]
        }
      ],
      "source": [
        "def add_weather_to_dataset(df, max_rows=None, delay_between_requests=0.1):\n",
        "    \"\"\"\n",
        "    Add 15-day weather history to the mushroom dataset\n",
        "    \n",
        "    Parameters:\n",
        "    - df: DataFrame with columns 'y' (lat), 'x' (lon), 'observed_on'\n",
        "    - max_rows: Maximum number of rows to process (for testing)\n",
        "    - delay_between_requests: Delay in seconds between API calls to be respectful\n",
        "    \"\"\"\n",
        "    import time\n",
        "    from tqdm import tqdm\n",
        "    \n",
        "    # Create a copy of the dataframe\n",
        "    result_df = df.copy()\n",
        "    \n",
        "    # Limit rows for testing if specified\n",
        "    if max_rows:\n",
        "        result_df = result_df.head(max_rows)\n",
        "        print(f\"🔬 Processing first {max_rows} rows for testing...\")\n",
        "    \n",
        "    # Initialize all weather columns with NaN\n",
        "    weather_vars = ['tmin', 'tmax', 'temp', 'rel_humidity', 'precipitation', 'wind_speed']\n",
        "    for var in weather_vars:\n",
        "        for day in range(1, 16):  # P1 to P15\n",
        "            col_name = f\"{var}_P{day}\"\n",
        "            result_df[col_name] = np.nan\n",
        "    \n",
        "    print(f\"🌦️ Adding weather data for {len(result_df)} observations...\")\n",
        "    print(f\"📊 This will add {len(weather_vars) * 15} = {len(weather_vars) * 15} new columns\")\n",
        "    \n",
        "    # Track progress\n",
        "    successful = 0\n",
        "    failed = 0\n",
        "    \n",
        "    # Process each observation\n",
        "    for idx, row in tqdm(result_df.iterrows(), total=len(result_df), desc=\"Fetching weather\"):\n",
        "        try:\n",
        "            lat = row['y']\n",
        "            lon = row['x'] \n",
        "            obs_date = row['observed_on']\n",
        "            \n",
        "            # Get weather data for this observation\n",
        "            weather_data = get_15day_weather_history(lat, lon, obs_date)\n",
        "            \n",
        "            if weather_data:\n",
        "                # Add weather data to the row\n",
        "                for col_name, value in weather_data.items():\n",
        "                    if col_name in result_df.columns:\n",
        "                        result_df.at[idx, col_name] = value\n",
        "                successful += 1\n",
        "            else:\n",
        "                failed += 1\n",
        "                if failed <= 5:  # Only print first few failures\n",
        "                    print(f\"⚠️ Failed to get weather for row {idx}: lat={lat}, lon={lon}, date={obs_date}\")\n",
        "            \n",
        "            # Be respectful to the API\n",
        "            if delay_between_requests > 0:\n",
        "                time.sleep(delay_between_requests)\n",
        "                \n",
        "        except Exception as e:\n",
        "            failed += 1\n",
        "            if failed <= 5:\n",
        "                print(f\"❌ Error processing row {idx}: {e}\")\n",
        "    \n",
        "    print(f\"✅ Weather data fetching complete!\")\n",
        "    print(f\"📈 Successful: {successful}\")\n",
        "    print(f\"❌ Failed: {failed}\")\n",
        "    print(f\"📊 Success rate: {successful/(successful+failed)*100:.1f}%\")\n",
        "    \n",
        "    return result_df\n",
        "\n",
        "# Test with a small sample first\n",
        "print(\"🧪 Testing with first 3 rows...\")\n",
        "test_df = add_weather_to_dataset(df, max_rows=3, delay_between_requests=0.5)\n"
      ]
    },
    {
      "cell_type": "code",
      "execution_count": 24,
      "metadata": {},
      "outputs": [
        {
          "name": "stdout",
          "output_type": "stream",
          "text": [
            "🔍 Examining test results...\n",
            "📊 New shape: (3, 99)\n",
            "🌦️ Weather columns added: 90\n",
            "📋 Sample weather columns: ['tmin_P1', 'tmin_P2', 'tmin_P3', 'tmin_P4', 'tmin_P5', 'tmin_P6', 'tmin_P7', 'tmin_P8', 'tmin_P9', 'tmin_P10']\n",
            "\n",
            "📝 Sample weather data for first observation:\n",
            "📅 Date: 2012-08-11 12:53:00+04:00\n",
            "📍 Location: (60.230, 29.989)\n",
            "   temp_P1: 12.0°C\n",
            "   temp_P2: 11.3°C\n",
            "   temp_P3: 11.7°C\n",
            "   temp_P4: 14.9°C\n",
            "   temp_P5: 17.7°C\n",
            "\n",
            "✅ Test successful! Ready to process the full dataset.\n"
          ]
        }
      ],
      "source": [
        "# Check the results of the test\n",
        "if 'test_df' in locals():\n",
        "    print(\"🔍 Examining test results...\")\n",
        "    print(f\"📊 New shape: {test_df.shape}\")\n",
        "    \n",
        "    # Show the new weather columns\n",
        "    weather_cols = [col for col in test_df.columns if any(var in col for var in ['tmin_P', 'tmax_P', 'temp_P', 'rel_humidity_P', 'precipitation_P', 'wind_speed_P'])]\n",
        "    print(f\"🌦️ Weather columns added: {len(weather_cols)}\")\n",
        "    print(f\"📋 Sample weather columns: {weather_cols[:10]}\")\n",
        "    \n",
        "    # Show sample data for first row\n",
        "    if len(test_df) > 0:\n",
        "        print(f\"\\n📝 Sample weather data for first observation:\")\n",
        "        first_row = test_df.iloc[0]\n",
        "        print(f\"📅 Date: {first_row['observed_on']}\")\n",
        "        print(f\"📍 Location: ({first_row['y']:.3f}, {first_row['x']:.3f})\")\n",
        "        \n",
        "        # Show temperature data P1-P5\n",
        "        temp_data = [(col, first_row[col]) for col in weather_cols if 'temp_P' in col][:5]\n",
        "        for col, val in temp_data:\n",
        "            print(f\"   {col}: {val}°C\" if pd.notna(val) else f\"   {col}: No data\")\n",
        "    \n",
        "    print(\"\\n✅ Test successful! Ready to process the full dataset.\")\n"
      ]
    },
    {
      "cell_type": "markdown",
      "metadata": {},
      "source": [
        "## Process Full Dataset\n",
        "\n",
        "**⚠️ Important:** The full dataset has ~10,000 observations. This will take a significant amount of time (several hours) due to API rate limiting. The script is designed to be respectful to the free API service.\n",
        "\n",
        "**💡 Tip:** You might want to process in batches or run this overnight.\n"
      ]
    },
    {
      "cell_type": "code",
      "execution_count": null,
      "metadata": {},
      "outputs": [
        {
          "name": "stdout",
          "output_type": "stream",
          "text": [
            "📝 Creating a sample dataset (100 rows) for demonstration...\n",
            "🌦️ Adding weather data for 100 observations...\n",
            "📊 This will add 90 = 90 new columns\n"
          ]
        },
        {
          "name": "stderr",
          "output_type": "stream",
          "text": [
            "Fetching weather:  41%|████      | 41/100 [00:15<00:19,  3.06it/s]"
          ]
        },
        {
          "name": "stdout",
          "output_type": "stream",
          "text": [
            "Error fetching weather data: 400 Client Error: Bad Request for url: https://archive-api.open-meteo.com/v1/archive?latitude=nan&longitude=nan&start_date=2024-03-16&end_date=2024-03-30&daily=temperature_2m_min&daily=temperature_2m_max&daily=temperature_2m_mean&daily=relative_humidity_2m_mean&daily=precipitation_sum&daily=wind_speed_10m_max&timezone=auto\n",
            "⚠️ Failed to get weather for row 40: lat=nan, lon=nan, date=2024-03-30 17:24:06+13:00\n"
          ]
        },
        {
          "name": "stderr",
          "output_type": "stream",
          "text": [
            "Fetching weather:  45%|████▌     | 45/100 [00:17<00:17,  3.15it/s]"
          ]
        }
      ],
      "source": [
        "# UNCOMMENT THIS BLOCK TO PROCESS THE FULL DATASET\n",
        "# WARNING: This will take several hours to complete!\n",
        "\n",
        "\"\"\"\n",
        "# Process the full dataset\n",
        "print(\"🚀 Starting full dataset processing...\")\n",
        "print(f\"📊 Total observations to process: {len(df)}\")\n",
        "print(\"⏰ Estimated time: Several hours (with API delays)\")\n",
        "\n",
        "# Process with a small delay to be respectful to the free API\n",
        "final_df = add_weather_to_dataset(df, delay_between_requests=0.2)\n",
        "\n",
        "# Save the results\n",
        "output_file = 'data/inaturalist_boletus_edulis_with_el_aspect_corine_weather.csv'\n",
        "final_df.to_csv(output_file, index=False)\n",
        "\n",
        "print(f\"✅ Complete! Saved to: {output_file}\")\n",
        "print(f\"📊 Final dataset shape: {final_df.shape}\")\n",
        "print(f\"🌦️ Weather variables added: tmin, tmax, temp, rel_humidity, precipitation, wind_speed\")\n",
        "print(f\"📅 For each variable: P1 (observation day) through P15 (14 days before)\")\n",
        "\"\"\"\n",
        "\n",
        "# For now, let's create a smaller sample for demonstration\n",
        "print(\"📝 Creating a sample dataset (100 rows) for demonstration...\")\n",
        "sample_df = add_weather_to_dataset(df.head(100), delay_between_requests=0.1)\n",
        "\n",
        "# Save the sample\n",
        "sample_output = 'data/sample_mushrooms_with_weather.csv'\n",
        "sample_df.to_csv(sample_output, index=False)\n",
        "print(f\"✅ Sample saved to: {sample_output}\")\n",
        "\n",
        "print(f\"\\n📊 Sample dataset summary:\")\n",
        "print(f\"   Shape: {sample_df.shape}\")\n",
        "print(f\"   Original columns: {len(df.columns)}\")\n",
        "print(f\"   New columns added: {len(sample_df.columns) - len(df.columns)}\")\n",
        "print(f\"   Weather variables: 6 (tmin, tmax, temp, rel_humidity, precipitation, wind_speed)\")\n",
        "print(f\"   Days per variable: 15 (P1-P15)\")\n",
        "print(f\"   Total weather columns: 6 × 15 = 90\")\n"
      ]
    },
    {
      "cell_type": "markdown",
      "metadata": {},
      "source": [
        "## How to Run the Full Dataset\n",
        "\n",
        "To process your complete dataset (~10,000 observations), uncomment the code block above and run it. Here's what it will do:\n",
        "\n",
        "**📊 Input:** `data/inaturalist_boletus_edulis_with_el_aspect_corine.csv` (9 columns)  \n",
        "**📋 Output:** `data/inaturalist_boletus_edulis_with_el_aspect_corine_weather.csv` (99 columns)\n",
        "\n",
        "**🌦️ Weather Variables Added:**\n",
        "- `tmin_P1` to `tmin_P15` - Daily minimum temperature (°C)\n",
        "- `tmax_P1` to `tmax_P15` - Daily maximum temperature (°C)  \n",
        "- `temp_P1` to `temp_P15` - Daily mean temperature (°C)\n",
        "- `rel_humidity_P1` to `rel_humidity_P15` - Daily mean relative humidity (%)\n",
        "- `precipitation_P1` to `precipitation_P15` - Daily precipitation sum (mm)\n",
        "- `wind_speed_P1` to `wind_speed_P15` - Daily max wind speed (km/h)\n",
        "\n",
        "**📅 Time Period Meaning:**\n",
        "- `P1` = Weather on the observation date  \n",
        "- `P2` = Weather 1 day before observation\n",
        "- `P3` = Weather 2 days before observation\n",
        "- ...\n",
        "- `P15` = Weather 14 days before observation\n",
        "\n",
        "**⏱️ Processing Time:** Approximately 3-5 hours (with API rate limiting)\n",
        "\n",
        "**💾 File Size:** The output file will be approximately 50-100MB\n"
      ]
    },
    {
      "cell_type": "code",
      "execution_count": null,
      "metadata": {},
      "outputs": [],
      "source": []
    }
  ],
  "metadata": {
    "kernelspec": {
      "display_name": "gchm",
      "language": "python",
      "name": "python3"
    },
    "language_info": {
      "codemirror_mode": {
        "name": "ipython",
        "version": 3
      },
      "file_extension": ".py",
      "mimetype": "text/x-python",
      "name": "python",
      "nbconvert_exporter": "python",
      "pygments_lexer": "ipython3",
      "version": "3.9.23"
    }
  },
  "nbformat": 4,
  "nbformat_minor": 2
}
